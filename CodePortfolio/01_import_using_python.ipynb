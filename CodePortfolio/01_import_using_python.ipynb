{
 "cells": [
  {
   "cell_type": "markdown",
   "metadata": {},
   "source": [
    "Import using Python\n",
    "\n",
    "I590 - Applied Data Science\n",
    "\n",
    "Created by Vivek Vijayaraghavan\n",
    "\n",
    "Date: 04/04/2019\n",
    "\n",
    "Objective: Code Portfolio for Import using python"
   ]
  },
  {
   "cell_type": "markdown",
   "metadata": {
    "toc": true
   },
   "source": [
    "<h1>Table of Contents<span class=\"tocSkip\"></span></h1>\n",
    "<div class=\"toc\"><ul class=\"toc-item\"><li><span><a href=\"#Import-using-python\" data-toc-modified-id=\"Import-using-python-1\"><span class=\"toc-item-num\">1&nbsp;&nbsp;</span>Import using python</a></span><ul class=\"toc-item\"><li><span><a href=\"#Overview\" data-toc-modified-id=\"Overview-1.1\"><span class=\"toc-item-num\">1.1&nbsp;&nbsp;</span>Overview</a></span></li><li><span><a href=\"#Pre-Requisites\" data-toc-modified-id=\"Pre-Requisites-1.2\"><span class=\"toc-item-num\">1.2&nbsp;&nbsp;</span>Pre-Requisites</a></span></li><li><span><a href=\"#References\" data-toc-modified-id=\"References-1.3\"><span class=\"toc-item-num\">1.3&nbsp;&nbsp;</span>References</a></span></li></ul></li><li><span><a href=\"#Data-Import\" data-toc-modified-id=\"Data-Import-2\"><span class=\"toc-item-num\">2&nbsp;&nbsp;</span>Data Import</a></span><ul class=\"toc-item\"><li><span><a href=\"#Import-data-from-files\" data-toc-modified-id=\"Import-data-from-files-2.1\"><span class=\"toc-item-num\">2.1&nbsp;&nbsp;</span>Import data from files</a></span></li><li><span><a href=\"#Import-data-from-web\" data-toc-modified-id=\"Import-data-from-web-2.2\"><span class=\"toc-item-num\">2.2&nbsp;&nbsp;</span>Import data from web</a></span><ul class=\"toc-item\"><li><span><a href=\"#Import-using-a-WebAPI\" data-toc-modified-id=\"Import-using-a-WebAPI-2.2.1\"><span class=\"toc-item-num\">2.2.1&nbsp;&nbsp;</span>Import using a WebAPI</a></span></li><li><span><a href=\"#Importing-JSON-data-using-WebAPI\" data-toc-modified-id=\"Importing-JSON-data-using-WebAPI-2.2.2\"><span class=\"toc-item-num\">2.2.2&nbsp;&nbsp;</span>Importing JSON data using WebAPI</a></span></li></ul></li><li><span><a href=\"#JSON-Strings\" data-toc-modified-id=\"JSON-Strings-2.3\"><span class=\"toc-item-num\">2.3&nbsp;&nbsp;</span>JSON Strings</a></span></li><li><span><a href=\"#Import-data-from-databases\" data-toc-modified-id=\"Import-data-from-databases-2.4\"><span class=\"toc-item-num\">2.4&nbsp;&nbsp;</span>Import data from databases</a></span></li><li><span><a href=\"#Importing-datasets\" data-toc-modified-id=\"Importing-datasets-2.5\"><span class=\"toc-item-num\">2.5&nbsp;&nbsp;</span>Importing datasets</a></span></li><li><span><a href=\"#Importing-RData-files\" data-toc-modified-id=\"Importing-RData-files-2.6\"><span class=\"toc-item-num\">2.6&nbsp;&nbsp;</span>Importing RData files</a></span></li></ul></li><li><span><a href=\"#Data-Structures\" data-toc-modified-id=\"Data-Structures-3\"><span class=\"toc-item-num\">3&nbsp;&nbsp;</span>Data Structures</a></span><ul class=\"toc-item\"><li><span><a href=\"#Lists\" data-toc-modified-id=\"Lists-3.1\"><span class=\"toc-item-num\">3.1&nbsp;&nbsp;</span>Lists</a></span></li><li><span><a href=\"#Tuples\" data-toc-modified-id=\"Tuples-3.2\"><span class=\"toc-item-num\">3.2&nbsp;&nbsp;</span>Tuples</a></span></li><li><span><a href=\"#Dataframes\" data-toc-modified-id=\"Dataframes-3.3\"><span class=\"toc-item-num\">3.3&nbsp;&nbsp;</span>Dataframes</a></span></li><li><span><a href=\"#Loops-&amp;-Functions\" data-toc-modified-id=\"Loops-&amp;-Functions-3.4\"><span class=\"toc-item-num\">3.4&nbsp;&nbsp;</span>Loops &amp; Functions</a></span></li></ul></li></ul></div>"
   ]
  },
  {
   "cell_type": "markdown",
   "metadata": {},
   "source": [
    "# Import using python"
   ]
  },
  {
   "cell_type": "markdown",
   "metadata": {},
   "source": [
    "## Overview\n",
    "In this section we will cover the various ways dtaa can be imported for processing within python. We will start with creating data manually and end with impirt data from databases as well as external sources such as the web."
   ]
  },
  {
   "cell_type": "markdown",
   "metadata": {},
   "source": [
    "## Pre-Requisites\n"
   ]
  },
  {
   "cell_type": "code",
   "execution_count": 1,
   "metadata": {},
   "outputs": [],
   "source": [
    "# Import Libraries\n",
    "import pandas as pd\n",
    "import numpy as np\n",
    "import requests\n",
    "import io\n",
    "import random\n",
    "random.random()\n",
    "import datetime\n",
    "import json\n",
    "import pyreadr"
   ]
  },
  {
   "cell_type": "markdown",
   "metadata": {},
   "source": [
    "## References\n",
    " - [Python 4 Everybody](https://www.py4e.com/book)\n",
    " - [Python Software Foundation. 2016.](https://docs.python.org/3/faq/general.html#what-is-python) "
   ]
  },
  {
   "cell_type": "markdown",
   "metadata": {},
   "source": [
    "# Data Import"
   ]
  },
  {
   "cell_type": "markdown",
   "metadata": {},
   "source": [
    "## Import data from files"
   ]
  },
  {
   "cell_type": "code",
   "execution_count": 2,
   "metadata": {},
   "outputs": [
    {
     "data": {
      "text/html": [
       "<div>\n",
       "<style scoped>\n",
       "    .dataframe tbody tr th:only-of-type {\n",
       "        vertical-align: middle;\n",
       "    }\n",
       "\n",
       "    .dataframe tbody tr th {\n",
       "        vertical-align: top;\n",
       "    }\n",
       "\n",
       "    .dataframe thead th {\n",
       "        text-align: right;\n",
       "    }\n",
       "</style>\n",
       "<table border=\"1\" class=\"dataframe\">\n",
       "  <thead>\n",
       "    <tr style=\"text-align: right;\">\n",
       "      <th></th>\n",
       "      <th>earn</th>\n",
       "      <th>height</th>\n",
       "      <th>sex</th>\n",
       "      <th>ed</th>\n",
       "      <th>age</th>\n",
       "      <th>race</th>\n",
       "    </tr>\n",
       "  </thead>\n",
       "  <tbody>\n",
       "    <tr>\n",
       "      <th>0</th>\n",
       "      <td>50000.0</td>\n",
       "      <td>74.424439</td>\n",
       "      <td>male</td>\n",
       "      <td>16</td>\n",
       "      <td>45</td>\n",
       "      <td>white</td>\n",
       "    </tr>\n",
       "    <tr>\n",
       "      <th>1</th>\n",
       "      <td>60000.0</td>\n",
       "      <td>65.537543</td>\n",
       "      <td>female</td>\n",
       "      <td>16</td>\n",
       "      <td>58</td>\n",
       "      <td>white</td>\n",
       "    </tr>\n",
       "    <tr>\n",
       "      <th>2</th>\n",
       "      <td>30000.0</td>\n",
       "      <td>63.629198</td>\n",
       "      <td>female</td>\n",
       "      <td>16</td>\n",
       "      <td>29</td>\n",
       "      <td>white</td>\n",
       "    </tr>\n",
       "    <tr>\n",
       "      <th>3</th>\n",
       "      <td>50000.0</td>\n",
       "      <td>63.108562</td>\n",
       "      <td>female</td>\n",
       "      <td>16</td>\n",
       "      <td>91</td>\n",
       "      <td>other</td>\n",
       "    </tr>\n",
       "    <tr>\n",
       "      <th>4</th>\n",
       "      <td>51000.0</td>\n",
       "      <td>63.402484</td>\n",
       "      <td>female</td>\n",
       "      <td>17</td>\n",
       "      <td>39</td>\n",
       "      <td>white</td>\n",
       "    </tr>\n",
       "  </tbody>\n",
       "</table>\n",
       "</div>"
      ],
      "text/plain": [
       "      earn     height     sex  ed  age   race\n",
       "0  50000.0  74.424439    male  16   45  white\n",
       "1  60000.0  65.537543  female  16   58  white\n",
       "2  30000.0  63.629198  female  16   29  white\n",
       "3  50000.0  63.108562  female  16   91  other\n",
       "4  51000.0  63.402484  female  17   39  white"
      ]
     },
     "execution_count": 2,
     "metadata": {},
     "output_type": "execute_result"
    }
   ],
   "source": [
    "# Reading a csv file with headers\n",
    "df1 = pd.read_csv(\"./data/heights.csv\")\n",
    "df1.head()"
   ]
  },
  {
   "cell_type": "code",
   "execution_count": 3,
   "metadata": {},
   "outputs": [
    {
     "data": {
      "text/html": [
       "<div>\n",
       "<style scoped>\n",
       "    .dataframe tbody tr th:only-of-type {\n",
       "        vertical-align: middle;\n",
       "    }\n",
       "\n",
       "    .dataframe tbody tr th {\n",
       "        vertical-align: top;\n",
       "    }\n",
       "\n",
       "    .dataframe thead th {\n",
       "        text-align: right;\n",
       "    }\n",
       "</style>\n",
       "<table border=\"1\" class=\"dataframe\">\n",
       "  <thead>\n",
       "    <tr style=\"text-align: right;\">\n",
       "      <th></th>\n",
       "      <th>0</th>\n",
       "      <th>1</th>\n",
       "      <th>2</th>\n",
       "      <th>3</th>\n",
       "      <th>4</th>\n",
       "      <th>5</th>\n",
       "    </tr>\n",
       "  </thead>\n",
       "  <tbody>\n",
       "    <tr>\n",
       "      <th>0</th>\n",
       "      <td>50000.0</td>\n",
       "      <td>74.424439</td>\n",
       "      <td>male</td>\n",
       "      <td>16</td>\n",
       "      <td>45</td>\n",
       "      <td>white</td>\n",
       "    </tr>\n",
       "    <tr>\n",
       "      <th>1</th>\n",
       "      <td>60000.0</td>\n",
       "      <td>65.537543</td>\n",
       "      <td>female</td>\n",
       "      <td>16</td>\n",
       "      <td>58</td>\n",
       "      <td>white</td>\n",
       "    </tr>\n",
       "    <tr>\n",
       "      <th>2</th>\n",
       "      <td>30000.0</td>\n",
       "      <td>63.629198</td>\n",
       "      <td>female</td>\n",
       "      <td>16</td>\n",
       "      <td>29</td>\n",
       "      <td>white</td>\n",
       "    </tr>\n",
       "    <tr>\n",
       "      <th>3</th>\n",
       "      <td>50000.0</td>\n",
       "      <td>63.108562</td>\n",
       "      <td>female</td>\n",
       "      <td>16</td>\n",
       "      <td>91</td>\n",
       "      <td>other</td>\n",
       "    </tr>\n",
       "    <tr>\n",
       "      <th>4</th>\n",
       "      <td>51000.0</td>\n",
       "      <td>63.402484</td>\n",
       "      <td>female</td>\n",
       "      <td>17</td>\n",
       "      <td>39</td>\n",
       "      <td>white</td>\n",
       "    </tr>\n",
       "  </tbody>\n",
       "</table>\n",
       "</div>"
      ],
      "text/plain": [
       "         0          1       2   3   4      5\n",
       "0  50000.0  74.424439    male  16  45  white\n",
       "1  60000.0  65.537543  female  16  58  white\n",
       "2  30000.0  63.629198  female  16  29  white\n",
       "3  50000.0  63.108562  female  16  91  other\n",
       "4  51000.0  63.402484  female  17  39  white"
      ]
     },
     "execution_count": 3,
     "metadata": {},
     "output_type": "execute_result"
    }
   ],
   "source": [
    "# Reading a csv file without headers\n",
    "df2 = pd.read_csv(\"./data/heights_noheader.csv\", header=None)\n",
    "df2.head()"
   ]
  },
  {
   "cell_type": "code",
   "execution_count": 4,
   "metadata": {},
   "outputs": [
    {
     "data": {
      "text/html": [
       "<div>\n",
       "<style scoped>\n",
       "    .dataframe tbody tr th:only-of-type {\n",
       "        vertical-align: middle;\n",
       "    }\n",
       "\n",
       "    .dataframe tbody tr th {\n",
       "        vertical-align: top;\n",
       "    }\n",
       "\n",
       "    .dataframe thead th {\n",
       "        text-align: right;\n",
       "    }\n",
       "</style>\n",
       "<table border=\"1\" class=\"dataframe\">\n",
       "  <thead>\n",
       "    <tr style=\"text-align: right;\">\n",
       "      <th></th>\n",
       "      <th>earn</th>\n",
       "      <th>height</th>\n",
       "      <th>sex</th>\n",
       "      <th>ed</th>\n",
       "      <th>age</th>\n",
       "      <th>race</th>\n",
       "    </tr>\n",
       "  </thead>\n",
       "  <tbody>\n",
       "    <tr>\n",
       "      <th>0</th>\n",
       "      <td>50000.0</td>\n",
       "      <td>74.424439</td>\n",
       "      <td>male</td>\n",
       "      <td>16</td>\n",
       "      <td>45</td>\n",
       "      <td>white</td>\n",
       "    </tr>\n",
       "    <tr>\n",
       "      <th>1</th>\n",
       "      <td>60000.0</td>\n",
       "      <td>65.537543</td>\n",
       "      <td>female</td>\n",
       "      <td>16</td>\n",
       "      <td>58</td>\n",
       "      <td>white</td>\n",
       "    </tr>\n",
       "    <tr>\n",
       "      <th>2</th>\n",
       "      <td>30000.0</td>\n",
       "      <td>63.629198</td>\n",
       "      <td>female</td>\n",
       "      <td>16</td>\n",
       "      <td>29</td>\n",
       "      <td>white</td>\n",
       "    </tr>\n",
       "    <tr>\n",
       "      <th>3</th>\n",
       "      <td>50000.0</td>\n",
       "      <td>63.108562</td>\n",
       "      <td>female</td>\n",
       "      <td>16</td>\n",
       "      <td>91</td>\n",
       "      <td>other</td>\n",
       "    </tr>\n",
       "    <tr>\n",
       "      <th>4</th>\n",
       "      <td>51000.0</td>\n",
       "      <td>63.402484</td>\n",
       "      <td>female</td>\n",
       "      <td>17</td>\n",
       "      <td>39</td>\n",
       "      <td>white</td>\n",
       "    </tr>\n",
       "  </tbody>\n",
       "</table>\n",
       "</div>"
      ],
      "text/plain": [
       "      earn     height     sex  ed  age   race\n",
       "0  50000.0  74.424439    male  16   45  white\n",
       "1  60000.0  65.537543  female  16   58  white\n",
       "2  30000.0  63.629198  female  16   29  white\n",
       "3  50000.0  63.108562  female  16   91  other\n",
       "4  51000.0  63.402484  female  17   39  white"
      ]
     },
     "execution_count": 4,
     "metadata": {},
     "output_type": "execute_result"
    }
   ],
   "source": [
    "# Adding column headers after reading the file...\n",
    "df2.columns = [\"earn\", \"height\", \"sex\", \"ed\", \"age\", \"race\"]\n",
    "df2.head()"
   ]
  },
  {
   "cell_type": "code",
   "execution_count": 5,
   "metadata": {},
   "outputs": [
    {
     "name": "stdout",
     "output_type": "stream",
     "text": [
      "Friday, March 11, 2016\n",
      "8:35 to 9:35 a.m.\n",
      "Barona Resort\n",
      "1932 Wildcat Canyon Road\n",
      "Lakeside, CA 92040\n",
      "643765rdddtFriday, March 11, 2016iyfutkdkyrz\n",
      "ITEM NO.\n",
      "+1.\n",
      "The Executive Committee is asked to review and approve the minutes from its\n",
      "February 12, 2016, meeting.\n",
      "+3A. Draft Board Business Agenda - March 25, 2016\n",
      "+3B. Draft Board Policy Agenda --iytdutrs April 8, 2016khnckhnc\n",
      "+4.\n"
     ]
    }
   ],
   "source": [
    "# Reading a text file, parsing the lines and printing the output\n",
    "fname = \"./data/scraping.txt\"\n",
    "try:\n",
    "    fhandle = open(fname)\n",
    "except:\n",
    "    print(\"Error. Unable to open file...\")\n",
    "    quit()\n",
    "\n",
    "# Option #1\n",
    "for line in fhandle:\n",
    "    print(line.rstrip())"
   ]
  },
  {
   "cell_type": "code",
   "execution_count": 6,
   "metadata": {},
   "outputs": [
    {
     "data": {
      "text/html": [
       "<div>\n",
       "<style scoped>\n",
       "    .dataframe tbody tr th:only-of-type {\n",
       "        vertical-align: middle;\n",
       "    }\n",
       "\n",
       "    .dataframe tbody tr th {\n",
       "        vertical-align: top;\n",
       "    }\n",
       "\n",
       "    .dataframe thead th {\n",
       "        text-align: right;\n",
       "    }\n",
       "</style>\n",
       "<table border=\"1\" class=\"dataframe\">\n",
       "  <thead>\n",
       "    <tr style=\"text-align: right;\">\n",
       "      <th></th>\n",
       "      <th>area</th>\n",
       "      <th>perimeter</th>\n",
       "      <th>compactness</th>\n",
       "      <th>length</th>\n",
       "      <th>width</th>\n",
       "      <th>asymmetry</th>\n",
       "      <th>groove_length</th>\n",
       "      <th>class</th>\n",
       "    </tr>\n",
       "  </thead>\n",
       "  <tbody>\n",
       "    <tr>\n",
       "      <th>0</th>\n",
       "      <td>15.26</td>\n",
       "      <td>14.84</td>\n",
       "      <td>0.8710</td>\n",
       "      <td>5.763</td>\n",
       "      <td>3.312</td>\n",
       "      <td>2.221</td>\n",
       "      <td>5.220</td>\n",
       "      <td>1</td>\n",
       "    </tr>\n",
       "    <tr>\n",
       "      <th>1</th>\n",
       "      <td>14.88</td>\n",
       "      <td>14.57</td>\n",
       "      <td>0.8811</td>\n",
       "      <td>5.554</td>\n",
       "      <td>3.333</td>\n",
       "      <td>1.018</td>\n",
       "      <td>4.956</td>\n",
       "      <td>1</td>\n",
       "    </tr>\n",
       "    <tr>\n",
       "      <th>2</th>\n",
       "      <td>14.29</td>\n",
       "      <td>14.09</td>\n",
       "      <td>0.9050</td>\n",
       "      <td>5.291</td>\n",
       "      <td>3.337</td>\n",
       "      <td>2.699</td>\n",
       "      <td>4.825</td>\n",
       "      <td>1</td>\n",
       "    </tr>\n",
       "    <tr>\n",
       "      <th>3</th>\n",
       "      <td>13.84</td>\n",
       "      <td>13.94</td>\n",
       "      <td>0.8955</td>\n",
       "      <td>5.324</td>\n",
       "      <td>3.379</td>\n",
       "      <td>2.259</td>\n",
       "      <td>4.805</td>\n",
       "      <td>1</td>\n",
       "    </tr>\n",
       "    <tr>\n",
       "      <th>4</th>\n",
       "      <td>16.14</td>\n",
       "      <td>14.99</td>\n",
       "      <td>0.9034</td>\n",
       "      <td>5.658</td>\n",
       "      <td>3.562</td>\n",
       "      <td>1.355</td>\n",
       "      <td>5.175</td>\n",
       "      <td>1</td>\n",
       "    </tr>\n",
       "  </tbody>\n",
       "</table>\n",
       "</div>"
      ],
      "text/plain": [
       "    area  perimeter  compactness  length  width  asymmetry  groove_length  \\\n",
       "0  15.26      14.84       0.8710   5.763  3.312      2.221          5.220   \n",
       "1  14.88      14.57       0.8811   5.554  3.333      1.018          4.956   \n",
       "2  14.29      14.09       0.9050   5.291  3.337      2.699          4.825   \n",
       "3  13.84      13.94       0.8955   5.324  3.379      2.259          4.805   \n",
       "4  16.14      14.99       0.9034   5.658  3.562      1.355          5.175   \n",
       "\n",
       "   class  \n",
       "0      1  \n",
       "1      1  \n",
       "2      1  \n",
       "3      1  \n",
       "4      1  "
      ]
     },
     "execution_count": 6,
     "metadata": {},
     "output_type": "execute_result"
    }
   ],
   "source": [
    "# Reading a tab seperated file without headers and then adding headers\n",
    "df3 = pd.read_csv(\"./data/seeds_dataset.txt\", sep='\\t', header=None)\n",
    "df3.columns = ['area', 'perimeter', 'compactness', 'length', 'width', 'asymmetry', 'groove_length', 'class']\n",
    "df3.head()"
   ]
  },
  {
   "cell_type": "markdown",
   "metadata": {},
   "source": [
    "## Import data from web"
   ]
  },
  {
   "cell_type": "markdown",
   "metadata": {},
   "source": [
    "### Import using a WebAPI"
   ]
  },
  {
   "cell_type": "code",
   "execution_count": 7,
   "metadata": {},
   "outputs": [
    {
     "data": {
      "text/html": [
       "<div>\n",
       "<style scoped>\n",
       "    .dataframe tbody tr th:only-of-type {\n",
       "        vertical-align: middle;\n",
       "    }\n",
       "\n",
       "    .dataframe tbody tr th {\n",
       "        vertical-align: top;\n",
       "    }\n",
       "\n",
       "    .dataframe thead th {\n",
       "        text-align: right;\n",
       "    }\n",
       "</style>\n",
       "<table border=\"1\" class=\"dataframe\">\n",
       "  <thead>\n",
       "    <tr style=\"text-align: right;\">\n",
       "      <th></th>\n",
       "      <th>39</th>\n",
       "      <th>State-gov</th>\n",
       "      <th>77516</th>\n",
       "      <th>Bachelors</th>\n",
       "      <th>13</th>\n",
       "      <th>Never-married</th>\n",
       "      <th>Adm-clerical</th>\n",
       "      <th>Not-in-family</th>\n",
       "      <th>White</th>\n",
       "      <th>Male</th>\n",
       "      <th>2174</th>\n",
       "      <th>0</th>\n",
       "      <th>40</th>\n",
       "      <th>United-States</th>\n",
       "      <th>&lt;=50K</th>\n",
       "    </tr>\n",
       "  </thead>\n",
       "  <tbody>\n",
       "    <tr>\n",
       "      <th>0</th>\n",
       "      <td>50</td>\n",
       "      <td>Self-emp-not-inc</td>\n",
       "      <td>83311</td>\n",
       "      <td>Bachelors</td>\n",
       "      <td>13</td>\n",
       "      <td>Married-civ-spouse</td>\n",
       "      <td>Exec-managerial</td>\n",
       "      <td>Husband</td>\n",
       "      <td>White</td>\n",
       "      <td>Male</td>\n",
       "      <td>0</td>\n",
       "      <td>0</td>\n",
       "      <td>13</td>\n",
       "      <td>United-States</td>\n",
       "      <td>&lt;=50K</td>\n",
       "    </tr>\n",
       "    <tr>\n",
       "      <th>1</th>\n",
       "      <td>38</td>\n",
       "      <td>Private</td>\n",
       "      <td>215646</td>\n",
       "      <td>HS-grad</td>\n",
       "      <td>9</td>\n",
       "      <td>Divorced</td>\n",
       "      <td>Handlers-cleaners</td>\n",
       "      <td>Not-in-family</td>\n",
       "      <td>White</td>\n",
       "      <td>Male</td>\n",
       "      <td>0</td>\n",
       "      <td>0</td>\n",
       "      <td>40</td>\n",
       "      <td>United-States</td>\n",
       "      <td>&lt;=50K</td>\n",
       "    </tr>\n",
       "    <tr>\n",
       "      <th>2</th>\n",
       "      <td>53</td>\n",
       "      <td>Private</td>\n",
       "      <td>234721</td>\n",
       "      <td>11th</td>\n",
       "      <td>7</td>\n",
       "      <td>Married-civ-spouse</td>\n",
       "      <td>Handlers-cleaners</td>\n",
       "      <td>Husband</td>\n",
       "      <td>Black</td>\n",
       "      <td>Male</td>\n",
       "      <td>0</td>\n",
       "      <td>0</td>\n",
       "      <td>40</td>\n",
       "      <td>United-States</td>\n",
       "      <td>&lt;=50K</td>\n",
       "    </tr>\n",
       "    <tr>\n",
       "      <th>3</th>\n",
       "      <td>28</td>\n",
       "      <td>Private</td>\n",
       "      <td>338409</td>\n",
       "      <td>Bachelors</td>\n",
       "      <td>13</td>\n",
       "      <td>Married-civ-spouse</td>\n",
       "      <td>Prof-specialty</td>\n",
       "      <td>Wife</td>\n",
       "      <td>Black</td>\n",
       "      <td>Female</td>\n",
       "      <td>0</td>\n",
       "      <td>0</td>\n",
       "      <td>40</td>\n",
       "      <td>Cuba</td>\n",
       "      <td>&lt;=50K</td>\n",
       "    </tr>\n",
       "    <tr>\n",
       "      <th>4</th>\n",
       "      <td>37</td>\n",
       "      <td>Private</td>\n",
       "      <td>284582</td>\n",
       "      <td>Masters</td>\n",
       "      <td>14</td>\n",
       "      <td>Married-civ-spouse</td>\n",
       "      <td>Exec-managerial</td>\n",
       "      <td>Wife</td>\n",
       "      <td>White</td>\n",
       "      <td>Female</td>\n",
       "      <td>0</td>\n",
       "      <td>0</td>\n",
       "      <td>40</td>\n",
       "      <td>United-States</td>\n",
       "      <td>&lt;=50K</td>\n",
       "    </tr>\n",
       "  </tbody>\n",
       "</table>\n",
       "</div>"
      ],
      "text/plain": [
       "   39          State-gov   77516   Bachelors   13        Never-married  \\\n",
       "0  50   Self-emp-not-inc   83311   Bachelors   13   Married-civ-spouse   \n",
       "1  38            Private  215646     HS-grad    9             Divorced   \n",
       "2  53            Private  234721        11th    7   Married-civ-spouse   \n",
       "3  28            Private  338409   Bachelors   13   Married-civ-spouse   \n",
       "4  37            Private  284582     Masters   14   Married-civ-spouse   \n",
       "\n",
       "         Adm-clerical   Not-in-family   White     Male   2174   0   40  \\\n",
       "0     Exec-managerial         Husband   White     Male      0   0   13   \n",
       "1   Handlers-cleaners   Not-in-family   White     Male      0   0   40   \n",
       "2   Handlers-cleaners         Husband   Black     Male      0   0   40   \n",
       "3      Prof-specialty            Wife   Black   Female      0   0   40   \n",
       "4     Exec-managerial            Wife   White   Female      0   0   40   \n",
       "\n",
       "    United-States   <=50K  \n",
       "0   United-States   <=50K  \n",
       "1   United-States   <=50K  \n",
       "2   United-States   <=50K  \n",
       "3            Cuba   <=50K  \n",
       "4   United-States   <=50K  "
      ]
     },
     "execution_count": 7,
     "metadata": {},
     "output_type": "execute_result"
    }
   ],
   "source": [
    "# Reading data directly from the web.\n",
    "# Here we are reading adult data using the read_table function.\n",
    "URL ='https://archive.ics.uci.edu/ml/machine-learning-databases/adult/adult.data'\n",
    "adult = pd.read_csv(URL)\n",
    "adult.head()"
   ]
  },
  {
   "cell_type": "markdown",
   "metadata": {},
   "source": [
    "### Importing JSON data using WebAPI"
   ]
  },
  {
   "cell_type": "code",
   "execution_count": 8,
   "metadata": {},
   "outputs": [
    {
     "data": {
      "text/plain": [
       "Timestamp('2017-03-22 15:16:45.433000')"
      ]
     },
     "execution_count": 8,
     "metadata": {},
     "output_type": "execute_result"
    }
   ],
   "source": [
    "pd.to_datetime(1490195805433, unit='ms')"
   ]
  },
  {
   "cell_type": "code",
   "execution_count": 9,
   "metadata": {},
   "outputs": [
    {
     "data": {
      "text/html": [
       "<div>\n",
       "<style scoped>\n",
       "    .dataframe tbody tr th:only-of-type {\n",
       "        vertical-align: middle;\n",
       "    }\n",
       "\n",
       "    .dataframe tbody tr th {\n",
       "        vertical-align: top;\n",
       "    }\n",
       "\n",
       "    .dataframe thead th {\n",
       "        text-align: right;\n",
       "    }\n",
       "</style>\n",
       "<table border=\"1\" class=\"dataframe\">\n",
       "  <thead>\n",
       "    <tr style=\"text-align: right;\">\n",
       "      <th></th>\n",
       "      <th>Timestamp</th>\n",
       "      <th>Value (Euro)</th>\n",
       "    </tr>\n",
       "  </thead>\n",
       "  <tbody>\n",
       "    <tr>\n",
       "      <th>0</th>\n",
       "      <td>2017-04-18</td>\n",
       "      <td>15.816</td>\n",
       "    </tr>\n",
       "    <tr>\n",
       "      <th>1</th>\n",
       "      <td>2017-04-19</td>\n",
       "      <td>15.792</td>\n",
       "    </tr>\n",
       "    <tr>\n",
       "      <th>2</th>\n",
       "      <td>2017-04-20</td>\n",
       "      <td>15.870</td>\n",
       "    </tr>\n",
       "    <tr>\n",
       "      <th>3</th>\n",
       "      <td>2017-04-21</td>\n",
       "      <td>15.817</td>\n",
       "    </tr>\n",
       "    <tr>\n",
       "      <th>4</th>\n",
       "      <td>2017-04-24</td>\n",
       "      <td>15.999</td>\n",
       "    </tr>\n",
       "  </tbody>\n",
       "</table>\n",
       "</div>"
      ],
      "text/plain": [
       "    Timestamp  Value (Euro)\n",
       "0  2017-04-18        15.816\n",
       "1  2017-04-19        15.792\n",
       "2  2017-04-20        15.870\n",
       "3  2017-04-21        15.817\n",
       "4  2017-04-24        15.999"
      ]
     },
     "execution_count": 9,
     "metadata": {},
     "output_type": "execute_result"
    }
   ],
   "source": [
    "# Import Currency Value for Euro (EUR) from moringstar site based on timestamp\n",
    "URL ='http://tools.morningstar.it/api/rest.svc/timeseries_price/jbyiq3rhyf?currencyId=EURtype=Morningstar&frequency=daily&startDate=2008-04-01&priceType=&outputType=COMPACTJSON&id=F00000YU62]2]0]FOITA$$ALL&applyTrackRecordExtension=true'\n",
    "r = requests.get(URL)\n",
    "df4 = pd.DataFrame(r.json())\n",
    "df4.columns = ['Timestamp', 'Value (Euro)']\n",
    "df4.Timestamp = pd.to_datetime(df4['Timestamp'], unit='ms').apply(lambda x: x.date())\n",
    "df4.head()\n"
   ]
  },
  {
   "cell_type": "markdown",
   "metadata": {},
   "source": [
    "## JSON Strings\n",
    "JavaScript Object Notation (JSON) is a lightweight data-interchange format that is easy to read and write for humans, and easy to parse and generate for computers. The JSON format is often used for serializing and transmitting structured data over a network connection. It is used primarily to transmit data between a server and web application, serving as an alternative to XML (EXtensible Markup Language). Twitter stores data in JSON. Interestingly, the Jupyter Notebook that you are working in uses a JSON format to store its data. In general, you can think of the JSON format as a store of data whose structure you do not know at the time of capture, (i.e., unstructured data).\n",
    "\n",
    "JSON is built on two structures:\n",
    "\n",
    "A collection of name or value pairs: In various languages, this is realized as an object, record, struct, dictionary, hash table, keyed list, or associative array.\n",
    "An ordered list of values: In most languages, this is realized as an array, vector, list, or sequence.\n",
    "You can read more about the JSON encoder and decoder in the Python documentation.\n",
    "\n",
    "The following example creates a JSON string, and demonstrates how Pandas can be used to read the string."
   ]
  },
  {
   "cell_type": "code",
   "execution_count": 10,
   "metadata": {},
   "outputs": [
    {
     "name": "stdout",
     "output_type": "stream",
     "text": [
      "{\n",
      "    \"address\": {\n",
      "        \"city\": \"New York\",\n",
      "        \"postalCode\": 10021,\n",
      "        \"state\": \"NY\",\n",
      "        \"streetAddress\": \"21 2nd Street\"\n",
      "    },\n",
      "    \"firstName\": \"John\",\n",
      "    \"lastName\": \"Smith\",\n",
      "    \"phoneNumbers\": [\n",
      "        \"212 555-4321\",\n",
      "        \"646 555-7654\"\n",
      "    ]\n",
      "}\n"
     ]
    }
   ],
   "source": [
    "# Create a JSON string that captures the details of John Smith from New York.\n",
    "jsonStr = '{\\\n",
    "     \"firstName\": \"John\",\\\n",
    "     \"lastName\": \"Smith\",\\\n",
    "     \"address\": {\\\n",
    "         \"streetAddress\": \"21 2nd Street\",\\\n",
    "         \"city\": \"New York\", \\\n",
    "         \"state\": \"NY\",\\\n",
    "         \"postalCode\": 10021 \\\n",
    "     }, \\\n",
    "     \"phoneNumbers\": [ \\\n",
    "         \"212 555-4321\", \\\n",
    "         \"646 555-7654\" \\\n",
    "     ]\\\n",
    " }'\n",
    "\n",
    "print(json.dumps(json.loads(jsonStr), indent=4, sort_keys=True))"
   ]
  },
  {
   "cell_type": "markdown",
   "metadata": {},
   "source": [
    "Pandas has a read_json() method that reads JSON objects into a Pandas Series or DataFrame object."
   ]
  },
  {
   "cell_type": "code",
   "execution_count": 11,
   "metadata": {},
   "outputs": [
    {
     "name": "stdout",
     "output_type": "stream",
     "text": [
      "firstName                                                    John\n",
      "lastName                                                    Smith\n",
      "address         {'streetAddress': '21 2nd Street', 'city': 'Ne...\n",
      "phoneNumbers                         [212 555-4321, 646 555-7654]\n",
      "dtype: object\n"
     ]
    }
   ],
   "source": [
    "# Read JSON-formatted data using pandas and print the dataframe.\n",
    "df = pd.read_json(jsonStr, orient='columns', typ='series')\n",
    "print(df)"
   ]
  },
  {
   "cell_type": "markdown",
   "metadata": {},
   "source": [
    "## Import data from databases"
   ]
  },
  {
   "cell_type": "code",
   "execution_count": 12,
   "metadata": {},
   "outputs": [
    {
     "name": "stdout",
     "output_type": "stream",
     "text": [
      "cwen@iupui.edu 5\n",
      "zqian@umich.edu 4\n",
      "david.horwitz@uct.ac.za 4\n",
      "louis@media.berkeley.edu 3\n",
      "gsilver@umich.edu 3\n",
      "stephen.marquard@uct.ac.za 2\n",
      "rjlowe@iupui.edu 2\n",
      "wagnermr@iupui.edu 1\n",
      "antranig@caret.cam.ac.uk 1\n",
      "gopal.ramasammycook@gmail.com 1\n"
     ]
    }
   ],
   "source": [
    "# Importing data from sqllite database...\n",
    "# The goal is to input an email dataset and identify specific email addresses\n",
    "# and for those email addresses identify the counts within the data\n",
    "# and finally print the data.\n",
    "import sqlite3\n",
    "\n",
    "# Create a database connection\n",
    "conn = sqlite3.connect('./data/emaildb.sqlite')\n",
    "cur = conn.cursor()\n",
    "\n",
    "#Drop the table if it exists..this will avoid getting table already exists error..\n",
    "cur.execute('DROP TABLE IF EXISTS Counts')\n",
    "\n",
    "# Create the table\n",
    "cur.execute('''\n",
    "CREATE TABLE Counts (email TEXT, count INTEGER)''')\n",
    "\n",
    "#Open the text file we will be loading into the database..\n",
    "fname = './data/mbox-short.txt'\n",
    "if (len(fname) < 1): fname = 'mbox-short.txt'\n",
    "fh = open(fname)\n",
    "for line in fh:\n",
    "    if not line.startswith('From: '): continue\n",
    "    pieces = line.split()\n",
    "    email = pieces[1]\n",
    "    cur.execute('SELECT count FROM Counts WHERE email = ? ', (email,))\n",
    "    row = cur.fetchone()\n",
    "    if row is None:\n",
    "        cur.execute('''INSERT INTO Counts (email, count)\n",
    "                VALUES (?, 1)''', (email,))\n",
    "    else:\n",
    "        cur.execute('UPDATE Counts SET count = count + 1 WHERE email = ?',\n",
    "                    (email,))\n",
    "    conn.commit()\n",
    "\n",
    "# https://www.sqlite.org/lang_select.html\n",
    "sqlstr = 'SELECT email, count FROM Counts ORDER BY count DESC LIMIT 10'\n",
    "\n",
    "for row in cur.execute(sqlstr):\n",
    "    print(str(row[0]), row[1])\n",
    "\n",
    "cur.close()"
   ]
  },
  {
   "cell_type": "markdown",
   "metadata": {},
   "source": [
    "## Importing datasets"
   ]
  },
  {
   "cell_type": "code",
   "execution_count": 13,
   "metadata": {},
   "outputs": [
    {
     "data": {
      "text/plain": [
       "array([[4.9, 3. , 1.4, 0.2],\n",
       "       [4.7, 3.2, 1.3, 0.2],\n",
       "       [4.6, 3.1, 1.5, 0.2],\n",
       "       [5. , 3.6, 1.4, 0.2]])"
      ]
     },
     "execution_count": 13,
     "metadata": {},
     "output_type": "execute_result"
    }
   ],
   "source": [
    "from sklearn import datasets\n",
    "iris = datasets.load_iris()\n",
    "iris.data[1:5]"
   ]
  },
  {
   "cell_type": "markdown",
   "metadata": {},
   "source": [
    "## Importing RData files\n",
    "Note that for being able to import Rdata files into Jupyter Notebook, we will first need to install pyreadr package. We do that in the terminal window as follows:\n",
    "\n",
    "pip install pyreadr\n",
    "\n",
    "Once the above is successfully run, we can then execute the following..."
   ]
  },
  {
   "cell_type": "code",
   "execution_count": 14,
   "metadata": {},
   "outputs": [
    {
     "name": "stdout",
     "output_type": "stream",
     "text": [
      "odict_keys(['iris', 'iris.wide', 'iris.wide2', 'iris.tidy'])\n"
     ]
    },
    {
     "data": {
      "text/html": [
       "<div>\n",
       "<style scoped>\n",
       "    .dataframe tbody tr th:only-of-type {\n",
       "        vertical-align: middle;\n",
       "    }\n",
       "\n",
       "    .dataframe tbody tr th {\n",
       "        vertical-align: top;\n",
       "    }\n",
       "\n",
       "    .dataframe thead th {\n",
       "        text-align: right;\n",
       "    }\n",
       "</style>\n",
       "<table border=\"1\" class=\"dataframe\">\n",
       "  <thead>\n",
       "    <tr style=\"text-align: right;\">\n",
       "      <th></th>\n",
       "      <th>Species</th>\n",
       "      <th>Sepal.Length</th>\n",
       "      <th>Sepal.Width</th>\n",
       "      <th>Petal.Length</th>\n",
       "      <th>Petal.Width</th>\n",
       "    </tr>\n",
       "  </thead>\n",
       "  <tbody>\n",
       "    <tr>\n",
       "      <th>0</th>\n",
       "      <td>setosa</td>\n",
       "      <td>5.1</td>\n",
       "      <td>3.5</td>\n",
       "      <td>1.4</td>\n",
       "      <td>0.2</td>\n",
       "    </tr>\n",
       "    <tr>\n",
       "      <th>1</th>\n",
       "      <td>setosa</td>\n",
       "      <td>4.9</td>\n",
       "      <td>3.0</td>\n",
       "      <td>1.4</td>\n",
       "      <td>0.2</td>\n",
       "    </tr>\n",
       "    <tr>\n",
       "      <th>2</th>\n",
       "      <td>setosa</td>\n",
       "      <td>4.7</td>\n",
       "      <td>3.2</td>\n",
       "      <td>1.3</td>\n",
       "      <td>0.2</td>\n",
       "    </tr>\n",
       "    <tr>\n",
       "      <th>3</th>\n",
       "      <td>setosa</td>\n",
       "      <td>4.6</td>\n",
       "      <td>3.1</td>\n",
       "      <td>1.5</td>\n",
       "      <td>0.2</td>\n",
       "    </tr>\n",
       "    <tr>\n",
       "      <th>4</th>\n",
       "      <td>setosa</td>\n",
       "      <td>5.0</td>\n",
       "      <td>3.6</td>\n",
       "      <td>1.4</td>\n",
       "      <td>0.2</td>\n",
       "    </tr>\n",
       "  </tbody>\n",
       "</table>\n",
       "</div>"
      ],
      "text/plain": [
       "  Species  Sepal.Length  Sepal.Width  Petal.Length  Petal.Width\n",
       "0  setosa           5.1          3.5           1.4          0.2\n",
       "1  setosa           4.9          3.0           1.4          0.2\n",
       "2  setosa           4.7          3.2           1.3          0.2\n",
       "3  setosa           4.6          3.1           1.5          0.2\n",
       "4  setosa           5.0          3.6           1.4          0.2"
      ]
     },
     "execution_count": 14,
     "metadata": {},
     "output_type": "execute_result"
    }
   ],
   "source": [
    "import pyreadr\n",
    "\n",
    "result = pyreadr.read_r('./data/iris.RData') # also works for Rds\n",
    "\n",
    "# done! let's see what we got\n",
    "# result is a dictionary where keys are the name of objects and the values python\n",
    "# objects\n",
    "print(result.keys()) # let's check what objects we got\n",
    "iris = result[\"iris\"] # extract the pandas data frame for object df1\n",
    "iris.head()"
   ]
  },
  {
   "cell_type": "markdown",
   "metadata": {},
   "source": [
    "# Data Structures\n",
    "Variables store information that may change over time. When you need to store longer lists of information, there are additional options available. This section introduces lists and tuples as basic elements. Pandas and NumPy libraries, which offer additional options for data analysis and manipulation."
   ]
  },
  {
   "cell_type": "markdown",
   "metadata": {},
   "source": [
    "## Lists\n",
    "Lists are changeable sequences of values. They are stored within square brackets, and items within a list are separated by commas. Lists can also be modified, appended, and sorted, among other methods."
   ]
  },
  {
   "cell_type": "code",
   "execution_count": 15,
   "metadata": {},
   "outputs": [
    {
     "name": "stdout",
     "output_type": "stream",
     "text": [
      "['this', 'is', 'a', 'list']\n",
      "The list contains 4 elements.\n",
      "this\n",
      "a\n",
      "list\n",
      "['this', 'is', 'a', 'list']\n",
      "['this', 'is', 'a', 'list', 'with', 'appended', 'elements']\n",
      "The updated list contains 7 elements.\n",
      "['THIS', 'is', 'a', 'LIST', 'with', 'appended', 'elements']\n",
      "[0, 10, 2, 7, 8, 5, 6, 3, 4, 1, 9]\n",
      "[5, 6, 7, 8, 9, 10]\n",
      "[5, 6, 7, 8, 9]\n"
     ]
    }
   ],
   "source": [
    "# Lists.\n",
    "lst = ['this', 'is', 'a', 'list']\n",
    "print(lst)\n",
    "\n",
    "# Print the number of elements in the list.\n",
    "print('The list contains {} elements.'.format(len(lst)))\n",
    "\n",
    "# Print the first element in the list.\n",
    "print(lst[0])\n",
    "\n",
    "# Print the third element in the list.\n",
    "print(lst[2])\n",
    "\n",
    "# Print the last element in the list.\n",
    "print(lst[-1])\n",
    "\n",
    "# Appending a list.\n",
    "print(lst)\n",
    "lst.append('with')\n",
    "lst.append('appended')\n",
    "lst.append('elements')\n",
    "print(lst)\n",
    "\n",
    "# Print the number of elements in the list.\n",
    "print('The updated list contains {} elements.'.format(len(lst)))\n",
    "\n",
    "# Changing a list.\n",
    "# Note: Remember that Python starts with index 0.\n",
    "lst[0] = 'THIS'\n",
    "lst[3] = lst[3].upper()\n",
    "print(lst)\n",
    "\n",
    "# Define a list of numbers.\n",
    "numlist = [0, 10, 2, 7, 8, 5, 6, 3, 4, 1, 9]\n",
    "print(numlist)\n",
    "\n",
    "# Sort and filter list.\n",
    "sorted_and_filtered_numlist = sorted(i for i in numlist if i >= 5)\n",
    "print(sorted_and_filtered_numlist)\n",
    "\n",
    "# Remove the last element from the list.\n",
    "list.pop(sorted_and_filtered_numlist)\n",
    "print(sorted_and_filtered_numlist)"
   ]
  },
  {
   "cell_type": "markdown",
   "metadata": {},
   "source": [
    "## Tuples\n",
    "Tuples are similar to lists, except that they are defined in parentheses and are unchangeable, which means that their values cannot be modified."
   ]
  },
  {
   "cell_type": "code",
   "execution_count": 16,
   "metadata": {},
   "outputs": [
    {
     "name": "stdout",
     "output_type": "stream",
     "text": [
      "('this', 'is', 'a', 'bigger', 'tuple')\n"
     ]
    },
    {
     "data": {
      "text/plain": [
       "'bigger'"
      ]
     },
     "execution_count": 16,
     "metadata": {},
     "output_type": "execute_result"
    }
   ],
   "source": [
    "tup = ('this', 'is', 'a', 'bigger', 'tuple')\n",
    "print(tup)\n",
    "tup[3]"
   ]
  },
  {
   "cell_type": "markdown",
   "metadata": {},
   "source": [
    "## Dataframes\n",
    "DataFrame is a 2-dimensional labeled data structure with columns of potentially different types. You can think of it like a spreadsheet or SQL table, or a dict of Series objects. It is generally the most commonly used pandas object.\n",
    "\n",
    "A data frame generally refers to \"tabular\" data, that is, a data structure representing cases (rows), each of which consists of a number of observations or measurements (columns). Each row may be treated as a single observation of multiple variables (or fields in relational database systems). Each row and each column has the same data type, but the row (\"record\") data type may be heterogeneous (a tuple of different types), while the column data type must be homogeneous. In addition to the data, data frames usually contain some metadata, for example, column and row names."
   ]
  },
  {
   "cell_type": "code",
   "execution_count": 17,
   "metadata": {},
   "outputs": [
    {
     "name": "stdout",
     "output_type": "stream",
     "text": [
      "          A         B         C         D\n",
      "0 -0.076648 -0.073011  0.330416  0.470063\n",
      "1  0.883740  0.478742  1.728227 -0.276635\n",
      "2  0.610853  0.116776  0.536126  0.290321\n",
      "3 -0.327773 -1.547899 -0.902089 -0.702772\n",
      "4 -0.469208  0.681009  0.001222  0.658752\n",
      "5 -0.122917 -0.440927 -0.224085 -0.750705\n",
      "6 -0.342057 -0.891198  0.455853  0.218112\n",
      "7  1.333983  0.642554 -1.017232 -0.885637\n",
      "8 -0.477153 -1.127097 -2.400292  0.240757\n",
      "9  0.111692  0.879504 -0.411648  0.855135\n"
     ]
    }
   ],
   "source": [
    "# Create a dataframe with random numbers in it..\n",
    "# Label the columns as A,B,C,D\n",
    "df5 = pd.DataFrame(np.random.randn(10, 4), columns=['A', 'B', 'C', 'D'])\n",
    "print(df5)"
   ]
  },
  {
   "cell_type": "markdown",
   "metadata": {},
   "source": [
    "## Loops & Functions\n",
    "Conditions and loops are control structures that can be used to repeat statements based on the conditions or loops specified. This can be employed to cycle through data sets or perform a sequence of steps on (or based on) input variables. Function definitions, loops, and conditionals can be combined to produce something useful. The example below will simulate a variable number of coin flips and then produce the summary of results as output."
   ]
  },
  {
   "cell_type": "code",
   "execution_count": 18,
   "metadata": {},
   "outputs": [],
   "source": [
    "def coinflip(total_number_of_flips):\n",
    "    '''\n",
    "    function 'coinflip' with argument 'total_number_of_flips' for the number of repetitions \n",
    "    that returns the number of 'tail' occurrences\n",
    "    '''\n",
    "    # Set all starting variables to 0.\n",
    "    heads = 0\n",
    "    tails = 0\n",
    "    current_number_of_flips = 0\n",
    "    # Start a loop that executes statements while the conditional specified results in 'True'.\n",
    "    while current_number_of_flips < total_number_of_flips:\n",
    "        # Generate a random number smaller than 2.\n",
    "        current_flip = random.randrange(0,2)\n",
    "        # Increment heads by 1 if the generated number is 0.\n",
    "        if current_flip == 0:\n",
    "            heads = heads + 1\n",
    "        # Increment tails by 1 if the generated number is larger than 0.\n",
    "        if current_flip == 1:\n",
    "            tails = tails + 1\n",
    "        # Increment the flip variable by 1.\n",
    "        current_number_of_flips += 1\n",
    "    return [heads, tails]"
   ]
  },
  {
   "cell_type": "code",
   "execution_count": 19,
   "metadata": {},
   "outputs": [
    {
     "name": "stdout",
     "output_type": "stream",
     "text": [
      "Heads : 51\n",
      "Tails : 49\n"
     ]
    }
   ],
   "source": [
    "# Set the number of repetitions.\n",
    "num_flips = 100\n",
    "\n",
    "# Call the function and set the output to the variable 'tails'.\n",
    "coinflip_results = coinflip(num_flips)\n",
    "\n",
    "# Output the values returned.\n",
    "print(\"Heads :\", coinflip_results[0])\n",
    "print(\"Tails :\", coinflip_results[1])"
   ]
  },
  {
   "cell_type": "code",
   "execution_count": null,
   "metadata": {},
   "outputs": [],
   "source": []
  }
 ],
 "metadata": {
  "kernelspec": {
   "display_name": "Python 3",
   "language": "python",
   "name": "python3"
  },
  "language_info": {
   "codemirror_mode": {
    "name": "ipython",
    "version": 3
   },
   "file_extension": ".py",
   "mimetype": "text/x-python",
   "name": "python",
   "nbconvert_exporter": "python",
   "pygments_lexer": "ipython3",
   "version": "3.7.1"
  },
  "toc": {
   "base_numbering": 1,
   "nav_menu": {
    "height": "242px",
    "width": "561px"
   },
   "number_sections": true,
   "sideBar": true,
   "skip_h1_title": false,
   "title_cell": "Table of Contents",
   "title_sidebar": "Contents",
   "toc_cell": true,
   "toc_position": {},
   "toc_section_display": true,
   "toc_window_display": true
  }
 },
 "nbformat": 4,
 "nbformat_minor": 2
}
