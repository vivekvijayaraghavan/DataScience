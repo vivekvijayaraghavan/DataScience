{
 "cells": [
  {
   "cell_type": "markdown",
   "metadata": {},
   "source": [
    "Generic Snippets for Python Notebooks\n",
    "\n",
    "I590 - Applied Data Science\n",
    "\n",
    "Created by Vivek Vijayaraghavan\n",
    "\n",
    "Date: 04/04/2019\n",
    "\n",
    "Objective: Code Portfolio for Python Notebooks"
   ]
  },
  {
   "cell_type": "markdown",
   "metadata": {
    "toc": true
   },
   "source": [
    "<h1>Table of Contents<span class=\"tocSkip\"></span></h1>\n",
    "<div class=\"toc\"><ul class=\"toc-item\"><li><span><a href=\"#Overview\" data-toc-modified-id=\"Overview-1\"><span class=\"toc-item-num\">1&nbsp;&nbsp;</span>Overview</a></span><ul class=\"toc-item\"><li><span><a href=\"#References\" data-toc-modified-id=\"References-1.1\"><span class=\"toc-item-num\">1.1&nbsp;&nbsp;</span>References</a></span></li></ul></li><li><span><a href=\"#Installation-&amp;-Configurations\" data-toc-modified-id=\"Installation-&amp;-Configurations-2\"><span class=\"toc-item-num\">2&nbsp;&nbsp;</span>Installation &amp; Configurations</a></span><ul class=\"toc-item\"><li><span><a href=\"#Installing-Jupyter-Notebook-extensions\" data-toc-modified-id=\"Installing-Jupyter-Notebook-extensions-2.1\"><span class=\"toc-item-num\">2.1&nbsp;&nbsp;</span>Installing Jupyter Notebook extensions</a></span></li><li><span><a href=\"#Creating-hyperlinks-in-Jupyter-Notebook\" data-toc-modified-id=\"Creating-hyperlinks-in-Jupyter-Notebook-2.2\"><span class=\"toc-item-num\">2.2&nbsp;&nbsp;</span>Creating hyperlinks in Jupyter Notebook</a></span></li><li><span><a href=\"#Creating-Table-of-Contents\" data-toc-modified-id=\"Creating-Table-of-Contents-2.3\"><span class=\"toc-item-num\">2.3&nbsp;&nbsp;</span>Creating Table of Contents</a></span></li><li><span><a href=\"#Creating-bulleted-list-in-Jupyter-Markdown\" data-toc-modified-id=\"Creating-bulleted-list-in-Jupyter-Markdown-2.4\"><span class=\"toc-item-num\">2.4&nbsp;&nbsp;</span>Creating bulleted list in Jupyter Markdown</a></span></li><li><span><a href=\"#Current-Working-Directory\" data-toc-modified-id=\"Current-Working-Directory-2.5\"><span class=\"toc-item-num\">2.5&nbsp;&nbsp;</span>Current Working Directory</a></span></li></ul></li></ul></div>"
   ]
  },
  {
   "cell_type": "markdown",
   "metadata": {},
   "source": [
    "# Overview"
   ]
  },
  {
   "cell_type": "markdown",
   "metadata": {},
   "source": [
    "This Jupyter python notebook aggregates tips & tricks learnt overtime referecning multiple sites. While this notebook by itself does not provide any context to the different stages of data analysis, it does provide an overall snippets and configurations needed in the tool to bring it all together. For example, if you want to get to a site that provides quick reference to Jupyter Notebook syntax, all you will have to do is click on [this link.](https://medium.com/ibm-data-science-experience/markdown-for-jupyter-notebooks-cheatsheet-386c05aeebed)"
   ]
  },
  {
   "cell_type": "markdown",
   "metadata": {},
   "source": [
    "## References\n",
    " - [Jupyter Markdown Cheatsheet](https://medium.com/ibm-data-science-experience/markdown-for-jupyter-notebooks-cheatsheet-386c05aeebed)"
   ]
  },
  {
   "cell_type": "markdown",
   "metadata": {},
   "source": [
    "# Installation & Configurations"
   ]
  },
  {
   "cell_type": "markdown",
   "metadata": {},
   "source": [
    "## Installing Jupyter Notebook extensions\n",
    "Jupyter Notebook extensions provide an easy way to add features to Jupyter such as Table of Contents, Code Folding, Spell Check etc. The first step in being able to use these features is to install the extension and make it available as part of the Jupyter Notebook. Detailed steps on how to install these extensions is listed here:\n",
    "[Installing jupyter contrib_nbextensions](https://jupyter-contrib-nbextensions.readthedocs.io/en/latest/install.html)\n",
    "\n",
    "In my case, I followed the very simple instruction of all in one package installation:\n",
    "\n",
    "conda install -c conda-forge jupyter_nbextensions_configurator"
   ]
  },
  {
   "cell_type": "markdown",
   "metadata": {},
   "source": [
    "## Creating hyperlinks in Jupyter Notebook\n",
    "In my Jupyter notebook I want the ability to have clickable links that either take me to specific sections of the same notebook or specific sections of another notebook. There is a two-setp process to create the link and reference to a specific section. This can be done either within the notebook or reference a section in another notebook in the same folder. [Stack Overflow Reference](https://stackoverflow.com/questions/49535664/how-to-hyperlink-in-a-jupyter-notebook)\n",
    "\n",
    "Within the same notebook:\n",
    " - Step 1: Create a link referncing a specific section identifier using markdown cell."
   ]
  },
  {
   "cell_type": "code",
   "execution_count": 1,
   "metadata": {
    "hide_input": true
   },
   "outputs": [
    {
     "name": "stdout",
     "output_type": "stream",
     "text": [
      "[To some Internal Section](#section_id)\n"
     ]
    }
   ],
   "source": [
    "print(\"[To some Internal Section](#section_id)\")"
   ]
  },
  {
   "cell_type": "markdown",
   "metadata": {},
   "source": [
    " - Step 2: Just before the place where you want the link to take you, create the section identifier (text within the quotes), using markdown cell. Note that this should be in a seperate markdown cell by itself."
   ]
  },
  {
   "cell_type": "code",
   "execution_count": 2,
   "metadata": {
    "hide_input": true
   },
   "outputs": [
    {
     "name": "stdout",
     "output_type": "stream",
     "text": [
      "<a id='section_id'></a>\n"
     ]
    }
   ],
   "source": [
    "print(\"<a id='section_id'></a>\")"
   ]
  },
  {
   "cell_type": "markdown",
   "metadata": {},
   "source": [
    "Outside the current notebook, but in the same folder:\n",
    " - Step 1: Create a link referncing a specific section identifier using markdown cell."
   ]
  },
  {
   "cell_type": "code",
   "execution_count": 3,
   "metadata": {
    "hide_input": true
   },
   "outputs": [
    {
     "name": "stdout",
     "output_type": "stream",
     "text": [
      "[To Some Internal Section](another_notebook.ipynb#section_id2)\n"
     ]
    }
   ],
   "source": [
    "print(\"[To Some Internal Section](another_notebook.ipynb#section_id2)\")"
   ]
  },
  {
   "cell_type": "markdown",
   "metadata": {
    "hide_input": true
   },
   "source": [
    " - Step 2: Just before the place where you want the link to take you, create the section identifier (text within the quotes), using markdown cell. Note that this should be in a seperate markdown cell by itself."
   ]
  },
  {
   "cell_type": "code",
   "execution_count": 4,
   "metadata": {
    "hide_input": true
   },
   "outputs": [
    {
     "name": "stdout",
     "output_type": "stream",
     "text": [
      "[To Some Internal Section](TestFolder/another_notebook.ipynb#section_id2)\n"
     ]
    }
   ],
   "source": [
    "print(\"[To Some Internal Section](TestFolder/another_notebook.ipynb#section_id2)\")"
   ]
  },
  {
   "cell_type": "markdown",
   "metadata": {},
   "source": [
    "## Creating Table of Contents\n",
    "The toc2 extension enables to collect all running headers and display them in a floating window, as a sidebar or with a navigation menu. The extension is also draggable, resizable, collapsable, dockable and features automatic numerotation with unique links ids, and an optional toc cell. Sections of currently selected/edited or running cells are highlighted in the toc. Some minor diplay tweaks are also available (moving header tile/menus, widening cells); Finally, the toc can preserved when exporting to html.\n",
    "\n",
    "For more details and configurations refer to [nbextensions doc](https://jupyter-contrib-nbextensions.readthedocs.io/en/latest/nbextensions/toc2/README.html)"
   ]
  },
  {
   "cell_type": "markdown",
   "metadata": {},
   "source": [
    "## Creating bulleted list in Jupyter Markdown\n",
    "Use the dash sign (- ) with two spaces after it or a space, a dash, and a space ( - ), to create a circular bullet. To create a sub bullet, use a tab followed a dash and two spaces. You can also use an asterisk instead of a dash, and it works the same."
   ]
  },
  {
   "cell_type": "markdown",
   "metadata": {},
   "source": [
    "## Current Working Directory"
   ]
  },
  {
   "cell_type": "code",
   "execution_count": 5,
   "metadata": {},
   "outputs": [
    {
     "name": "stdout",
     "output_type": "stream",
     "text": [
      "/Users/user/SynapseIT/Dropbox/SynapseIT/Education/DataScience/Masters in Data Science/IU Bloomington/Courses/02-INFO-I590-Applied Data Science/project/DataScience/CodePortfolio\n"
     ]
    }
   ],
   "source": [
    "import os\n",
    "cwd = os.getcwd()\n",
    "print(cwd)"
   ]
  },
  {
   "cell_type": "code",
   "execution_count": null,
   "metadata": {},
   "outputs": [],
   "source": []
  }
 ],
 "metadata": {
  "kernelspec": {
   "display_name": "Python 3",
   "language": "python",
   "name": "python3"
  },
  "language_info": {
   "codemirror_mode": {
    "name": "ipython",
    "version": 3
   },
   "file_extension": ".py",
   "mimetype": "text/x-python",
   "name": "python",
   "nbconvert_exporter": "python",
   "pygments_lexer": "ipython3",
   "version": "3.7.1"
  },
  "toc": {
   "base_numbering": 1,
   "nav_menu": {
    "height": "405px",
    "width": "640px"
   },
   "number_sections": true,
   "sideBar": true,
   "skip_h1_title": false,
   "title_cell": "Table of Contents",
   "title_sidebar": "Contents",
   "toc_cell": true,
   "toc_position": {
    "height": "585px",
    "left": "1008px",
    "top": "110px",
    "width": "329px"
   },
   "toc_section_display": true,
   "toc_window_display": true
  }
 },
 "nbformat": 4,
 "nbformat_minor": 2
}
