{
 "cells": [
  {
   "cell_type": "markdown",
   "metadata": {},
   "source": [
    "I590 - Applied Data Science\n",
    "\n",
    "Analysis using Python\n",
    "\n",
    "Created by Vivek Vijayaraghavan\n",
    "\n",
    "Date: 04/04/2019\n",
    "\n",
    "Objective: Code Portfolio for Analysis using python"
   ]
  },
  {
   "cell_type": "markdown",
   "metadata": {
    "toc": true
   },
   "source": [
    "<h1>Table of Contents<span class=\"tocSkip\"></span></h1>\n",
    "<div class=\"toc\"><ul class=\"toc-item\"><li><span><a href=\"#Data-Analysis-using-Python\" data-toc-modified-id=\"Data-Analysis-using-Python-1\"><span class=\"toc-item-num\">1&nbsp;&nbsp;</span>Data Analysis using Python</a></span><ul class=\"toc-item\"><li><span><a href=\"#Overview\" data-toc-modified-id=\"Overview-1.1\"><span class=\"toc-item-num\">1.1&nbsp;&nbsp;</span>Overview</a></span></li><li><span><a href=\"#Pre-Requisites\" data-toc-modified-id=\"Pre-Requisites-1.2\"><span class=\"toc-item-num\">1.2&nbsp;&nbsp;</span>Pre-Requisites</a></span></li><li><span><a href=\"#References\" data-toc-modified-id=\"References-1.3\"><span class=\"toc-item-num\">1.3&nbsp;&nbsp;</span>References</a></span></li></ul></li><li><span><a href=\"#Supervised-Learning-with-scikit-learn\" data-toc-modified-id=\"Supervised-Learning-with-scikit-learn-2\"><span class=\"toc-item-num\">2&nbsp;&nbsp;</span>Supervised Learning with scikit-learn</a></span><ul class=\"toc-item\"><li><span><a href=\"#Classification\" data-toc-modified-id=\"Classification-2.1\"><span class=\"toc-item-num\">2.1&nbsp;&nbsp;</span>Classification</a></span><ul class=\"toc-item\"><li><span><a href=\"#Supervised-Learning\" data-toc-modified-id=\"Supervised-Learning-2.1.1\"><span class=\"toc-item-num\">2.1.1&nbsp;&nbsp;</span>Supervised Learning</a></span></li><li><span><a href=\"#Exploratory-Data-Analysis\" data-toc-modified-id=\"Exploratory-Data-Analysis-2.1.2\"><span class=\"toc-item-num\">2.1.2&nbsp;&nbsp;</span>Exploratory Data Analysis</a></span></li><li><span><a href=\"#K-Nearest-Neighbors\" data-toc-modified-id=\"K-Nearest-Neighbors-2.1.3\"><span class=\"toc-item-num\">2.1.3&nbsp;&nbsp;</span>K-Nearest Neighbors</a></span></li><li><span><a href=\"#Evaluating-Model-Performance\" data-toc-modified-id=\"Evaluating-Model-Performance-2.1.4\"><span class=\"toc-item-num\">2.1.4&nbsp;&nbsp;</span>Evaluating Model Performance</a></span></li><li><span><a href=\"#Overfitting-&amp;-Underfitting\" data-toc-modified-id=\"Overfitting-&amp;-Underfitting-2.1.5\"><span class=\"toc-item-num\">2.1.5&nbsp;&nbsp;</span>Overfitting &amp; Underfitting</a></span></li></ul></li><li><span><a href=\"#Regression\" data-toc-modified-id=\"Regression-2.2\"><span class=\"toc-item-num\">2.2&nbsp;&nbsp;</span>Regression</a></span><ul class=\"toc-item\"><li><span><a href=\"#Linear-Regression\" data-toc-modified-id=\"Linear-Regression-2.2.1\"><span class=\"toc-item-num\">2.2.1&nbsp;&nbsp;</span>Linear Regression</a></span></li><li><span><a href=\"#k-fold-Cross-Validation\" data-toc-modified-id=\"k-fold-Cross-Validation-2.2.2\"><span class=\"toc-item-num\">2.2.2&nbsp;&nbsp;</span>k-fold Cross Validation</a></span></li><li><span><a href=\"#Computational-Requirements\" data-toc-modified-id=\"Computational-Requirements-2.2.3\"><span class=\"toc-item-num\">2.2.3&nbsp;&nbsp;</span>Computational Requirements</a></span></li><li><span><a href=\"#Regularized-Regression\" data-toc-modified-id=\"Regularized-Regression-2.2.4\"><span class=\"toc-item-num\">2.2.4&nbsp;&nbsp;</span>Regularized Regression</a></span></li></ul></li><li><span><a href=\"#Finetuning-the-Model\" data-toc-modified-id=\"Finetuning-the-Model-2.3\"><span class=\"toc-item-num\">2.3&nbsp;&nbsp;</span>Finetuning the Model</a></span><ul class=\"toc-item\"><li><span><a href=\"#Metrics-for-Classification\" data-toc-modified-id=\"Metrics-for-Classification-2.3.1\"><span class=\"toc-item-num\">2.3.1&nbsp;&nbsp;</span>Metrics for Classification</a></span></li><li><span><a href=\"#ROC-Curve\" data-toc-modified-id=\"ROC-Curve-2.3.2\"><span class=\"toc-item-num\">2.3.2&nbsp;&nbsp;</span>ROC Curve</a></span></li><li><span><a href=\"#Area-Under-the-Curve-(AUC)\" data-toc-modified-id=\"Area-Under-the-Curve-(AUC)-2.3.3\"><span class=\"toc-item-num\">2.3.3&nbsp;&nbsp;</span>Area Under the Curve (AUC)</a></span></li><li><span><a href=\"#Hyperparameter-Tuning\" data-toc-modified-id=\"Hyperparameter-Tuning-2.3.4\"><span class=\"toc-item-num\">2.3.4&nbsp;&nbsp;</span>Hyperparameter Tuning</a></span></li><li><span><a href=\"#Holdout-Set-for-final-evaluation\" data-toc-modified-id=\"Holdout-Set-for-final-evaluation-2.3.5\"><span class=\"toc-item-num\">2.3.5&nbsp;&nbsp;</span>Holdout Set for final evaluation</a></span></li></ul></li><li><span><a href=\"#Pre-Processing-&amp;-Pipelines\" data-toc-modified-id=\"Pre-Processing-&amp;-Pipelines-2.4\"><span class=\"toc-item-num\">2.4&nbsp;&nbsp;</span>Pre-Processing &amp; Pipelines</a></span><ul class=\"toc-item\"><li><span><a href=\"#Preprocessing-data\" data-toc-modified-id=\"Preprocessing-data-2.4.1\"><span class=\"toc-item-num\">2.4.1&nbsp;&nbsp;</span>Preprocessing data</a></span></li><li><span><a href=\"#Handling-missing-data\" data-toc-modified-id=\"Handling-missing-data-2.4.2\"><span class=\"toc-item-num\">2.4.2&nbsp;&nbsp;</span>Handling missing data</a></span></li><li><span><a href=\"#Centering-&amp;-Scaling\" data-toc-modified-id=\"Centering-&amp;-Scaling-2.4.3\"><span class=\"toc-item-num\">2.4.3&nbsp;&nbsp;</span>Centering &amp; Scaling</a></span></li><li><span><a href=\"#Bringing-it-all-together\" data-toc-modified-id=\"Bringing-it-all-together-2.4.4\"><span class=\"toc-item-num\">2.4.4&nbsp;&nbsp;</span>Bringing it all together</a></span><ul class=\"toc-item\"><li><span><a href=\"#Classification\" data-toc-modified-id=\"Classification-2.4.4.1\"><span class=\"toc-item-num\">2.4.4.1&nbsp;&nbsp;</span>Classification</a></span></li><li><span><a href=\"#Regression\" data-toc-modified-id=\"Regression-2.4.4.2\"><span class=\"toc-item-num\">2.4.4.2&nbsp;&nbsp;</span>Regression</a></span></li></ul></li></ul></li></ul></li><li><span><a href=\"#Conclusion\" data-toc-modified-id=\"Conclusion-3\"><span class=\"toc-item-num\">3&nbsp;&nbsp;</span>Conclusion</a></span></li></ul></div>"
   ]
  },
  {
   "cell_type": "markdown",
   "metadata": {},
   "source": [
    "# Data Analysis using Python"
   ]
  },
  {
   "cell_type": "markdown",
   "metadata": {},
   "source": [
    "## Overview\n",
    "Python is an intuitive, beginner-friendly, general-purpose programming language. Unfortunately, because it is a general-purpose language, it lacks out-of-the-box and easy-to-use functionality for data processing and analysis that analysts can use without effort. Because of this, data analysts use Python modules designed specifically to extend Python's base functionality when doing data analysis. One of the modules that will be used extensively is [Pandas](http://pandas.pydata.org/) (short for Python for Data Analysis), which is a module designed around providing flexible data structures and data manipulation in Python. Specifically, Pandas uses the concept of a data frame.\n",
    "\n",
    "Data cleaning and exploratory analysis are often the preliminary steps to carry out when confronted with the challenge of extracting useful insights from data. Exploring data prior to doing any deeper analysis allows you to answer questions about data quality. The following sections demonstrate how to use Pandas, and related Python operations, to understand data quality."
   ]
  },
  {
   "cell_type": "markdown",
   "metadata": {},
   "source": [
    "## Pre-Requisites"
   ]
  },
  {
   "cell_type": "code",
   "execution_count": 161,
   "metadata": {},
   "outputs": [
    {
     "name": "stdout",
     "output_type": "stream",
     "text": [
      "Populating the interactive namespace from numpy and matplotlib\n"
     ]
    },
    {
     "name": "stderr",
     "output_type": "stream",
     "text": [
      "/anaconda3/lib/python3.7/site-packages/IPython/core/magics/pylab.py:160: UserWarning: pylab import has clobbered these variables: ['randint', 'clf', 'random']\n",
      "`%matplotlib` prevents importing * from pylab and numpy\n",
      "  \"\\n`%matplotlib` prevents importing * from pylab and numpy\"\n"
     ]
    }
   ],
   "source": [
    "# Import Libraries\n",
    "import pandas as pd\n",
    "import numpy as np\n",
    "import matplotlib\n",
    "import requests\n",
    "import io\n",
    "import random\n",
    "random.random()\n",
    "import datetime\n",
    "import folium\n",
    "import geocoder\n",
    "import pyreadr\n",
    "import seaborn as sns\n",
    "\n",
    "from os import path\n",
    "from matplotlib.pyplot import figure, show, rc\n",
    "import matplotlib.pyplot as plt\n",
    "plt.style.use('ggplot')\n",
    "import matplotlib.mlab as mlab\n",
    "import json\n",
    "from tqdm import tqdm\n",
    "\n",
    "# Set plotting options.\n",
    "%pylab inline\n",
    "pylab.rcParams['figure.figsize'] = (10, 8)"
   ]
  },
  {
   "cell_type": "markdown",
   "metadata": {},
   "source": [
    "## References\n",
    " - [Pandas](http://pandas.pydata.org/)\n",
    " - [data frame](https://pandas.pydata.org/pandas-docs/stable/dsintro.html)\n",
    " - [Datacamp Supervised Learning](https://www.datacamp.com/courses/supervised-learning-with-scikit-learn)"
   ]
  },
  {
   "cell_type": "markdown",
   "metadata": {},
   "source": [
    "# Supervised Learning with scikit-learn\n",
    "The value of Data Scientists rests on their ability to describe the world and to make predictions. Machine Learning is the field of teaching machines and computers to learn from existing data to make predictions on new data - will a given tumor be benign or malignant? Which of your customers will take their business elsewhere? Is a particular email spam or not? \n",
    "\n",
    "We will focus on how to use Python to perform supervised learning, an essential component of Machine Learning. We will explore on how to build predictive models, how to tune their parameters and how to tell how well they will perform on unseen data, all the while using real world datasets. We will use one of the most popular and user-friendly machine learning libraries for Python - scikit-learn"
   ]
  },
  {
   "cell_type": "markdown",
   "metadata": {},
   "source": [
    "## Classification\n",
    "Classification problems are prevalent in a variety of domains, ranging from finance to healthcare. Here, you will have the chance to apply what you are learning to a political dataset, where you classify the party affiliation of United States Congressmen based on their voting records."
   ]
  },
  {
   "cell_type": "markdown",
   "metadata": {},
   "source": [
    "### Supervised Learning\n",
    "In Supervised learning, we have several datapoints or samples that are described using predictor variables (features) and a target variable (response). Most often, the data is represented in a table structure where rows represent the datapoints and columns represent features. The aim of supervised learning is to predict the target variable given the predictor variables. If the target variables can be categorized (spam / non spam, true / false, type of color, types of species etc), then the supervised learning technique is called Classification.\n",
    "\n",
    "Listed below is the iris dataset that is a builtin dataset in R that is loaded here."
   ]
  },
  {
   "cell_type": "code",
   "execution_count": 162,
   "metadata": {},
   "outputs": [
    {
     "name": "stdout",
     "output_type": "stream",
     "text": [
      "odict_keys(['iris', 'iris.wide', 'iris.wide2', 'iris.tidy'])\n"
     ]
    },
    {
     "data": {
      "text/html": [
       "<div>\n",
       "<style scoped>\n",
       "    .dataframe tbody tr th:only-of-type {\n",
       "        vertical-align: middle;\n",
       "    }\n",
       "\n",
       "    .dataframe tbody tr th {\n",
       "        vertical-align: top;\n",
       "    }\n",
       "\n",
       "    .dataframe thead th {\n",
       "        text-align: right;\n",
       "    }\n",
       "</style>\n",
       "<table border=\"1\" class=\"dataframe\">\n",
       "  <thead>\n",
       "    <tr style=\"text-align: right;\">\n",
       "      <th></th>\n",
       "      <th>Species</th>\n",
       "      <th>Sepal.Length</th>\n",
       "      <th>Sepal.Width</th>\n",
       "      <th>Petal.Length</th>\n",
       "      <th>Petal.Width</th>\n",
       "    </tr>\n",
       "  </thead>\n",
       "  <tbody>\n",
       "    <tr>\n",
       "      <th>0</th>\n",
       "      <td>setosa</td>\n",
       "      <td>5.1</td>\n",
       "      <td>3.5</td>\n",
       "      <td>1.4</td>\n",
       "      <td>0.2</td>\n",
       "    </tr>\n",
       "    <tr>\n",
       "      <th>1</th>\n",
       "      <td>setosa</td>\n",
       "      <td>4.9</td>\n",
       "      <td>3.0</td>\n",
       "      <td>1.4</td>\n",
       "      <td>0.2</td>\n",
       "    </tr>\n",
       "    <tr>\n",
       "      <th>2</th>\n",
       "      <td>setosa</td>\n",
       "      <td>4.7</td>\n",
       "      <td>3.2</td>\n",
       "      <td>1.3</td>\n",
       "      <td>0.2</td>\n",
       "    </tr>\n",
       "    <tr>\n",
       "      <th>3</th>\n",
       "      <td>setosa</td>\n",
       "      <td>4.6</td>\n",
       "      <td>3.1</td>\n",
       "      <td>1.5</td>\n",
       "      <td>0.2</td>\n",
       "    </tr>\n",
       "    <tr>\n",
       "      <th>4</th>\n",
       "      <td>setosa</td>\n",
       "      <td>5.0</td>\n",
       "      <td>3.6</td>\n",
       "      <td>1.4</td>\n",
       "      <td>0.2</td>\n",
       "    </tr>\n",
       "  </tbody>\n",
       "</table>\n",
       "</div>"
      ],
      "text/plain": [
       "  Species  Sepal.Length  Sepal.Width  Petal.Length  Petal.Width\n",
       "0  setosa           5.1          3.5           1.4          0.2\n",
       "1  setosa           4.9          3.0           1.4          0.2\n",
       "2  setosa           4.7          3.2           1.3          0.2\n",
       "3  setosa           4.6          3.1           1.5          0.2\n",
       "4  setosa           5.0          3.6           1.4          0.2"
      ]
     },
     "execution_count": 162,
     "metadata": {},
     "output_type": "execute_result"
    }
   ],
   "source": [
    "# Iris dataset\n",
    "result = pyreadr.read_r('./data/iris.RData') # also works for Rds\n",
    "\n",
    "# done! let's see what we got\n",
    "# result is a dictionary where keys are the name of objects and the values python\n",
    "# objects\n",
    "print(result.keys()) # let's check what objects we got\n",
    "iris = result[\"iris\"] # extract the pandas data frame for object df1\n",
    "iris.head()"
   ]
  },
  {
   "cell_type": "markdown",
   "metadata": {},
   "source": [
    "### Exploratory Data Analysis"
   ]
  },
  {
   "cell_type": "code",
   "execution_count": 163,
   "metadata": {},
   "outputs": [
    {
     "data": {
      "text/plain": [
       "sklearn.utils.Bunch"
      ]
     },
     "execution_count": 163,
     "metadata": {},
     "output_type": "execute_result"
    }
   ],
   "source": [
    "# An alternate way to load the iris dataset is through scilearn datasets..\n",
    "from sklearn import datasets\n",
    "iris_raw = datasets.load_iris()\n",
    "type(iris_raw)"
   ]
  },
  {
   "cell_type": "code",
   "execution_count": 164,
   "metadata": {},
   "outputs": [
    {
     "name": "stdout",
     "output_type": "stream",
     "text": [
      "dict_keys(['data', 'target', 'target_names', 'DESCR', 'feature_names', 'filename'])\n"
     ]
    },
    {
     "data": {
      "text/plain": [
       "(numpy.ndarray, numpy.ndarray)"
      ]
     },
     "execution_count": 164,
     "metadata": {},
     "output_type": "execute_result"
    }
   ],
   "source": [
    "# Print Iris keys and understand the datatype of data..\n",
    "print(iris_raw.keys())\n",
    "type(iris_raw.data), type(iris_raw.target)"
   ]
  },
  {
   "cell_type": "code",
   "execution_count": 165,
   "metadata": {},
   "outputs": [
    {
     "data": {
      "text/plain": [
       "(150, 4)"
      ]
     },
     "execution_count": 165,
     "metadata": {},
     "output_type": "execute_result"
    }
   ],
   "source": [
    "# Understand the rows and columns using shape...\n",
    "iris_raw.data.shape"
   ]
  },
  {
   "cell_type": "code",
   "execution_count": 166,
   "metadata": {},
   "outputs": [
    {
     "data": {
      "text/plain": [
       "array(['setosa', 'versicolor', 'virginica'], dtype='<U10')"
      ]
     },
     "execution_count": 166,
     "metadata": {},
     "output_type": "execute_result"
    }
   ],
   "source": [
    "# Understand the target data..\n",
    "iris_raw.target_names"
   ]
  },
  {
   "cell_type": "code",
   "execution_count": 167,
   "metadata": {},
   "outputs": [
    {
     "data": {
      "text/html": [
       "<div>\n",
       "<style scoped>\n",
       "    .dataframe tbody tr th:only-of-type {\n",
       "        vertical-align: middle;\n",
       "    }\n",
       "\n",
       "    .dataframe tbody tr th {\n",
       "        vertical-align: top;\n",
       "    }\n",
       "\n",
       "    .dataframe thead th {\n",
       "        text-align: right;\n",
       "    }\n",
       "</style>\n",
       "<table border=\"1\" class=\"dataframe\">\n",
       "  <thead>\n",
       "    <tr style=\"text-align: right;\">\n",
       "      <th></th>\n",
       "      <th>sepal length (cm)</th>\n",
       "      <th>sepal width (cm)</th>\n",
       "      <th>petal length (cm)</th>\n",
       "      <th>petal width (cm)</th>\n",
       "    </tr>\n",
       "  </thead>\n",
       "  <tbody>\n",
       "    <tr>\n",
       "      <th>0</th>\n",
       "      <td>5.1</td>\n",
       "      <td>3.5</td>\n",
       "      <td>1.4</td>\n",
       "      <td>0.2</td>\n",
       "    </tr>\n",
       "    <tr>\n",
       "      <th>1</th>\n",
       "      <td>4.9</td>\n",
       "      <td>3.0</td>\n",
       "      <td>1.4</td>\n",
       "      <td>0.2</td>\n",
       "    </tr>\n",
       "    <tr>\n",
       "      <th>2</th>\n",
       "      <td>4.7</td>\n",
       "      <td>3.2</td>\n",
       "      <td>1.3</td>\n",
       "      <td>0.2</td>\n",
       "    </tr>\n",
       "    <tr>\n",
       "      <th>3</th>\n",
       "      <td>4.6</td>\n",
       "      <td>3.1</td>\n",
       "      <td>1.5</td>\n",
       "      <td>0.2</td>\n",
       "    </tr>\n",
       "    <tr>\n",
       "      <th>4</th>\n",
       "      <td>5.0</td>\n",
       "      <td>3.6</td>\n",
       "      <td>1.4</td>\n",
       "      <td>0.2</td>\n",
       "    </tr>\n",
       "  </tbody>\n",
       "</table>\n",
       "</div>"
      ],
      "text/plain": [
       "   sepal length (cm)  sepal width (cm)  petal length (cm)  petal width (cm)\n",
       "0                5.1               3.5                1.4               0.2\n",
       "1                4.9               3.0                1.4               0.2\n",
       "2                4.7               3.2                1.3               0.2\n",
       "3                4.6               3.1                1.5               0.2\n",
       "4                5.0               3.6                1.4               0.2"
      ]
     },
     "execution_count": 167,
     "metadata": {},
     "output_type": "execute_result"
    }
   ],
   "source": [
    "# Getting the feature and target data into a dataframe...\n",
    "X = iris_raw.data\n",
    "Y = iris_raw.target\n",
    "iris = pd.DataFrame(X, columns = iris_raw.feature_names)\n",
    "iris.head()"
   ]
  },
  {
   "cell_type": "code",
   "execution_count": 168,
   "metadata": {},
   "outputs": [
    {
     "data": {
      "text/plain": [
       "array([[<matplotlib.axes._subplots.AxesSubplot object at 0x1a263cb550>,\n",
       "        <matplotlib.axes._subplots.AxesSubplot object at 0x1a262738d0>,\n",
       "        <matplotlib.axes._subplots.AxesSubplot object at 0x1a26e376d8>,\n",
       "        <matplotlib.axes._subplots.AxesSubplot object at 0x1a26e5f940>],\n",
       "       [<matplotlib.axes._subplots.AxesSubplot object at 0x1a26f9aba8>,\n",
       "        <matplotlib.axes._subplots.AxesSubplot object at 0x1a26fc4e10>,\n",
       "        <matplotlib.axes._subplots.AxesSubplot object at 0x1a261d30b8>,\n",
       "        <matplotlib.axes._subplots.AxesSubplot object at 0x1a260f2358>],\n",
       "       [<matplotlib.axes._subplots.AxesSubplot object at 0x1a260f2390>,\n",
       "        <matplotlib.axes._subplots.AxesSubplot object at 0x1a270087f0>,\n",
       "        <matplotlib.axes._subplots.AxesSubplot object at 0x1a27031a58>,\n",
       "        <matplotlib.axes._subplots.AxesSubplot object at 0x1a2705acc0>],\n",
       "       [<matplotlib.axes._subplots.AxesSubplot object at 0x1a27082f28>,\n",
       "        <matplotlib.axes._subplots.AxesSubplot object at 0x1a272a01d0>,\n",
       "        <matplotlib.axes._subplots.AxesSubplot object at 0x1a272c8438>,\n",
       "        <matplotlib.axes._subplots.AxesSubplot object at 0x1a275a36a0>]],\n",
       "      dtype=object)"
      ]
     },
     "execution_count": 168,
     "metadata": {},
     "output_type": "execute_result"
    },
    {
     "data": {
      "image/png": "[encoded data removed]",
      "text/plain": [
       "<Figure size 576x576 with 16 Axes>"
      ]
     },
     "metadata": {
      "needs_background": "light"
     },
     "output_type": "display_data"
    }
   ],
   "source": [
    "# Let us visualize the data..\n",
    "pd.scatter_matrix(iris, c=Y, figsize=[8,8],s=150,marker='D')"
   ]
  },
  {
   "cell_type": "markdown",
   "metadata": {},
   "source": [
    "It can be observed from the above as part of Explaratory Data Analysis that the Petal Length and Petal Width are highly correlated to the Species of the flower... \n",
    "\n",
    "Let us try with another example, where we can try to answer the question - Which of the initiatives (eduction, satellite or missile) did the democrats vote overwhelmingly Yes..."
   ]
  },
  {
   "cell_type": "code",
   "execution_count": 169,
   "metadata": {},
   "outputs": [
    {
     "data": {
      "text/html": [
       "<div>\n",
       "<style scoped>\n",
       "    .dataframe tbody tr th:only-of-type {\n",
       "        vertical-align: middle;\n",
       "    }\n",
       "\n",
       "    .dataframe tbody tr th {\n",
       "        vertical-align: top;\n",
       "    }\n",
       "\n",
       "    .dataframe thead th {\n",
       "        text-align: right;\n",
       "    }\n",
       "</style>\n",
       "<table border=\"1\" class=\"dataframe\">\n",
       "  <thead>\n",
       "    <tr style=\"text-align: right;\">\n",
       "      <th></th>\n",
       "      <th>party</th>\n",
       "      <th>infants</th>\n",
       "      <th>water</th>\n",
       "      <th>budget</th>\n",
       "      <th>physician</th>\n",
       "      <th>salvador</th>\n",
       "      <th>religious</th>\n",
       "      <th>satellite</th>\n",
       "      <th>aid</th>\n",
       "      <th>missile</th>\n",
       "      <th>immigration</th>\n",
       "      <th>synfuels</th>\n",
       "      <th>education</th>\n",
       "      <th>superfund</th>\n",
       "      <th>crime</th>\n",
       "      <th>duty_free_exports</th>\n",
       "      <th>eaa_rsa</th>\n",
       "    </tr>\n",
       "  </thead>\n",
       "  <tbody>\n",
       "    <tr>\n",
       "      <th>0</th>\n",
       "      <td>republican</td>\n",
       "      <td>n</td>\n",
       "      <td>y</td>\n",
       "      <td>n</td>\n",
       "      <td>y</td>\n",
       "      <td>y</td>\n",
       "      <td>y</td>\n",
       "      <td>n</td>\n",
       "      <td>n</td>\n",
       "      <td>n</td>\n",
       "      <td>n</td>\n",
       "      <td>n</td>\n",
       "      <td>y</td>\n",
       "      <td>y</td>\n",
       "      <td>y</td>\n",
       "      <td>n</td>\n",
       "      <td>?</td>\n",
       "    </tr>\n",
       "    <tr>\n",
       "      <th>1</th>\n",
       "      <td>democrat</td>\n",
       "      <td>?</td>\n",
       "      <td>y</td>\n",
       "      <td>y</td>\n",
       "      <td>?</td>\n",
       "      <td>y</td>\n",
       "      <td>y</td>\n",
       "      <td>n</td>\n",
       "      <td>n</td>\n",
       "      <td>n</td>\n",
       "      <td>n</td>\n",
       "      <td>y</td>\n",
       "      <td>n</td>\n",
       "      <td>y</td>\n",
       "      <td>y</td>\n",
       "      <td>n</td>\n",
       "      <td>n</td>\n",
       "    </tr>\n",
       "    <tr>\n",
       "      <th>2</th>\n",
       "      <td>democrat</td>\n",
       "      <td>n</td>\n",
       "      <td>y</td>\n",
       "      <td>y</td>\n",
       "      <td>n</td>\n",
       "      <td>?</td>\n",
       "      <td>y</td>\n",
       "      <td>n</td>\n",
       "      <td>n</td>\n",
       "      <td>n</td>\n",
       "      <td>n</td>\n",
       "      <td>y</td>\n",
       "      <td>n</td>\n",
       "      <td>y</td>\n",
       "      <td>n</td>\n",
       "      <td>n</td>\n",
       "      <td>y</td>\n",
       "    </tr>\n",
       "    <tr>\n",
       "      <th>3</th>\n",
       "      <td>democrat</td>\n",
       "      <td>y</td>\n",
       "      <td>y</td>\n",
       "      <td>y</td>\n",
       "      <td>n</td>\n",
       "      <td>y</td>\n",
       "      <td>y</td>\n",
       "      <td>n</td>\n",
       "      <td>n</td>\n",
       "      <td>n</td>\n",
       "      <td>n</td>\n",
       "      <td>y</td>\n",
       "      <td>?</td>\n",
       "      <td>y</td>\n",
       "      <td>y</td>\n",
       "      <td>y</td>\n",
       "      <td>y</td>\n",
       "    </tr>\n",
       "    <tr>\n",
       "      <th>4</th>\n",
       "      <td>democrat</td>\n",
       "      <td>n</td>\n",
       "      <td>y</td>\n",
       "      <td>y</td>\n",
       "      <td>n</td>\n",
       "      <td>y</td>\n",
       "      <td>y</td>\n",
       "      <td>n</td>\n",
       "      <td>n</td>\n",
       "      <td>n</td>\n",
       "      <td>n</td>\n",
       "      <td>n</td>\n",
       "      <td>n</td>\n",
       "      <td>y</td>\n",
       "      <td>y</td>\n",
       "      <td>y</td>\n",
       "      <td>y</td>\n",
       "    </tr>\n",
       "  </tbody>\n",
       "</table>\n",
       "</div>"
      ],
      "text/plain": [
       "        party infants water budget physician salvador religious satellite aid  \\\n",
       "0  republican       n     y      n         y        y         y         n   n   \n",
       "1    democrat       ?     y      y         ?        y         y         n   n   \n",
       "2    democrat       n     y      y         n        ?         y         n   n   \n",
       "3    democrat       y     y      y         n        y         y         n   n   \n",
       "4    democrat       n     y      y         n        y         y         n   n   \n",
       "\n",
       "  missile immigration synfuels education superfund crime duty_free_exports  \\\n",
       "0       n           n        n         y         y     y                 n   \n",
       "1       n           n        y         n         y     y                 n   \n",
       "2       n           n        y         n         y     n                 n   \n",
       "3       n           n        y         ?         y     y                 y   \n",
       "4       n           n        n         n         y     y                 y   \n",
       "\n",
       "  eaa_rsa  \n",
       "0       ?  \n",
       "1       n  \n",
       "2       y  \n",
       "3       y  \n",
       "4       y  "
      ]
     },
     "execution_count": 169,
     "metadata": {},
     "output_type": "execute_result"
    }
   ],
   "source": [
    "# Reading a csv file with headers\n",
    "votes = pd.read_csv(\"./data/house-votes-84.csv\")\n",
    "votes.columns = [\"party\", \"infants\", \"water\", \"budget\", \"physician\", \"salvador\", \n",
    "                 \"religious\", \"satellite\", \"aid\", \"missile\", \"immigration\", \"synfuels\", \n",
    "                 \"education\", \"superfund\", \"crime\", \"duty_free_exports\", \"eaa_rsa\"]\n",
    "votes.head()"
   ]
  },
  {
   "cell_type": "code",
   "execution_count": 170,
   "metadata": {},
   "outputs": [
    {
     "data": {
      "text/plain": [
       "<matplotlib.axes._subplots.AxesSubplot at 0x1a279d62e8>"
      ]
     },
     "execution_count": 170,
     "metadata": {},
     "output_type": "execute_result"
    },
    {
     "data": {
      "text/plain": [
       "<Figure size 720x576 with 0 Axes>"
      ]
     },
     "metadata": {},
     "output_type": "display_data"
    },
    {
     "data": {
      "image/png": "[encoded data removed]",
      "text/plain": [
       "<Figure size 720x576 with 3 Axes>"
      ]
     },
     "metadata": {
      "needs_background": "light"
     },
     "output_type": "display_data"
    }
   ],
   "source": [
    "# Now plot the three initiatives side by side to see which one matches the answer to the question of interest...\n",
    "plt.tight_layout()\n",
    "fig, ax =plt.subplots(1,3)\n",
    "sns.countplot(x='education', hue='party', data=votes, palette='RdBu', ax=ax[0])\n",
    "sns.countplot(x='satellite', hue='party', data=votes, palette='RdBu', ax=ax[1])\n",
    "sns.countplot(x='missile', hue='party', data=votes, palette='RdBu', ax=ax[2])\n"
   ]
  },
  {
   "cell_type": "markdown",
   "metadata": {},
   "source": [
    "### K-Nearest Neighbors\n",
    "The basic idea of this type of classifier is to predict the label of the datapoint by looking at the \"k\" closest labelled datapoints and then getting them to vote on what label should the unlabelled dtaapoint should have. All machine learning models scikit-learn are implemented as python classes. They implement the algorithm for learning and predicting the model as well as store all the information that they have learned from the data.\n",
    "\n",
    "Training a model on the data is also called fitting and we use the fit() method. Similarly, the predict() method is used to predict the label from the test data. We will see an example below..."
   ]
  },
  {
   "cell_type": "code",
   "execution_count": 171,
   "metadata": {},
   "outputs": [
    {
     "data": {
      "text/plain": [
       "KNeighborsClassifier(algorithm='auto', leaf_size=30, metric='minkowski',\n",
       "           metric_params=None, n_jobs=None, n_neighbors=6, p=2,\n",
       "           weights='uniform')"
      ]
     },
     "execution_count": 171,
     "metadata": {},
     "output_type": "execute_result"
    }
   ],
   "source": [
    "# K-nn classifier in python\n",
    "# using iris dataset...\n",
    "from sklearn.neighbors import KNeighborsClassifier\n",
    "knn = KNeighborsClassifier(n_neighbors=6)\n",
    "knn.fit(iris_raw['data'], iris_raw['target'])"
   ]
  },
  {
   "cell_type": "code",
   "execution_count": 172,
   "metadata": {},
   "outputs": [],
   "source": [
    "# Create unlabelled data set (test data) that we will use to predict the Species..\n",
    "iris_test = np.array([(5.2,3.4,1.2,0.1), (5.0,3.5,5.7,2.3) , (4.9,3.1,3.2,0.9)])\n",
    "\n",
    "# Use the predict function...\n",
    "prediction = knn.predict(iris_test)"
   ]
  },
  {
   "cell_type": "code",
   "execution_count": 173,
   "metadata": {},
   "outputs": [
    {
     "data": {
      "text/plain": [
       "(3, 4)"
      ]
     },
     "execution_count": 173,
     "metadata": {},
     "output_type": "execute_result"
    }
   ],
   "source": [
    "# Understand the shape of test data\n",
    "iris_test.shape"
   ]
  },
  {
   "cell_type": "code",
   "execution_count": 174,
   "metadata": {},
   "outputs": [
    {
     "data": {
      "text/plain": [
       "(3,)"
      ]
     },
     "execution_count": 174,
     "metadata": {},
     "output_type": "execute_result"
    }
   ],
   "source": [
    "# understand the shape of target data\n",
    "prediction.shape"
   ]
  },
  {
   "cell_type": "code",
   "execution_count": 175,
   "metadata": {},
   "outputs": [
    {
     "name": "stdout",
     "output_type": "stream",
     "text": [
      "Prediction[0 2 1]:\n"
     ]
    }
   ],
   "source": [
    "print('Prediction{}:'.format(prediction))"
   ]
  },
  {
   "cell_type": "code",
   "execution_count": 176,
   "metadata": {},
   "outputs": [
    {
     "name": "stdout",
     "output_type": "stream",
     "text": [
      "Prediction: ['democrat']\n"
     ]
    }
   ],
   "source": [
    "# Another example with the voting data previously loaded...\n",
    "# to highlight the fit method..\n",
    "# Import KNeighborsClassifier from sklearn.neighbors\n",
    "from sklearn.neighbors import KNeighborsClassifier\n",
    "\n",
    "# Create arrays for the features and the response variable\n",
    "# Make sure to convert y/n to 1/0\n",
    "votes.replace(('y', 'n', '?'), (1, 0, np.nan), inplace=True)\n",
    "votes1 = votes.dropna()\n",
    "\n",
    "votes_y = votes1['party'].values\n",
    "votes_X = votes1.drop('party', axis=1).values\n",
    "\n",
    "# Create a k-NN classifier with 6 neighbors\n",
    "votes_knn = KNeighborsClassifier(n_neighbors=6)\n",
    "\n",
    "# Fit the classifier to the data\n",
    "votes_knn.fit(votes_X, votes_y)\n",
    "\n",
    "# Use the prediction function on train data\n",
    "votes_pred = votes_knn.predict(votes_X)\n",
    "\n",
    "votes_X_new = np.array([(pd.DataFrame(np.random.rand(1,16)))])\n",
    "\n",
    "# Now we are ready to predict on test data..\n",
    "votes_pred_new = votes_knn.predict(votes_X_new)\n",
    "print(\"Prediction: {}\".format(votes_pred_new))"
   ]
  },
  {
   "cell_type": "markdown",
   "metadata": {},
   "source": [
    "### Evaluating Model Performance\n",
    "So, how do we measure the performance of the classifier? To evaluate the model performance we will need a metric. For classification related problems, accurancy is one of the most common metric. Accuracy is measured as the fraction of correct predictions when compared to the total predictions. One way to calculate accuracy is to compute accuracy based on the data that was used to fit the classifier. However, this approach will not be indicative of how well the classifier can generalize.\n",
    "\n",
    "For this reason we divide the dataset to train and test datasets. We train the classifier with the training set and then allow the clssifier to predict based on the test set (data that the classifier has never seen before). The code snippet below show on how to split train/test data."
   ]
  },
  {
   "cell_type": "code",
   "execution_count": 177,
   "metadata": {},
   "outputs": [
    {
     "name": "stdout",
     "output_type": "stream",
     "text": [
      "dict_keys(['data', 'target', 'target_names', 'images', 'DESCR'])\n",
      ".. _digits_dataset:\n",
      "\n",
      "Optical recognition of handwritten digits dataset\n",
      "--------------------------------------------------\n",
      "\n",
      "**Data Set Characteristics:**\n",
      "\n",
      "    :Number of Instances: 5620\n",
      "    :Number of Attributes: 64\n",
      "    :Attribute Information: 8x8 image of integer pixels in the range 0..16.\n",
      "    :Missing Attribute Values: None\n",
      "    :Creator: E. Alpaydin (alpaydin '@' boun.edu.tr)\n",
      "    :Date: July; 1998\n",
      "\n",
      "This is a copy of the test set of the UCI ML hand-written digits datasets\n",
      "http://archive.ics.uci.edu/ml/datasets/Optical+Recognition+of+Handwritten+Digits\n",
      "\n",
      "The data set contains images of hand-written digits: 10 classes where\n",
      "each class refers to a digit.\n",
      "\n",
      "Preprocessing programs made available by NIST were used to extract\n",
      "normalized bitmaps of handwritten digits from a preprinted form. From a\n",
      "total of 43 people, 30 contributed to the training set and different 13\n",
      "to the test set. 32x32 bitmaps are divided into nonoverlapping blocks of\n",
      "4x4 and the number of on pixels are counted in each block. This generates\n",
      "an input matrix of 8x8 where each element is an integer in the range\n",
      "0..16. This reduces dimensionality and gives invariance to small\n",
      "distortions.\n",
      "\n",
      "For info on NIST preprocessing routines, see M. D. Garris, J. L. Blue, G.\n",
      "T. Candela, D. L. Dimmick, J. Geist, P. J. Grother, S. A. Janet, and C.\n",
      "L. Wilson, NIST Form-Based Handprint Recognition System, NISTIR 5469,\n",
      "1994.\n",
      "\n",
      ".. topic:: References\n",
      "\n",
      "  - C. Kaynak (1995) Methods of Combining Multiple Classifiers and Their\n",
      "    Applications to Handwritten Digit Recognition, MSc Thesis, Institute of\n",
      "    Graduate Studies in Science and Engineering, Bogazici University.\n",
      "  - E. Alpaydin, C. Kaynak (1998) Cascading Classifiers, Kybernetika.\n",
      "  - Ken Tang and Ponnuthurai N. Suganthan and Xi Yao and A. Kai Qin.\n",
      "    Linear dimensionalityreduction using relevance weighted LDA. School of\n",
      "    Electrical and Electronic Engineering Nanyang Technological University.\n",
      "    2005.\n",
      "  - Claudio Gentile. A New Approximate Maximal Margin Classification\n",
      "    Algorithm. NIPS. 2000.\n"
     ]
    }
   ],
   "source": [
    "# We will use the digits dataset to highlight the model performance...\n",
    "# Import necessary modules\n",
    "from sklearn import datasets\n",
    "import matplotlib.pyplot as plt\n",
    "\n",
    "# Load the digits dataset: digits\n",
    "digits = datasets.load_digits()\n",
    "\n",
    "# Print the keys and DESCR of the dataset\n",
    "print(digits.keys())\n",
    "print(digits.DESCR)"
   ]
  },
  {
   "cell_type": "code",
   "execution_count": 178,
   "metadata": {},
   "outputs": [
    {
     "name": "stdout",
     "output_type": "stream",
     "text": [
      "(1797, 8, 8)\n",
      "(1797, 64)\n"
     ]
    }
   ],
   "source": [
    "# Print the shape of the images and data keys\n",
    "print(digits.images.shape)\n",
    "print(digits.data.shape)"
   ]
  },
  {
   "cell_type": "code",
   "execution_count": 179,
   "metadata": {},
   "outputs": [
    {
     "data": {
      "image/png": "[encoded data removed]",
      "text/plain": [
       "<Figure size 720x576 with 1 Axes>"
      ]
     },
     "metadata": {
      "needs_background": "light"
     },
     "output_type": "display_data"
    }
   ],
   "source": [
    "# Display digit 1010\n",
    "plt.imshow(digits.images[1010], cmap=plt.cm.gray_r, interpolation='nearest')\n",
    "plt.show()"
   ]
  },
  {
   "cell_type": "code",
   "execution_count": 180,
   "metadata": {},
   "outputs": [
    {
     "name": "stdout",
     "output_type": "stream",
     "text": [
      "Test score predictions:\n",
      " [5 2 8 1 7 2 6 2 6 5 0 5 9 3 4 4 2 4 9 9 6 3 8 1 2 5 6 0 3 4 6 7 2 6 6 6 8\n",
      " 5 0 9 1 7 9 6 5 7 5 2 7 5 0 1 5 5 3 2 4 0 0 2 7 5 6 1 3 7 6 5 7 0 9 0 3 8\n",
      " 2 5 7 2 3 5 9 3 2 7 9 6 8 1 0 1 2 9 4 4 1 2 7 8 4 2 6 8 3 7 3 9 6 1 1 0 9\n",
      " 2 1 6 3 4 8 7 1 0 0 4 6 5 8 2 8 1 3 0 0 8 6 4 3 9 3 3 3 3 0 7 0 0 1 9 5 8\n",
      " 1 5 0 6 6 6 6 1 7 7 6 7 7 8 7 3 6 5 9 0 3 8 0 9 8 1 9 5 9 5 8 9 9 7 9 1 9\n",
      " 5 4 7 3 0 4 9 7 7 5 6 5 8 3 4 5 4 9 2 5 5 2 1 3 8 8 9 3 6 1 0 1 4 0 5 5 6\n",
      " 6 7 4 3 8 4 1 0 7 9 2 8 4 8 4 2 4 0 0 0 2 6 7 0 4 5 2 2 9 0 4 6 8 2 3 9 2\n",
      " 3 0 6 8 7 1 4 4 1 1 6 3 8 1 2 5 7 8 3 2 0 3 4 1 9 9 9 6 3 7 1 6 9 4 7 1 8\n",
      " 1 3 0 5 3 4 1 9 3 5 4 7 4 1 5 1 5 0 9 8 4 2 3 8 4 1 2 0 1 1 4 4 5 7 5 0 3\n",
      " 2 2 4 2 7 7 8 7 6 3 1 1 5 8 8 8 6 7 2 7 8 9 4 2 0 3 4]\n",
      "Accuracy is: 0.9833333333333333\n"
     ]
    }
   ],
   "source": [
    "# Code snippet to split train and test data as well as measure the model performance on the test data...\n",
    "# Import necessary modules\n",
    "from sklearn.neighbors import KNeighborsClassifier\n",
    "from sklearn.model_selection import train_test_split\n",
    "\n",
    "# Create feature and target arrays\n",
    "X = digits.data\n",
    "y = digits.target\n",
    "\n",
    "# Split into training and test set\n",
    "X_train, X_test, y_train, y_test = train_test_split(X, y, test_size = 0.2, random_state=42, stratify=y)\n",
    "\n",
    "# Create a k-NN classifier with 7 neighbors: knn\n",
    "knn = KNeighborsClassifier(n_neighbors=7)\n",
    "\n",
    "# Fit the classifier to the training data\n",
    "knn.fit(X_train, y_train)\n",
    "\n",
    "# Predict based on the test data\n",
    "y_pred = knn.predict(X_test)\n",
    "\n",
    "# Print the test score predictions and accuracy\n",
    "print('Test score predictions:\\n {}'.format(y_pred))\n",
    "print('Accuracy is: {}'.format(knn.score(X_test, y_test)))"
   ]
  },
  {
   "cell_type": "markdown",
   "metadata": {},
   "source": [
    "### Overfitting & Underfitting\n",
    "Overfitting is when for low values of k, the model tries to to fit each of the observation to a class label by itself. Underfitting is when for high values of k, the model tries to group each of the observation to as little a class label. Somewhere in between there is a sweet spot for the values of k, on how the classifier fits the observations to class labels. We will illustarte this with the below graph."
   ]
  },
  {
   "cell_type": "code",
   "execution_count": 181,
   "metadata": {},
   "outputs": [
    {
     "data": {
      "image/png": "[encoded data removed]",
      "text/plain": [
       "<Figure size 720x576 with 1 Axes>"
      ]
     },
     "metadata": {
      "needs_background": "light"
     },
     "output_type": "display_data"
    }
   ],
   "source": [
    "# Setup arrays to store train and test accuracies\n",
    "neighbors = np.arange(1, 9)\n",
    "train_accuracy = np.empty(len(neighbors))\n",
    "test_accuracy = np.empty(len(neighbors))\n",
    "\n",
    "# Loop over different values of k\n",
    "for i, k in enumerate(neighbors):\n",
    "    # Setup a k-NN Classifier with k neighbors: knn\n",
    "    knn = KNeighborsClassifier(n_neighbors=k)\n",
    "\n",
    "    # Fit the classifier to the training data\n",
    "    knn.fit(X_train, y_train)\n",
    "    \n",
    "    #Compute accuracy on the training set\n",
    "    train_accuracy[i] = knn.score(X_train, y_train)\n",
    "\n",
    "    #Compute accuracy on the testing set\n",
    "    test_accuracy[i] = knn.score(X_test, y_test)\n",
    "\n",
    "# Generate plot\n",
    "plt.title('k-NN: Varying Number of Neighbors')\n",
    "plt.plot(neighbors, test_accuracy, label = 'Testing Accuracy')\n",
    "plt.plot(neighbors, train_accuracy, label = 'Training Accuracy')\n",
    "plt.legend()\n",
    "plt.xlabel('Number of Neighbors')\n",
    "plt.ylabel('Accuracy')\n",
    "plt.show()"
   ]
  },
  {
   "cell_type": "markdown",
   "metadata": {},
   "source": [
    "It looks like the optimal value of k is between 3 and 5. For lower values of k, we can see that there is overfitting, especially in the training data and for values of k greater than 5, we can see the model tries to underfit. While this makes the model simpler, it sure does reduces the accuracy of the model."
   ]
  },
  {
   "cell_type": "markdown",
   "metadata": {},
   "source": [
    "## Regression\n",
    "In regression tasks, the target value is a continuous varying variable, not categorical like the classifier problem scope in the previous section.\n",
    "\n",
    "We will use the boston housing market data to highlight some of the regression concepts."
   ]
  },
  {
   "cell_type": "code",
   "execution_count": 182,
   "metadata": {},
   "outputs": [
    {
     "name": "stdout",
     "output_type": "stream",
     "text": [
      "dict_keys(['data', 'target', 'feature_names', 'DESCR', 'filename'])\n"
     ]
    }
   ],
   "source": [
    "# Loading boston housing market data through scilearn datasets..\n",
    "# Note that we could also use the csv data to load the same data as well...\n",
    "from sklearn import datasets\n",
    "boston_array = datasets.load_boston()\n",
    "type(boston_array)\n",
    "print(boston_array.keys())"
   ]
  },
  {
   "cell_type": "code",
   "execution_count": 183,
   "metadata": {},
   "outputs": [
    {
     "name": "stdout",
     "output_type": "stream",
     "text": [
      "      CRIM    ZN  INDUS  CHAS    NOX     RM   AGE     DIS  RAD    TAX  \\\n",
      "0  0.00632  18.0   2.31   0.0  0.538  6.575  65.2  4.0900  1.0  296.0   \n",
      "1  0.02731   0.0   7.07   0.0  0.469  6.421  78.9  4.9671  2.0  242.0   \n",
      "2  0.02729   0.0   7.07   0.0  0.469  7.185  61.1  4.9671  2.0  242.0   \n",
      "3  0.03237   0.0   2.18   0.0  0.458  6.998  45.8  6.0622  3.0  222.0   \n",
      "4  0.06905   0.0   2.18   0.0  0.458  7.147  54.2  6.0622  3.0  222.0   \n",
      "\n",
      "   PTRATIO       B  LSTAT  \n",
      "0     15.3  396.90   4.98  \n",
      "1     17.8  396.90   9.14  \n",
      "2     17.8  392.83   4.03  \n",
      "3     18.7  394.63   2.94  \n",
      "4     18.7  396.90   5.33  \n"
     ]
    }
   ],
   "source": [
    "# Let us look to understand the data...\n",
    "# we will convert the data to a pandas dataframe from numpy array..\n",
    "# Getting the feature and target data into a dataframe...\n",
    "boston_df = pd.DataFrame(boston_array.data, columns = boston_array.feature_names)\n",
    "print(boston_df.head())"
   ]
  },
  {
   "cell_type": "code",
   "execution_count": 184,
   "metadata": {},
   "outputs": [
    {
     "name": "stdout",
     "output_type": "stream",
     "text": [
      "      CRIM    ZN  INDUS  CHAS     NX     RM   AGE     DIS  RAD    TAX  \\\n",
      "0  0.00632  18.0   2.31     0  0.538  6.575  65.2  4.0900    1  296.0   \n",
      "1  0.02731   0.0   7.07     0  0.469  6.421  78.9  4.9671    2  242.0   \n",
      "2  0.02729   0.0   7.07     0  0.469  7.185  61.1  4.9671    2  242.0   \n",
      "3  0.03237   0.0   2.18     0  0.458  6.998  45.8  6.0622    3  222.0   \n",
      "4  0.06905   0.0   2.18     0  0.458  7.147  54.2  6.0622    3  222.0   \n",
      "\n",
      "   PTRATIO       B  LSTAT  MEDV  \n",
      "0     15.3  396.90   4.98  24.0  \n",
      "1     17.8  396.90   9.14  21.6  \n",
      "2     17.8  392.83   4.03  34.7  \n",
      "3     18.7  394.63   2.94  33.4  \n",
      "4     18.7  396.90   5.33  36.2  \n"
     ]
    }
   ],
   "source": [
    "# Alternate way of loading the data will be from csv file..\n",
    "boston = pd.read_csv('./data/boston.csv')\n",
    "print(boston.head())"
   ]
  },
  {
   "cell_type": "code",
   "execution_count": 185,
   "metadata": {},
   "outputs": [
    {
     "data": {
      "text/plain": [
       "((506, 13), (506,))"
      ]
     },
     "execution_count": 185,
     "metadata": {},
     "output_type": "execute_result"
    }
   ],
   "source": [
    "# Creating feature and target arrays...\n",
    "# We will use median value as target array..\n",
    "bhm_X = boston.drop('MEDV', axis=1).values\n",
    "bhm_y = boston['MEDV'].values\n",
    "bhm_cols = boston.drop('MEDV', axis=1).columns\n",
    "bhm_X.shape, bhm_y.shape"
   ]
  },
  {
   "cell_type": "code",
   "execution_count": 186,
   "metadata": {},
   "outputs": [
    {
     "data": {
      "text/plain": [
       "((506,), (506,))"
      ]
     },
     "execution_count": 186,
     "metadata": {},
     "output_type": "execute_result"
    }
   ],
   "source": [
    "# We will now predict home values based on a single feature, number of rooms (RM)\n",
    "# note that python index starts at 0...\n",
    "bhm_X_rooms = bhm_X[:,5]\n",
    "type(bhm_X_rooms), type(bhm_y)\n",
    "bhm_X_rooms.shape, bhm_y.shape"
   ]
  },
  {
   "cell_type": "code",
   "execution_count": 187,
   "metadata": {},
   "outputs": [
    {
     "data": {
      "text/plain": [
       "((506, 1), (506, 1))"
      ]
     },
     "execution_count": 187,
     "metadata": {},
     "output_type": "execute_result"
    }
   ],
   "source": [
    "# reshaping to align with the dimensions of the arrays\n",
    "bhm_y = bhm_y.reshape(-1,1)\n",
    "bhm_X_rooms = bhm_X_rooms.reshape(-1,1)\n",
    "bhm_X_rooms.shape, bhm_y.shape"
   ]
  },
  {
   "cell_type": "code",
   "execution_count": 188,
   "metadata": {},
   "outputs": [
    {
     "data": {
      "image/png": "[encoded data removed]",
      "text/plain": [
       "<Figure size 720x576 with 1 Axes>"
      ]
     },
     "metadata": {
      "needs_background": "light"
     },
     "output_type": "display_data"
    }
   ],
   "source": [
    "# Plotting home values as a function of number of rooms..\n",
    "# We can see more rooms lead to higher values..\n",
    "plt.scatter(bhm_X_rooms, bhm_y)\n",
    "plt.ylabel('Value of home /1000 ($)')\n",
    "plt.xlabel('Number of rooms')\n",
    "plt.show()"
   ]
  },
  {
   "cell_type": "code",
   "execution_count": 189,
   "metadata": {},
   "outputs": [
    {
     "data": {
      "image/png": "[encoded data removed]",
      "text/plain": [
       "<Figure size 720x576 with 1 Axes>"
      ]
     },
     "metadata": {
      "needs_background": "light"
     },
     "output_type": "display_data"
    }
   ],
   "source": [
    "# Fitting a linear regression model..\n",
    "from sklearn import linear_model\n",
    "bhm_reg = linear_model.LinearRegression()\n",
    "bhm_reg.fit(bhm_X_rooms,bhm_y)\n",
    "\n",
    "# Let us check out the model's prediction\n",
    "bhm_prediction_space = np.linspace(min(bhm_X_rooms), max(bhm_X_rooms)).reshape(-1,1)\n",
    "\n",
    "# Let us plot the prediction..\n",
    "plt.scatter(bhm_X_rooms,bhm_y, color='blue')\n",
    "plt.plot(bhm_prediction_space, bhm_reg.predict(bhm_prediction_space), color='black', linewidth=3)\n",
    "plt.show()"
   ]
  },
  {
   "cell_type": "markdown",
   "metadata": {},
   "source": [
    "### Linear Regression\n",
    "The basics of linear regression model is that we are trying to fit a line (linear) to the model data. The formula for line is:\n",
    "\n",
    "     y = ax + b\n",
    " \n",
    " where y = target, x = single feature and a,b are the parameters of the model\n",
    "\n",
    "The goal of the linear regression model is choosing a and b. One of the common method is to define an error function for any given line and then use a and b to choose a line that minimizes the error function. Error functions are also called cost or loss function.\n",
    "\n",
    "To minimize the error function, we need to draw a line that is as close to the datapoints as they can be. One way to achieve that is to minimize the vertical distance between the fit and the data. For each datapoint, this distance is called the residual. We can try to minimze the sum of the residuals, but then we could have the effect offset between a large positive residual and a large negative residual. For this reason, we will want to minimize the sum of the square distance and this becomes the lost function. This function is also called ordinary least square (ols) and it minimizes the sum of squares of the residuals. scilearn function does OLS under the hood when we call the linear regression function.\n",
    "\n",
    "For higher dimensions, where we have more than one target, the formula for the line becomes\n",
    "\n",
    "    y = a1*x1 + a2*x2 +...+ ai*Xi +b"
   ]
  },
  {
   "cell_type": "code",
   "execution_count": 190,
   "metadata": {},
   "outputs": [
    {
     "data": {
      "text/plain": [
       "0.7112260057484927"
      ]
     },
     "execution_count": 190,
     "metadata": {},
     "output_type": "execute_result"
    }
   ],
   "source": [
    "# Going back to the housing market, we will now want to use the linear regression model \n",
    "# to train and test the dataset.\n",
    "\n",
    "# Code snippet to split train and test data as well as measure the model performance on the test data...\n",
    "# Import necessary modules\n",
    "from sklearn.model_selection import train_test_split\n",
    "\n",
    "# Split into training and test set\n",
    "bhm_X_train, bhm_X_test, bhm_y_train, bhm_y_test = train_test_split(bhm_X, bhm_y, test_size=0.3, random_state=42)\n",
    "\n",
    "# Apply Linear Regression on the training set\n",
    "bhm_reg_all = linear_model.LinearRegression()\n",
    "\n",
    "# Fit the model based on the training set\n",
    "bhm_reg_all.fit(bhm_X_train, bhm_y_train)\n",
    "\n",
    "# Predict the test data based on the model\n",
    "bhm_y_pred = bhm_reg_all.predict(bhm_X_test)\n",
    "\n",
    "#vAccuracy of the model\n",
    "bhm_reg_all.score(bhm_X_test, bhm_y_test)"
   ]
  },
  {
   "cell_type": "code",
   "execution_count": 191,
   "metadata": {},
   "outputs": [
    {
     "name": "stdout",
     "output_type": "stream",
     "text": [
      "Dimensions of y before reshaping: (139,)\n",
      "Dimensions of X_fertility before reshaping: (139,)\n",
      "Dimensions of X before reshaping: (139, 8)\n"
     ]
    }
   ],
   "source": [
    "# Now let us try the same with another example...\n",
    "# We will use the gapminder dataset\n",
    "# Import numpy and pandas\n",
    "import numpy as np\n",
    "import pandas as pd\n",
    "\n",
    "# Read the CSV file into a DataFrame: df\n",
    "gm_df = pd.read_csv('./data/gm_2008_region.csv')\n",
    "gm_df_columns = gm_df.columns.values\n",
    "gm_df_columns = gm_df_columns[[0,1,2,3,4,5,6,8]]\n",
    "\n",
    "# Create arrays for features and target variable\n",
    "gm_y = gm_df['life'].values\n",
    "gm_X_fertility = gm_df.drop('life', axis=1).values\n",
    "gm_X_fertility = gm_X_fertility[:,1]\n",
    "\n",
    "gm_X = gm_df.drop('life', axis=1).values\n",
    "gm_X = gm_X[:,[0,1,2,3,4,5,6,7]]\n",
    "\n",
    "# Print the dimensions of X and y before reshaping\n",
    "print(\"Dimensions of y before reshaping: {}\".format(gm_y.shape))\n",
    "print(\"Dimensions of X_fertility before reshaping: {}\".format(gm_X_fertility.shape))\n",
    "print(\"Dimensions of X before reshaping: {}\".format(gm_X.shape))"
   ]
  },
  {
   "cell_type": "code",
   "execution_count": 192,
   "metadata": {},
   "outputs": [
    {
     "data": {
      "text/plain": [
       "array(['population', 'fertility', 'HIV', 'CO2', 'BMI_male', 'GDP',\n",
       "       'BMI_female', 'child_mortality'], dtype=object)"
      ]
     },
     "execution_count": 192,
     "metadata": {},
     "output_type": "execute_result"
    }
   ],
   "source": [
    "gm_df_columns"
   ]
  },
  {
   "cell_type": "code",
   "execution_count": 193,
   "metadata": {},
   "outputs": [
    {
     "name": "stdout",
     "output_type": "stream",
     "text": [
      "Dimensions of y after reshaping: (139, 1)\n",
      "Dimensions of X_fertility after reshaping: (139, 1)\n",
      "Dimensions of X after reshaping: (139, 8)\n"
     ]
    }
   ],
   "source": [
    "# Reshape X and y\n",
    "# Getting the feature and target variable arrays into the right format for scikit-learn \n",
    "# is an important precursor to model building.\n",
    "gm_y = gm_y.reshape(-1,1)\n",
    "gm_X_fertility = gm_X_fertility.reshape(-1,1)\n",
    "gm_X = gm_X.reshape(-1,8)\n",
    "\n",
    "# Print the dimensions of X and y after reshaping\n",
    "print(\"Dimensions of y after reshaping: {}\".format(gm_y.shape))\n",
    "print(\"Dimensions of X_fertility after reshaping: {}\".format(gm_X_fertility.shape))\n",
    "print(\"Dimensions of X after reshaping: {}\".format(gm_X.shape))"
   ]
  },
  {
   "cell_type": "code",
   "execution_count": 194,
   "metadata": {},
   "outputs": [
    {
     "name": "stdout",
     "output_type": "stream",
     "text": [
      "<class 'pandas.core.frame.DataFrame'>\n",
      "RangeIndex: 139 entries, 0 to 138\n",
      "Data columns (total 10 columns):\n",
      "population         139 non-null float64\n",
      "fertility          139 non-null float64\n",
      "HIV                139 non-null float64\n",
      "CO2                139 non-null float64\n",
      "BMI_male           139 non-null float64\n",
      "GDP                139 non-null float64\n",
      "BMI_female         139 non-null float64\n",
      "life               139 non-null float64\n",
      "child_mortality    139 non-null float64\n",
      "Region             139 non-null object\n",
      "dtypes: float64(9), object(1)\n",
      "memory usage: 10.9+ KB\n"
     ]
    }
   ],
   "source": [
    "# Let us understand the dataset we will be working with..\n",
    "gm_df.info()"
   ]
  },
  {
   "cell_type": "code",
   "execution_count": 195,
   "metadata": {},
   "outputs": [
    {
     "data": {
      "text/html": [
       "<div>\n",
       "<style scoped>\n",
       "    .dataframe tbody tr th:only-of-type {\n",
       "        vertical-align: middle;\n",
       "    }\n",
       "\n",
       "    .dataframe tbody tr th {\n",
       "        vertical-align: top;\n",
       "    }\n",
       "\n",
       "    .dataframe thead th {\n",
       "        text-align: right;\n",
       "    }\n",
       "</style>\n",
       "<table border=\"1\" class=\"dataframe\">\n",
       "  <thead>\n",
       "    <tr style=\"text-align: right;\">\n",
       "      <th></th>\n",
       "      <th>population</th>\n",
       "      <th>fertility</th>\n",
       "      <th>HIV</th>\n",
       "      <th>CO2</th>\n",
       "      <th>BMI_male</th>\n",
       "      <th>GDP</th>\n",
       "      <th>BMI_female</th>\n",
       "      <th>life</th>\n",
       "      <th>child_mortality</th>\n",
       "    </tr>\n",
       "  </thead>\n",
       "  <tbody>\n",
       "    <tr>\n",
       "      <th>count</th>\n",
       "      <td>1.390000e+02</td>\n",
       "      <td>139.000000</td>\n",
       "      <td>139.000000</td>\n",
       "      <td>139.000000</td>\n",
       "      <td>139.000000</td>\n",
       "      <td>139.000000</td>\n",
       "      <td>139.000000</td>\n",
       "      <td>139.000000</td>\n",
       "      <td>139.000000</td>\n",
       "    </tr>\n",
       "    <tr>\n",
       "      <th>mean</th>\n",
       "      <td>3.549977e+07</td>\n",
       "      <td>3.005108</td>\n",
       "      <td>1.915612</td>\n",
       "      <td>4.459874</td>\n",
       "      <td>24.623054</td>\n",
       "      <td>16638.784173</td>\n",
       "      <td>126.701914</td>\n",
       "      <td>69.602878</td>\n",
       "      <td>45.097122</td>\n",
       "    </tr>\n",
       "    <tr>\n",
       "      <th>std</th>\n",
       "      <td>1.095121e+08</td>\n",
       "      <td>1.615354</td>\n",
       "      <td>4.408974</td>\n",
       "      <td>6.268349</td>\n",
       "      <td>2.209368</td>\n",
       "      <td>19207.299083</td>\n",
       "      <td>4.471997</td>\n",
       "      <td>9.122189</td>\n",
       "      <td>45.724667</td>\n",
       "    </tr>\n",
       "    <tr>\n",
       "      <th>min</th>\n",
       "      <td>2.773150e+05</td>\n",
       "      <td>1.280000</td>\n",
       "      <td>0.060000</td>\n",
       "      <td>0.008618</td>\n",
       "      <td>20.397420</td>\n",
       "      <td>588.000000</td>\n",
       "      <td>117.375500</td>\n",
       "      <td>45.200000</td>\n",
       "      <td>2.700000</td>\n",
       "    </tr>\n",
       "    <tr>\n",
       "      <th>25%</th>\n",
       "      <td>3.752776e+06</td>\n",
       "      <td>1.810000</td>\n",
       "      <td>0.100000</td>\n",
       "      <td>0.496190</td>\n",
       "      <td>22.448135</td>\n",
       "      <td>2899.000000</td>\n",
       "      <td>123.232200</td>\n",
       "      <td>62.200000</td>\n",
       "      <td>8.100000</td>\n",
       "    </tr>\n",
       "    <tr>\n",
       "      <th>50%</th>\n",
       "      <td>9.705130e+06</td>\n",
       "      <td>2.410000</td>\n",
       "      <td>0.400000</td>\n",
       "      <td>2.223796</td>\n",
       "      <td>25.156990</td>\n",
       "      <td>9938.000000</td>\n",
       "      <td>126.519600</td>\n",
       "      <td>72.000000</td>\n",
       "      <td>24.000000</td>\n",
       "    </tr>\n",
       "    <tr>\n",
       "      <th>75%</th>\n",
       "      <td>2.791973e+07</td>\n",
       "      <td>4.095000</td>\n",
       "      <td>1.300000</td>\n",
       "      <td>6.589156</td>\n",
       "      <td>26.497575</td>\n",
       "      <td>23278.500000</td>\n",
       "      <td>130.275900</td>\n",
       "      <td>76.850000</td>\n",
       "      <td>74.200000</td>\n",
       "    </tr>\n",
       "    <tr>\n",
       "      <th>max</th>\n",
       "      <td>1.197070e+09</td>\n",
       "      <td>7.590000</td>\n",
       "      <td>25.900000</td>\n",
       "      <td>48.702062</td>\n",
       "      <td>28.456980</td>\n",
       "      <td>126076.000000</td>\n",
       "      <td>135.492000</td>\n",
       "      <td>82.600000</td>\n",
       "      <td>192.000000</td>\n",
       "    </tr>\n",
       "  </tbody>\n",
       "</table>\n",
       "</div>"
      ],
      "text/plain": [
       "         population   fertility         HIV         CO2    BMI_male  \\\n",
       "count  1.390000e+02  139.000000  139.000000  139.000000  139.000000   \n",
       "mean   3.549977e+07    3.005108    1.915612    4.459874   24.623054   \n",
       "std    1.095121e+08    1.615354    4.408974    6.268349    2.209368   \n",
       "min    2.773150e+05    1.280000    0.060000    0.008618   20.397420   \n",
       "25%    3.752776e+06    1.810000    0.100000    0.496190   22.448135   \n",
       "50%    9.705130e+06    2.410000    0.400000    2.223796   25.156990   \n",
       "75%    2.791973e+07    4.095000    1.300000    6.589156   26.497575   \n",
       "max    1.197070e+09    7.590000   25.900000   48.702062   28.456980   \n",
       "\n",
       "                 GDP  BMI_female        life  child_mortality  \n",
       "count     139.000000  139.000000  139.000000       139.000000  \n",
       "mean    16638.784173  126.701914   69.602878        45.097122  \n",
       "std     19207.299083    4.471997    9.122189        45.724667  \n",
       "min       588.000000  117.375500   45.200000         2.700000  \n",
       "25%      2899.000000  123.232200   62.200000         8.100000  \n",
       "50%      9938.000000  126.519600   72.000000        24.000000  \n",
       "75%     23278.500000  130.275900   76.850000        74.200000  \n",
       "max    126076.000000  135.492000   82.600000       192.000000  "
      ]
     },
     "execution_count": 195,
     "metadata": {},
     "output_type": "execute_result"
    }
   ],
   "source": [
    "# Let us understand the dataset we will be working with..\n",
    "gm_df.describe()"
   ]
  },
  {
   "cell_type": "code",
   "execution_count": 196,
   "metadata": {},
   "outputs": [
    {
     "data": {
      "text/html": [
       "<div>\n",
       "<style scoped>\n",
       "    .dataframe tbody tr th:only-of-type {\n",
       "        vertical-align: middle;\n",
       "    }\n",
       "\n",
       "    .dataframe tbody tr th {\n",
       "        vertical-align: top;\n",
       "    }\n",
       "\n",
       "    .dataframe thead th {\n",
       "        text-align: right;\n",
       "    }\n",
       "</style>\n",
       "<table border=\"1\" class=\"dataframe\">\n",
       "  <thead>\n",
       "    <tr style=\"text-align: right;\">\n",
       "      <th></th>\n",
       "      <th>population</th>\n",
       "      <th>fertility</th>\n",
       "      <th>HIV</th>\n",
       "      <th>CO2</th>\n",
       "      <th>BMI_male</th>\n",
       "      <th>GDP</th>\n",
       "      <th>BMI_female</th>\n",
       "      <th>life</th>\n",
       "      <th>child_mortality</th>\n",
       "      <th>Region</th>\n",
       "    </tr>\n",
       "  </thead>\n",
       "  <tbody>\n",
       "    <tr>\n",
       "      <th>0</th>\n",
       "      <td>34811059.0</td>\n",
       "      <td>2.73</td>\n",
       "      <td>0.1</td>\n",
       "      <td>3.328945</td>\n",
       "      <td>24.59620</td>\n",
       "      <td>12314.0</td>\n",
       "      <td>129.9049</td>\n",
       "      <td>75.3</td>\n",
       "      <td>29.5</td>\n",
       "      <td>Middle East &amp; North Africa</td>\n",
       "    </tr>\n",
       "    <tr>\n",
       "      <th>1</th>\n",
       "      <td>19842251.0</td>\n",
       "      <td>6.43</td>\n",
       "      <td>2.0</td>\n",
       "      <td>1.474353</td>\n",
       "      <td>22.25083</td>\n",
       "      <td>7103.0</td>\n",
       "      <td>130.1247</td>\n",
       "      <td>58.3</td>\n",
       "      <td>192.0</td>\n",
       "      <td>Sub-Saharan Africa</td>\n",
       "    </tr>\n",
       "    <tr>\n",
       "      <th>2</th>\n",
       "      <td>40381860.0</td>\n",
       "      <td>2.24</td>\n",
       "      <td>0.5</td>\n",
       "      <td>4.785170</td>\n",
       "      <td>27.50170</td>\n",
       "      <td>14646.0</td>\n",
       "      <td>118.8915</td>\n",
       "      <td>75.5</td>\n",
       "      <td>15.4</td>\n",
       "      <td>America</td>\n",
       "    </tr>\n",
       "    <tr>\n",
       "      <th>3</th>\n",
       "      <td>2975029.0</td>\n",
       "      <td>1.40</td>\n",
       "      <td>0.1</td>\n",
       "      <td>1.804106</td>\n",
       "      <td>25.35542</td>\n",
       "      <td>7383.0</td>\n",
       "      <td>132.8108</td>\n",
       "      <td>72.5</td>\n",
       "      <td>20.0</td>\n",
       "      <td>Europe &amp; Central Asia</td>\n",
       "    </tr>\n",
       "    <tr>\n",
       "      <th>4</th>\n",
       "      <td>21370348.0</td>\n",
       "      <td>1.96</td>\n",
       "      <td>0.1</td>\n",
       "      <td>18.016313</td>\n",
       "      <td>27.56373</td>\n",
       "      <td>41312.0</td>\n",
       "      <td>117.3755</td>\n",
       "      <td>81.5</td>\n",
       "      <td>5.2</td>\n",
       "      <td>East Asia &amp; Pacific</td>\n",
       "    </tr>\n",
       "  </tbody>\n",
       "</table>\n",
       "</div>"
      ],
      "text/plain": [
       "   population  fertility  HIV        CO2  BMI_male      GDP  BMI_female  life  \\\n",
       "0  34811059.0       2.73  0.1   3.328945  24.59620  12314.0    129.9049  75.3   \n",
       "1  19842251.0       6.43  2.0   1.474353  22.25083   7103.0    130.1247  58.3   \n",
       "2  40381860.0       2.24  0.5   4.785170  27.50170  14646.0    118.8915  75.5   \n",
       "3   2975029.0       1.40  0.1   1.804106  25.35542   7383.0    132.8108  72.5   \n",
       "4  21370348.0       1.96  0.1  18.016313  27.56373  41312.0    117.3755  81.5   \n",
       "\n",
       "   child_mortality                      Region  \n",
       "0             29.5  Middle East & North Africa  \n",
       "1            192.0          Sub-Saharan Africa  \n",
       "2             15.4                     America  \n",
       "3             20.0       Europe & Central Asia  \n",
       "4              5.2         East Asia & Pacific  "
      ]
     },
     "execution_count": 196,
     "metadata": {},
     "output_type": "execute_result"
    }
   ],
   "source": [
    "# Let us understand the dataset we will be working with..\n",
    "gm_df.head()"
   ]
  },
  {
   "cell_type": "code",
   "execution_count": 197,
   "metadata": {},
   "outputs": [
    {
     "data": {
      "text/plain": [
       "<matplotlib.axes._subplots.AxesSubplot at 0x1a2584c7b8>"
      ]
     },
     "execution_count": 197,
     "metadata": {},
     "output_type": "execute_result"
    },
    {
     "data": {
      "text/plain": [
       "<Figure size 720x576 with 0 Axes>"
      ]
     },
     "metadata": {},
     "output_type": "display_data"
    },
    {
     "data": {
      "image/png": "[encoded data removed]",
      "text/plain": [
       "<Figure size 720x576 with 2 Axes>"
      ]
     },
     "metadata": {
      "needs_background": "light"
     },
     "output_type": "display_data"
    }
   ],
   "source": [
    "# Now plot a heatmap showing the correlation between the different features of the Gapminder dataset\n",
    "# Cells that are in green show positive correlation, while cells that are in red show negative correlation.\n",
    "plt.tight_layout()\n",
    "fig, ax =plt.subplots(1,1)\n",
    "sns.heatmap(gm_df.corr(), square=True, cmap='RdYlGn')"
   ]
  },
  {
   "cell_type": "code",
   "execution_count": 198,
   "metadata": {},
   "outputs": [
    {
     "name": "stdout",
     "output_type": "stream",
     "text": [
      "Score is 0.6192442167740037\n"
     ]
    }
   ],
   "source": [
    "# Import LinearRegression\n",
    "from sklearn import linear_model\n",
    "\n",
    "# Create the regressor: reg\n",
    "gm_reg = linear_model.LinearRegression()\n",
    "\n",
    "# Create the prediction space\n",
    "gm_prediction_space = np.linspace(min(gm_X_fertility), max(gm_X_fertility)).reshape(-1,1)\n",
    "\n",
    "# Fit the model to the data\n",
    "gm_reg.fit(gm_X_fertility,gm_y)\n",
    "\n",
    "# Compute predictions over the prediction space: y_pred\n",
    "gm_y_pred = gm_reg.predict(gm_prediction_space)\n",
    "\n",
    "# Print R^2 \n",
    "print('Score is {}'.format(gm_reg.score(gm_X_fertility, gm_y)))\n"
   ]
  },
  {
   "cell_type": "code",
   "execution_count": 199,
   "metadata": {},
   "outputs": [
    {
     "data": {
      "image/png": "[encoded data removed]",
      "text/plain": [
       "<Figure size 720x576 with 1 Axes>"
      ]
     },
     "metadata": {
      "needs_background": "light"
     },
     "output_type": "display_data"
    }
   ],
   "source": [
    "# Plot regression line\n",
    "\n",
    "plt.scatter(gm_X_fertility, gm_y, color='blue')\n",
    "plt.ylabel('Life Expectancy')\n",
    "plt.xlabel('Fertility')\n",
    "\n",
    "plt.plot(gm_prediction_space, gm_y_pred, color='black', linewidth=3)\n",
    "plt.show()"
   ]
  },
  {
   "cell_type": "code",
   "execution_count": 200,
   "metadata": {},
   "outputs": [
    {
     "data": {
      "text/plain": [
       "((139, 8), (139, 1))"
      ]
     },
     "execution_count": 200,
     "metadata": {},
     "output_type": "execute_result"
    }
   ],
   "source": [
    "gm_X.shape, gm_y.shape"
   ]
  },
  {
   "cell_type": "code",
   "execution_count": 201,
   "metadata": {},
   "outputs": [
    {
     "name": "stdout",
     "output_type": "stream",
     "text": [
      "R^2: 0.8380468731430055\n",
      "Root Mean Squared Error: 3.2476010800370254\n"
     ]
    }
   ],
   "source": [
    "# Import necessary modules\n",
    "from sklearn.linear_model import LinearRegression\n",
    "from sklearn.metrics import mean_squared_error\n",
    "from sklearn.model_selection import train_test_split\n",
    "\n",
    "\n",
    "# Create training and test sets\n",
    "gm_X_train, gm_X_test, gm_y_train, gm_y_test = train_test_split(gm_X, gm_y, test_size = 0.3, random_state=42)\n",
    "\n",
    "# Create the regressor: reg_all\n",
    "gm_reg_all = LinearRegression()\n",
    "\n",
    "# Fit the regressor to the training data\n",
    "gm_reg_all.fit(gm_X_train, gm_y_train)\n",
    "\n",
    "# Predict on the test data: y_pred\n",
    "gm_y_pred = gm_reg_all.predict(gm_X_test)\n",
    "\n",
    "# Compute and print R^2 and RMSE\n",
    "print(\"R^2: {}\".format(gm_reg_all.score(gm_X_test, gm_y_test)))\n",
    "gm_rmse = np.sqrt(mean_squared_error(gm_y_test, gm_y_pred))\n",
    "print(\"Root Mean Squared Error: {}\".format(gm_rmse))"
   ]
  },
  {
   "cell_type": "markdown",
   "metadata": {},
   "source": [
    "As we can see from the above, the performance of the model increased when we fit all features as part of the training and prediction. "
   ]
  },
  {
   "cell_type": "markdown",
   "metadata": {},
   "source": [
    "### k-fold Cross Validation\n",
    "Model performance is dependent on the way the data is split between train and test. The dataset in the test might have some differences or peculiarity that was not found in the training dataset. This goes to indicate that the loss function is not representative of the model's ability to generalize. To combat this exception, we use a method called corss validation.\n",
    "\n",
    "Cross Validation is the process where we hold out a fold or subset of data for test and then fit the model using the rest of the dataset as training data. We then predict and compute the metric from this dataset. However, we continue to hold out a fold or subset of different data as test while we fit the model with the rest of the data. We continue this approach until there is no more dataset available to fold. The more the number of folds the more the computational requirements.\n",
    "\n",
    "We will use the boston housing market data to highlight 5 fold cross validation."
   ]
  },
  {
   "cell_type": "code",
   "execution_count": 202,
   "metadata": {},
   "outputs": [
    {
     "name": "stdout",
     "output_type": "stream",
     "text": [
      "Cross Validation Metrics is: [ 0.63919994  0.71386698  0.58702344  0.07923081 -0.25294154]\n",
      "Average Cross Validation Matrics is: 0.3532759243958807\n"
     ]
    }
   ],
   "source": [
    "# Using boston housing market dataset for cross validation\n",
    "from sklearn.model_selection import cross_val_score\n",
    "\n",
    "# Linear Regression\n",
    "bhm_reg = linear_model.LinearRegression()\n",
    "\n",
    "# 5-fold cross validation\n",
    "bhm_cv_results = cross_val_score(bhm_reg, bhm_X, bhm_y, cv=5)\n",
    "\n",
    "# Print the cross vaidation metrics\n",
    "print('Cross Validation Metrics is: {}'.format(bhm_cv_results))\n",
    "\n",
    "# Print the mean of the cross validation metrics\n",
    "print('Average Cross Validation Matrics is: {}'.format(np.mean(bhm_cv_results)))"
   ]
  },
  {
   "cell_type": "code",
   "execution_count": 203,
   "metadata": {},
   "outputs": [
    {
     "name": "stdout",
     "output_type": "stream",
     "text": [
      "[0.81720569 0.82917058 0.90214134 0.80633989 0.94495637]\n",
      "Average 5-Fold CV Score: 0.8599627722793801\n"
     ]
    }
   ],
   "source": [
    "# Now doing the same for Gap Minder dataset...\n",
    "# Import the necessary modules\n",
    "from sklearn.linear_model import LinearRegression\n",
    "from sklearn.model_selection import cross_val_score\n",
    "\n",
    "# Create a linear regression object: reg\n",
    "gm_reg = LinearRegression()\n",
    "\n",
    "# Compute 5-fold cross-validation scores: cv_scores\n",
    "gm_cv_scores = cross_val_score(gm_reg, gm_X, gm_y, cv=5)\n",
    "\n",
    "# Print the 5-fold cross-validation scores\n",
    "print(gm_cv_scores)\n",
    "\n",
    "print(\"Average 5-Fold CV Score: {}\".format(np.mean(gm_cv_scores)))\n"
   ]
  },
  {
   "cell_type": "markdown",
   "metadata": {},
   "source": [
    "### Computational Requirements"
   ]
  },
  {
   "cell_type": "code",
   "execution_count": 204,
   "metadata": {},
   "outputs": [
    {
     "name": "stdout",
     "output_type": "stream",
     "text": [
      "0.871871278262197\n",
      "10.5 ms ± 754 µs per loop (mean ± std. dev. of 7 runs, 100 loops each)\n"
     ]
    }
   ],
   "source": [
    "# To understand the computational needs as the number of folds increase..we will leverage the Gap Minder dataset...\n",
    "# Import necessary modules\n",
    "from sklearn.linear_model import LinearRegression\n",
    "from sklearn.model_selection import cross_val_score\n",
    "\n",
    "# Create a linear regression object: reg\n",
    "gm_reg = LinearRegression()\n",
    "\n",
    "# Perform 3-fold CV\n",
    "gm_cvscores_3 = cross_val_score(gm_reg, gm_X, gm_y, cv=3)\n",
    "print(np.mean(gm_cvscores_3))\n",
    "%timeit cross_val_score(gm_reg, X, y, cv = 3)"
   ]
  },
  {
   "cell_type": "code",
   "execution_count": 205,
   "metadata": {},
   "outputs": [
    {
     "name": "stdout",
     "output_type": "stream",
     "text": [
      "0.8118558247617653\n",
      "22.8 ms ± 151 µs per loop (mean ± std. dev. of 7 runs, 10 loops each)\n"
     ]
    }
   ],
   "source": [
    "# Perform 20-fold CV\n",
    "gm_cvscores_20 = cross_val_score(gm_reg, gm_X, gm_y, cv=20)\n",
    "print(np.mean(gm_cvscores_20))\n",
    "%timeit cross_val_score(gm_reg, gm_X, gm_y, cv = 20)"
   ]
  },
  {
   "cell_type": "markdown",
   "metadata": {},
   "source": [
    "### Regularized Regression\n",
    "Linear regression minimizes a loss function, by choosing the co-efficients for each of the feature variable. If we let the co-efficients to be large and disproportionate, we can get into overfitting situations. It gets very visible as the number of features is large. So, what we want to do is to penalize the large co-efficents, essentially try ot normalize these co-efficients. The process of penalizing large co-efficients is called Regularization.\n",
    "\n",
    "There are many types of regularization such as ridge regression and lasso regression.\n",
    "\n",
    "Lasso is great for feature selection, but when building regression models, Ridge regression should be the first choice. While lasso performs regularization by adding to the loss function a penalty term of the absolute value of each coefficient multiplied by some alpha. This is also known as L1 regularization because the regularization term is the L1 norm of the coefficients. This is not the only way to regularize, however.\n",
    "\n",
    "If instead you took the sum of the squared values of the coefficients multiplied by some alpha - like in Ridge regression - you would be computing the L2 norm. In the example below we will fit ridge regression models over a range of different alphas, and plot cross-validated R2 scores for each."
   ]
  },
  {
   "cell_type": "code",
   "execution_count": 206,
   "metadata": {},
   "outputs": [],
   "source": [
    "# Defining a functin that will plot cross-validated R2 scores for each of the ridge regression models.\n",
    "def display_plot(cv_scores, cv_scores_std):\n",
    "    fig = plt.figure()\n",
    "    ax = fig.add_subplot(1,1,1)\n",
    "    ax.plot(alpha_space, cv_scores)\n",
    "\n",
    "    std_error = cv_scores_std / np.sqrt(10)\n",
    "\n",
    "    ax.fill_between(alpha_space, cv_scores + std_error, cv_scores - std_error, alpha=0.2)\n",
    "    ax.set_ylabel('CV Score +/- Std Error')\n",
    "    ax.set_xlabel('Alpha')\n",
    "    ax.axhline(np.max(cv_scores), linestyle='--', color='.5')\n",
    "    ax.set_xlim([alpha_space[0], alpha_space[-1]])\n",
    "    ax.set_xscale('log')\n",
    "    plt.show()"
   ]
  },
  {
   "cell_type": "code",
   "execution_count": 207,
   "metadata": {},
   "outputs": [
    {
     "data": {
      "image/png": "[encoded data removed]",
      "text/plain": [
       "<Figure size 720x576 with 1 Axes>"
      ]
     },
     "metadata": {
      "needs_background": "light"
     },
     "output_type": "display_data"
    }
   ],
   "source": [
    "# Import necessary modules\n",
    "from sklearn.linear_model import Ridge\n",
    "from sklearn.model_selection import cross_val_score\n",
    "\n",
    "# Setup the array of alphas and lists to store scores\n",
    "alpha_space = np.logspace(-4, 0, 50)\n",
    "ridge_scores = []\n",
    "ridge_scores_std = []\n",
    "\n",
    "# Create a ridge regressor: ridge\n",
    "ridge = Ridge(normalize=True)\n",
    "\n",
    "# Compute scores over range of alphas\n",
    "for alpha in alpha_space:\n",
    "\n",
    "    # Specify the alpha value to use: ridge.alpha\n",
    "    ridge.alpha = alpha\n",
    "    \n",
    "    # Perform 10-fold CV: ridge_cv_scores\n",
    "    ridge_cv_scores = cross_val_score(ridge, X, y, cv=10)\n",
    "    \n",
    "    # Append the mean of ridge_cv_scores to ridge_scores\n",
    "    ridge_scores.append(np.mean(ridge_cv_scores))\n",
    "    \n",
    "    # Append the std of ridge_cv_scores to ridge_scores_std\n",
    "    ridge_scores_std.append(np.std(ridge_cv_scores))\n",
    "\n",
    "# Display the plot\n",
    "display_plot(ridge_scores, ridge_scores_std)"
   ]
  },
  {
   "cell_type": "code",
   "execution_count": 208,
   "metadata": {},
   "outputs": [
    {
     "name": "stdout",
     "output_type": "stream",
     "text": [
      "0.5950229535328551\n",
      "[-0.          0.         -0.          0.         -0.          3.18852894\n",
      " -0.         -0.         -0.         -0.         -0.3066901   0.\n",
      " -0.48666476]\n"
     ]
    },
    {
     "data": {
      "image/png": "[encoded data removed]",
      "text/plain": [
       "<Figure size 720x576 with 1 Axes>"
      ]
     },
     "metadata": {
      "needs_background": "light"
     },
     "output_type": "display_data"
    }
   ],
   "source": [
    "# Understanding the lasso regression co-efficients for boston housing market dataset\n",
    "# Import Lasso\n",
    "from sklearn.linear_model import Lasso\n",
    "\n",
    "# Instantiate a lasso regressor: lasso\n",
    "bhm_lasso = Lasso(alpha=0.1, normalize=True)\n",
    "\n",
    "# Fit the regressor to the data\n",
    "bhm_lasso.fit(bhm_X_train, bhm_y_train)\n",
    "\n",
    "# Predict the regressor to the data\n",
    "bhm_lasso.pred = bhm_lasso.predict(bhm_X_test)\n",
    "\n",
    "# Measure the performance of the lasso model\n",
    "bhm_lasso.score = bhm_lasso.score(bhm_X_test, bhm_y_test)\n",
    "print(bhm_lasso.score)\n",
    "\n",
    "# Compute and print the coefficients\n",
    "bhm_lasso_coef = bhm_lasso.coef_\n",
    "print(bhm_lasso_coef)\n",
    "\n",
    "# Plot the coefficients\n",
    "plt.plot(range(len(bhm_cols)), bhm_lasso_coef)\n",
    "plt.xticks(range(len(bhm_cols)), bhm_cols, rotation=60)\n",
    "plt.margins(0.02)\n",
    "plt.show()"
   ]
  },
  {
   "cell_type": "markdown",
   "metadata": {},
   "source": [
    "It can be seen from this example of boston housing market that the average classifer performance is close to 60% and the rooms (RM) is the most impacting feature of this dataset."
   ]
  },
  {
   "cell_type": "code",
   "execution_count": 209,
   "metadata": {},
   "outputs": [
    {
     "data": {
      "text/plain": [
       "array(['population', 'fertility', 'HIV', 'CO2', 'BMI_male', 'GDP',\n",
       "       'BMI_female', 'child_mortality'], dtype=object)"
      ]
     },
     "execution_count": 209,
     "metadata": {},
     "output_type": "execute_result"
    }
   ],
   "source": [
    "gm_df_columns"
   ]
  },
  {
   "cell_type": "code",
   "execution_count": 210,
   "metadata": {},
   "outputs": [
    {
     "name": "stdout",
     "output_type": "stream",
     "text": [
      "[-0.         -0.         -0.          0.          0.          0.\n",
      " -0.         -0.07087587]\n"
     ]
    },
    {
     "data": {
      "image/png": "[encoded data removed]",
      "text/plain": [
       "<Figure size 720x576 with 1 Axes>"
      ]
     },
     "metadata": {
      "needs_background": "light"
     },
     "output_type": "display_data"
    }
   ],
   "source": [
    "# Understanding the lasso regression co-efficients for Gapminder dataset\n",
    "# Import Lasso\n",
    "from sklearn.linear_model import Lasso\n",
    "\n",
    "# Instantiate a lasso regressor: lasso\n",
    "gm_lasso = Lasso(alpha=0.4, normalize=True)\n",
    "\n",
    "# Fit the regressor to the data\n",
    "gm_lasso.fit(gm_X, gm_y)\n",
    "\n",
    "# Compute and print the coefficients\n",
    "gm_lasso_coef = gm_lasso.coef_\n",
    "print(gm_lasso_coef)\n",
    "\n",
    "# Plot the coefficients\n",
    "plt.plot(range(len(gm_df_columns)), gm_lasso_coef)\n",
    "plt.xticks(range(len(gm_df_columns)), gm_df_columns, rotation=60)\n",
    "plt.margins(0.02)\n",
    "plt.show()"
   ]
  },
  {
   "cell_type": "markdown",
   "metadata": {},
   "source": [
    "It can be seen from this dataset that child_mortality is the most impacting feature for this model."
   ]
  },
  {
   "cell_type": "markdown",
   "metadata": {},
   "source": [
    "## Finetuning the Model"
   ]
  },
  {
   "cell_type": "markdown",
   "metadata": {},
   "source": [
    "### Metrics for Classification\n",
    "For classification, we had indicated Accuracy being a measure of model performance. However, accuracy might not always be the best metric to measure the performance of the model. Accuracy metrics does not work in scenarios where any false positive or very little failures can be accepted. Examples include spam mail, medical diagnosis etc. This is especially truw where there is class imbalance.\n",
    "\n",
    "More nuanced metrics can be measured as listed below. Confusion Matrix can help measure better for binary classifiers (where there are only 2 classes that data gets labelled). The confusion matrix is a 2X2 matrix with True Positive(TP) and True Negatives(TN) as well as False Positive(FP) and False Negative(FN). The confusion matrix allows for calculating multiple metrics as listed below.\n",
    " - Accuracy = TP + TN / (TP + TN + FP + FN)\n",
    " - Precision (Positive Predicted Value / PPP) = TP / (TP + TN)\n",
    " - Recall (Sensitivity / Hit Rate / True Positive Rate) = TP / (TP + FN)\n",
    " - F1 Score (Harmonic mean of Precision & Recall) = 2 * (Precision * Recall) / (Precision + Recall)\n",
    "\n",
    "The impact of these metrics are:\n",
    " - High Precision means that the classes with most influence generally identified correctly.\n",
    " - High Recall means that classes with least influence were identified correctly."
   ]
  },
  {
   "cell_type": "code",
   "execution_count": 211,
   "metadata": {},
   "outputs": [
    {
     "data": {
      "text/html": [
       "<div>\n",
       "<style scoped>\n",
       "    .dataframe tbody tr th:only-of-type {\n",
       "        vertical-align: middle;\n",
       "    }\n",
       "\n",
       "    .dataframe tbody tr th {\n",
       "        vertical-align: top;\n",
       "    }\n",
       "\n",
       "    .dataframe thead th {\n",
       "        text-align: right;\n",
       "    }\n",
       "</style>\n",
       "<table border=\"1\" class=\"dataframe\">\n",
       "  <thead>\n",
       "    <tr style=\"text-align: right;\">\n",
       "      <th></th>\n",
       "      <th>pregnancies</th>\n",
       "      <th>glucose</th>\n",
       "      <th>diastolic</th>\n",
       "      <th>triceps</th>\n",
       "      <th>insulin</th>\n",
       "      <th>bmi</th>\n",
       "      <th>dpf</th>\n",
       "      <th>age</th>\n",
       "      <th>diabetes</th>\n",
       "    </tr>\n",
       "  </thead>\n",
       "  <tbody>\n",
       "    <tr>\n",
       "      <th>0</th>\n",
       "      <td>6</td>\n",
       "      <td>148</td>\n",
       "      <td>72</td>\n",
       "      <td>35</td>\n",
       "      <td>0</td>\n",
       "      <td>33.6</td>\n",
       "      <td>0.627</td>\n",
       "      <td>50</td>\n",
       "      <td>1</td>\n",
       "    </tr>\n",
       "    <tr>\n",
       "      <th>1</th>\n",
       "      <td>1</td>\n",
       "      <td>85</td>\n",
       "      <td>66</td>\n",
       "      <td>29</td>\n",
       "      <td>0</td>\n",
       "      <td>26.6</td>\n",
       "      <td>0.351</td>\n",
       "      <td>31</td>\n",
       "      <td>0</td>\n",
       "    </tr>\n",
       "    <tr>\n",
       "      <th>2</th>\n",
       "      <td>8</td>\n",
       "      <td>183</td>\n",
       "      <td>64</td>\n",
       "      <td>0</td>\n",
       "      <td>0</td>\n",
       "      <td>23.3</td>\n",
       "      <td>0.672</td>\n",
       "      <td>32</td>\n",
       "      <td>1</td>\n",
       "    </tr>\n",
       "    <tr>\n",
       "      <th>3</th>\n",
       "      <td>1</td>\n",
       "      <td>89</td>\n",
       "      <td>66</td>\n",
       "      <td>23</td>\n",
       "      <td>94</td>\n",
       "      <td>28.1</td>\n",
       "      <td>0.167</td>\n",
       "      <td>21</td>\n",
       "      <td>0</td>\n",
       "    </tr>\n",
       "    <tr>\n",
       "      <th>4</th>\n",
       "      <td>0</td>\n",
       "      <td>137</td>\n",
       "      <td>40</td>\n",
       "      <td>35</td>\n",
       "      <td>168</td>\n",
       "      <td>43.1</td>\n",
       "      <td>2.288</td>\n",
       "      <td>33</td>\n",
       "      <td>1</td>\n",
       "    </tr>\n",
       "  </tbody>\n",
       "</table>\n",
       "</div>"
      ],
      "text/plain": [
       "   pregnancies  glucose  diastolic  triceps  insulin   bmi    dpf  age  \\\n",
       "0            6      148         72       35        0  33.6  0.627   50   \n",
       "1            1       85         66       29        0  26.6  0.351   31   \n",
       "2            8      183         64        0        0  23.3  0.672   32   \n",
       "3            1       89         66       23       94  28.1  0.167   21   \n",
       "4            0      137         40       35      168  43.1  2.288   33   \n",
       "\n",
       "   diabetes  \n",
       "0         1  \n",
       "1         0  \n",
       "2         1  \n",
       "3         0  \n",
       "4         1  "
      ]
     },
     "execution_count": 211,
     "metadata": {},
     "output_type": "execute_result"
    }
   ],
   "source": [
    "# We will use the PIMA Indians Diabetes dataset for highlighting the concept of confusion matrix\n",
    "# Reading a csv file with headers\n",
    "diabetes = pd.read_csv(\"./data/diabetes.csv\")\n",
    "diabetes.head()"
   ]
  },
  {
   "cell_type": "code",
   "execution_count": 212,
   "metadata": {},
   "outputs": [
    {
     "data": {
      "text/plain": [
       "((768, 8), (768,))"
      ]
     },
     "execution_count": 212,
     "metadata": {},
     "output_type": "execute_result"
    }
   ],
   "source": [
    "# Generate the feature and target variables\n",
    "diab_y = diabetes['diabetes'].values\n",
    "diab_X = diabetes.drop('diabetes', axis=1).values\n",
    "diab_X.shape, diab_y.shape"
   ]
  },
  {
   "cell_type": "code",
   "execution_count": 213,
   "metadata": {},
   "outputs": [
    {
     "name": "stdout",
     "output_type": "stream",
     "text": [
      "Confusion Matrix: [[176  30]\n",
      " [ 56  46]]\n",
      "Classification Report:               precision    recall  f1-score   support\n",
      "\n",
      "           0       0.76      0.85      0.80       206\n",
      "           1       0.61      0.45      0.52       102\n",
      "\n",
      "   micro avg       0.72      0.72      0.72       308\n",
      "   macro avg       0.68      0.65      0.66       308\n",
      "weighted avg       0.71      0.72      0.71       308\n",
      "\n"
     ]
    }
   ],
   "source": [
    "# import needed libraries\n",
    "from sklearn.model_selection import train_test_split\n",
    "from sklearn.neighbors import KNeighborsClassifier\n",
    "from sklearn.metrics import classification_report\n",
    "from sklearn.metrics import confusion_matrix\n",
    "\n",
    "# Instantiate a k-NN classifier: knn\n",
    "diab_knn = KNeighborsClassifier(n_neighbors=6)\n",
    "\n",
    "# Create training and test set\n",
    "diab_X_train, diab_X_test, diab_y_train, diab_y_test = train_test_split(diab_X, diab_y, test_size = 0.4, random_state = 42)\n",
    "\n",
    "# Fit the classifier to the training data\n",
    "diab_knn.fit(diab_X_train, diab_y_train)\n",
    "\n",
    "# Predict the labels of the test data: y_pred\n",
    "diab_y_pred = diab_knn.predict(diab_X_test)\n",
    "\n",
    "# Generate the confusion matrix and classification report\n",
    "print('Confusion Matrix: {}'.format(confusion_matrix(diab_y_test, diab_y_pred)))\n",
    "print('Classification Report: {}'.format(classification_report(diab_y_test, diab_y_pred)))\n"
   ]
  },
  {
   "cell_type": "markdown",
   "metadata": {},
   "source": [
    "### ROC Curve\n",
    "Logistic regression is used in classification problems for binary classifications. Given 1 feature, logistic regression will output the value of 'p' (probability). \n",
    "\n",
    "    If p > 0.5 then, the data is labelled as 1. \n",
    "    \n",
    "    If p < 0.5, then the data is labelled as 0.\n",
    "\n",
    "The value of 0.5 is called the threshold value and can be varied to understand the performance of the models. \n",
    "\n",
    "    - When the threshold is 0, the model predicts 1 for all the data. The True Positive Rate and False Positive rate is 1.\n",
    "    - When the threshold is 1, the model predicts 0 for all the data. The True Positive Rate and False Positive Rate is 0.\n",
    "    - As the value of p varies bethween these thwo thresholds, we get different values and can be plotted in a graph. The values we get and plotted is called the Receiver Operating Curve (ROC).\n",
    "    "
   ]
  },
  {
   "cell_type": "code",
   "execution_count": 214,
   "metadata": {},
   "outputs": [
    {
     "name": "stdout",
     "output_type": "stream",
     "text": [
      "Confusion Matrix: [[174  32]\n",
      " [ 36  66]]\n",
      "Classification Report:               precision    recall  f1-score   support\n",
      "\n",
      "           0       0.83      0.84      0.84       206\n",
      "           1       0.67      0.65      0.66       102\n",
      "\n",
      "   micro avg       0.78      0.78      0.78       308\n",
      "   macro avg       0.75      0.75      0.75       308\n",
      "weighted avg       0.78      0.78      0.78       308\n",
      "\n"
     ]
    }
   ],
   "source": [
    "# import needed libraries\n",
    "from sklearn.model_selection import train_test_split\n",
    "from sklearn.linear_model import LogisticRegression\n",
    "from sklearn.metrics import classification_report\n",
    "from sklearn.metrics import confusion_matrix\n",
    "\n",
    "# Create training and test set\n",
    "diab_X_train, diab_X_test, diab_y_train, diab_y_test = train_test_split(diab_X, diab_y, test_size = 0.4, random_state = 42)\n",
    "\n",
    "# Instantiate a k-NN classifier: knn\n",
    "diab_logreg = LogisticRegression()\n",
    "\n",
    "# Fit the classifier to the training data\n",
    "diab_logreg.fit(diab_X_train, diab_y_train)\n",
    "\n",
    "# Predict the labels of the test data: y_pred\n",
    "diab_y_pred = diab_logreg.predict(diab_X_test)\n",
    "\n",
    "# Generate the confusion matrix and classification report\n",
    "print('Confusion Matrix: {}'.format(confusion_matrix(diab_y_test, diab_y_pred)))\n",
    "print('Classification Report: {}'.format(classification_report(diab_y_test, diab_y_pred)))\n"
   ]
  },
  {
   "cell_type": "code",
   "execution_count": 215,
   "metadata": {},
   "outputs": [
    {
     "data": {
      "image/png": "[encoded data removed]",
      "text/plain": [
       "<Figure size 720x576 with 1 Axes>"
      ]
     },
     "metadata": {
      "needs_background": "light"
     },
     "output_type": "display_data"
    }
   ],
   "source": [
    "# Import necessary modules\n",
    "from sklearn.metrics import roc_curve\n",
    "\n",
    "# Compute predicted probabilities: y_pred_prob\n",
    "diab_y_pred_prob = diab_logreg.predict_proba(diab_X_test)[:,1]\n",
    "\n",
    "# Generate ROC curve values: fpr, tpr, thresholds\n",
    "diab_fpr, diab_tpr, diab_thresholds = roc_curve(diab_y_test, diab_y_pred_prob)\n",
    "\n",
    "# Plot ROC curve\n",
    "plt.plot([0, 1], [0, 1], 'k--')\n",
    "plt.plot(diab_fpr, diab_tpr)\n",
    "plt.xlabel('False Positive Rate')\n",
    "plt.ylabel('True Positive Rate')\n",
    "plt.title('ROC Curve')\n",
    "plt.show()"
   ]
  },
  {
   "cell_type": "markdown",
   "metadata": {},
   "source": [
    "### Area Under the Curve (AUC)\n",
    "How can we use the ROC cureve to derieve the various model metrics. The larger the area under the curve, the better the model. The area under the ROC curve is called the Area Under Curve (AUC)."
   ]
  },
  {
   "cell_type": "code",
   "execution_count": 216,
   "metadata": {},
   "outputs": [
    {
     "name": "stdout",
     "output_type": "stream",
     "text": [
      "AUC: 0.8269084332762232\n",
      "AUC scores computed using 5-fold cross-validation: [0.79888889 0.80777778 0.81944444 0.86622642 0.85037736]\n"
     ]
    }
   ],
   "source": [
    "# Ignore Warnings\n",
    "import warnings\n",
    "warnings.filterwarnings(\"ignore\", category=FutureWarning)\n",
    "\n",
    "# Import necessary modules\n",
    "from sklearn.metrics import roc_auc_score\n",
    "from sklearn.model_selection import cross_val_score\n",
    "\n",
    "# Compute predicted probabilities: y_pred_prob\n",
    "diab_y_pred_prob = diab_logreg.predict_proba(diab_X_test)[:,1]\n",
    "\n",
    "# Compute and print AUC score\n",
    "print(\"AUC: {}\".format(roc_auc_score(diab_y_test, diab_y_pred_prob)))\n",
    "\n",
    "# Compute cross-validated AUC scores: cv_auc\n",
    "diab_cv_auc = cross_val_score(diab_logreg, diab_X, diab_y, cv=5, scoring='roc_auc')\n",
    "\n",
    "# Print list of AUC scores\n",
    "print(\"AUC scores computed using 5-fold cross-validation: {}\".format(diab_cv_auc))"
   ]
  },
  {
   "cell_type": "markdown",
   "metadata": {},
   "source": [
    "### Hyperparameter Tuning\n",
    "Hyperparameters are parameters that are needed as part of the regression algorithms of supervised learning. For example, Ridge and Lasso regression it is the alpha, Linear regression it is the co-efficients and in KNN it is the value of k. Such parameters cannot be learned by fitting the model.\n",
    "\n",
    "Like the alpha parameter of lasso and ridge regularization that you saw earlier, logistic regression also has a regularization parameter: C. C controls the inverse of the regularization strength, and this is what you will tune in this exercise. A large C can lead to an overfit model, while a small C can lead to an underfit model.\n",
    "\n",
    "To build a correct and finetuned model is choosing the right parameters. The basic approach is to try different parameter values, fit all of them seperately, see how well each performs, perform cross validations to avoid overfitting and then choosing the one that performs the best.\n",
    "\n",
    "One approach is to perform grid search based cross validation. In this scenario, we create a grid based on the number of parameters and then perform a k-fold cross validation for each combination of the parameter values. Then we choose the best of the folds and then test on a subset of data that the model has never seen, to validate how well the model can generalize."
   ]
  },
  {
   "cell_type": "code",
   "execution_count": 217,
   "metadata": {},
   "outputs": [
    {
     "name": "stdout",
     "output_type": "stream",
     "text": [
      "Tuned Logistic Regression Parameters: {'C': 1389495.494373136}\n",
      "Best score is 0.7721354166666666\n"
     ]
    }
   ],
   "source": [
    "# Using the diabetes dataset to highlight logistic regression and hyperparameter tuning...\n",
    "# Import necessary modules\n",
    "from sklearn.linear_model import LogisticRegression\n",
    "from sklearn.model_selection import GridSearchCV\n",
    "\n",
    "# Setup the hyperparameter grid\n",
    "diab_c_space = np.logspace(-5, 8, 15)\n",
    "diab_param_grid = {'C': diab_c_space}\n",
    "\n",
    "# Instantiate a logistic regression classifier: logreg\n",
    "diab_logreg = LogisticRegression()\n",
    "\n",
    "# Instantiate the GridSearchCV object: logreg_cv\n",
    "diab_logreg_cv = GridSearchCV(diab_logreg, diab_param_grid, cv=5)\n",
    "\n",
    "# Fit it to the data\n",
    "diab_logreg_cv.fit(diab_X,diab_y)\n",
    "\n",
    "# Print the tuned parameters and score\n",
    "print(\"Tuned Logistic Regression Parameters: {}\".format(diab_logreg_cv.best_params_)) \n",
    "print(\"Best score is {}\".format(diab_logreg_cv.best_score_))"
   ]
  },
  {
   "cell_type": "code",
   "execution_count": 218,
   "metadata": {},
   "outputs": [
    {
     "name": "stdout",
     "output_type": "stream",
     "text": [
      "Tuned Logistic Regression Parameters: {'n_neighbors': 4}\n",
      "Best score is 0.9224137931034483\n"
     ]
    }
   ],
   "source": [
    "# Ignore Warnings\n",
    "import warnings\n",
    "warnings.filterwarnings(\"ignore\", category=DeprecationWarning)\n",
    "# Using the votes dataset to highlight KNN Classifier and hyperparamter tuning...\n",
    "# Import necessary modules\n",
    "from sklearn.neighbors import KNeighborsClassifier\n",
    "from sklearn.model_selection import GridSearchCV\n",
    "\n",
    "# Setup the hyperparameter grid\n",
    "votes_n_space = np.arange(1,50)\n",
    "votes_param_grid = {'n_neighbors': votes_n_space}\n",
    "\n",
    "# Instantiate a KNN classifier: logreg\n",
    "votes_knn = KNeighborsClassifier()\n",
    "\n",
    "# Instantiate the GridSearchCV object: logreg_cv\n",
    "votes_knn_cv = GridSearchCV(votes_knn, votes_param_grid, cv=5)\n",
    "\n",
    "# Fit it to the data\n",
    "votes_knn_cv.fit(votes_X,votes_y)\n",
    "\n",
    "# Print the tuned parameters and score\n",
    "print(\"Tuned Logistic Regression Parameters: {}\".format(votes_knn_cv.best_params_)) \n",
    "print(\"Best score is {}\".format(votes_knn_cv.best_score_))"
   ]
  },
  {
   "cell_type": "markdown",
   "metadata": {},
   "source": [
    "GridSearchCV can be computationally expensive, especially if you are searching over a large hyperparameter space and dealing with multiple hyperparameters. A solution to this is to use RandomizedSearchCV, in which not all hyperparameter values are tried out. Instead, a fixed number of hyperparameter settings is sampled from specified probability distributions. "
   ]
  },
  {
   "cell_type": "code",
   "execution_count": 219,
   "metadata": {},
   "outputs": [
    {
     "name": "stdout",
     "output_type": "stream",
     "text": [
      "Tuned Decision Tree Parameters: {'criterion': 'gini', 'max_depth': 3, 'max_features': 2, 'min_samples_leaf': 3}\n",
      "Best score is 0.7421875\n"
     ]
    }
   ],
   "source": [
    "# Example of using Random Search Cross Validation on diabetes data set when using decision tree algorithm...\n",
    "# Import necessary modules\n",
    "from scipy.stats import randint\n",
    "from sklearn.tree import DecisionTreeClassifier\n",
    "from sklearn.model_selection import RandomizedSearchCV\n",
    "\n",
    "# Setup the parameters and distributions to sample from: param_dist\n",
    "diab_param_dist = {\"max_depth\": [3, None],\n",
    "              \"max_features\": randint(1, 9),\n",
    "              \"min_samples_leaf\": randint(1, 9),\n",
    "              \"criterion\": [\"gini\", \"entropy\"]}\n",
    "\n",
    "# Instantiate a Decision Tree classifier: tree\n",
    "diab_tree = DecisionTreeClassifier()\n",
    "\n",
    "# Instantiate the RandomizedSearchCV object: tree_cv\n",
    "diab_tree_cv = RandomizedSearchCV(diab_tree, diab_param_dist, cv=5)\n",
    "\n",
    "# Fit it to the data\n",
    "diab_tree_cv.fit(diab_X,diab_y)\n",
    "\n",
    "# Print the tuned parameters and score\n",
    "print(\"Tuned Decision Tree Parameters: {}\".format(diab_tree_cv.best_params_))\n",
    "print(\"Best score is {}\".format(diab_tree_cv.best_score_))\n"
   ]
  },
  {
   "cell_type": "markdown",
   "metadata": {},
   "source": [
    "### Holdout Set for final evaluation\n",
    "We would want to save a small subset of data that the model has not seen in data. It is important to split the dataset into training set and holdout test and then apply the model on th eholdout set to understand how best the model generalizes."
   ]
  },
  {
   "cell_type": "code",
   "execution_count": 220,
   "metadata": {},
   "outputs": [
    {
     "name": "stdout",
     "output_type": "stream",
     "text": [
      "Tuned Logistic Regression Parameter: {'C': 31.622776601683793, 'penalty': 'l2'}\n",
      "Tuned Logistic Regression Accuracy: 0.7673913043478261\n"
     ]
    }
   ],
   "source": [
    "# Example showing the plit of dataset into training and holdout datasets \n",
    "# and using training dataset to classifier model\n",
    "# Import necessary modules\n",
    "from sklearn.model_selection import train_test_split\n",
    "from sklearn.linear_model import LogisticRegression\n",
    "from sklearn.model_selection import GridSearchCV\n",
    "\n",
    "# Create the hyperparameter grid\n",
    "diab_c_space = np.logspace(-5, 8, 15)\n",
    "diab_param_grid = {'C': diab_c_space, 'penalty': ['l1', 'l2']}\n",
    "\n",
    "# Instantiate the logistic regression classifier: logreg\n",
    "diab_logreg = LogisticRegression()\n",
    "\n",
    "# Create train and test sets\n",
    "diab_X_train, diab_X_test, diab_y_train, diab_y_test = train_test_split(diab_X, diab_y, test_size = 0.4, random_state = 42)\n",
    "\n",
    "# Instantiate the GridSearchCV object: logreg_cv\n",
    "diab_logreg_cv = GridSearchCV(diab_logreg, diab_param_grid, cv=5)\n",
    "\n",
    "# Fit it to the training data\n",
    "diab_logreg_cv.fit(diab_X_train, diab_y_train)\n",
    "\n",
    "# Print the optimal parameters and best score\n",
    "print(\"Tuned Logistic Regression Parameter: {}\".format(diab_logreg_cv.best_params_))\n",
    "print(\"Tuned Logistic Regression Accuracy: {}\".format(diab_logreg_cv.best_score_))\n"
   ]
  },
  {
   "cell_type": "code",
   "execution_count": 221,
   "metadata": {},
   "outputs": [
    {
     "name": "stderr",
     "output_type": "stream",
     "text": [
      "/anaconda3/lib/python3.7/site-packages/sklearn/linear_model/coordinate_descent.py:492: ConvergenceWarning: Objective did not converge. You might want to increase the number of iterations. Fitting data with very small alpha may cause precision problems.\n",
      "  ConvergenceWarning)\n",
      "/anaconda3/lib/python3.7/site-packages/sklearn/linear_model/coordinate_descent.py:492: ConvergenceWarning: Objective did not converge. You might want to increase the number of iterations. Fitting data with very small alpha may cause precision problems.\n",
      "  ConvergenceWarning)\n",
      "/anaconda3/lib/python3.7/site-packages/sklearn/linear_model/coordinate_descent.py:492: ConvergenceWarning: Objective did not converge. You might want to increase the number of iterations. Fitting data with very small alpha may cause precision problems.\n",
      "  ConvergenceWarning)\n",
      "/anaconda3/lib/python3.7/site-packages/sklearn/linear_model/coordinate_descent.py:492: ConvergenceWarning: Objective did not converge. You might want to increase the number of iterations. Fitting data with very small alpha may cause precision problems.\n",
      "  ConvergenceWarning)\n",
      "/anaconda3/lib/python3.7/site-packages/sklearn/linear_model/coordinate_descent.py:492: ConvergenceWarning: Objective did not converge. You might want to increase the number of iterations. Fitting data with very small alpha may cause precision problems.\n",
      "  ConvergenceWarning)\n"
     ]
    },
    {
     "name": "stdout",
     "output_type": "stream",
     "text": [
      "Tuned ElasticNet l1 ratio: {'l1_ratio': 0.20689655172413793}\n",
      "Tuned ElasticNet R squared: 0.8668305372460284\n",
      "Tuned ElasticNet MSE: 10.057914133398437\n"
     ]
    }
   ],
   "source": [
    "# Another example of holdout set and Regression using Gapminder dataset...\n",
    "\n",
    "# Import necessary modules\n",
    "from sklearn.linear_model import ElasticNet\n",
    "from sklearn.metrics import mean_squared_error\n",
    "from sklearn.model_selection import GridSearchCV\n",
    "from sklearn.model_selection import train_test_split\n",
    "\n",
    "# Create train and test sets\n",
    "gm_X_train, gm_X_test, gm_y_train, gm_y_test = train_test_split(gm_X, gm_y, test_size = 0.4, random_state = 42)\n",
    "\n",
    "# Create the hyperparameter grid\n",
    "gm_l1_space = np.linspace(0, 1, 30)\n",
    "gm_param_grid = {'l1_ratio': gm_l1_space}\n",
    "\n",
    "# Instantiate the ElasticNet regressor: elastic_net\n",
    "gm_elastic_net = ElasticNet()\n",
    "\n",
    "# Setup the GridSearchCV object: gm_cv\n",
    "gm_net_cv = GridSearchCV(gm_elastic_net, gm_param_grid, cv=5)\n",
    "\n",
    "# Fit it to the training data\n",
    "gm_net_cv.fit(gm_X_train, gm_y_train)\n",
    "\n",
    "# Predict on the test set and compute metrics\n",
    "gm_y_pred = gm_net_cv.predict(gm_X_test)\n",
    "gm_r2 = gm_net_cv.score(gm_X_test, gm_y_test)\n",
    "gm_mse = mean_squared_error(gm_y_test, gm_y_pred)\n",
    "print(\"Tuned ElasticNet l1 ratio: {}\".format(gm_net_cv.best_params_))\n",
    "print(\"Tuned ElasticNet R squared: {}\".format(gm_r2))\n",
    "print(\"Tuned ElasticNet MSE: {}\".format(gm_mse))"
   ]
  },
  {
   "cell_type": "markdown",
   "metadata": {},
   "source": [
    "Lasso used the L1 penalty to regularize, while ridge used the L2 penalty. There is another type of regularized regression known as the elastic net. In elastic net regularization, the penalty term is a linear combination of the L1 and L2 penalties:\n",
    "\n",
    "        a∗L1+b∗L2\n",
    "        \n",
    "In scikit-learn, this term is represented by the 'l1_ratio' parameter: An 'l1_ratio' of 1 corresponds to an L1 penalty, and anything lower is a combination of L1 and L2."
   ]
  },
  {
   "cell_type": "markdown",
   "metadata": {},
   "source": [
    "## Pre-Processing & Pipelines"
   ]
  },
  {
   "cell_type": "markdown",
   "metadata": {},
   "source": [
    "### Preprocessing data\n",
    "In real world, we will always have to pre-process the data before scilearn functions can process it. For example, scikit-learn will not accept categorical features by default and hence will need to encode categorical data numerically for it to work. We got to do this as part of 2.1.3 where we needed to get the votes dataset converted from Y/N/? values to 0/1/NaN.\n",
    "\n",
    "The approach would be to split the variables to dummy variables and then denormalize the data so that the values can only be 0 or 1. We can use functions such as scikit_learn::OneHotEncoder() or pandas::get_dummies() to split categorical values into dummy variables."
   ]
  },
  {
   "cell_type": "code",
   "execution_count": 222,
   "metadata": {},
   "outputs": [
    {
     "name": "stdout",
     "output_type": "stream",
     "text": [
      "    mpg  displ   hp  weight  accel  origin  size\n",
      "0  18.0  250.0   88    3139   14.5      US  15.0\n",
      "1   9.0  304.0  193    4732   18.5      US  20.0\n",
      "2  36.1   91.0   60    1800   16.4    Asia  10.0\n",
      "3  18.5  250.0   98    3525   19.0      US  15.0\n",
      "4  34.3   97.0   78    2188   15.8  Europe  10.0\n"
     ]
    }
   ],
   "source": [
    "# We will use the mpg dataset to explain this concept.\n",
    "# First we will need to load auto dataset\n",
    "auto = pd.read_csv('./data/auto.csv')\n",
    "print(auto.head())"
   ]
  },
  {
   "cell_type": "code",
   "execution_count": 223,
   "metadata": {},
   "outputs": [
    {
     "name": "stdout",
     "output_type": "stream",
     "text": [
      "    mpg  displ   hp  weight  accel  size  origin_Europe  origin_US\n",
      "0  18.0  250.0   88    3139   14.5  15.0              0          1\n",
      "1   9.0  304.0  193    4732   18.5  20.0              0          1\n",
      "2  36.1   91.0   60    1800   16.4  10.0              0          0\n",
      "3  18.5  250.0   98    3525   19.0  15.0              0          1\n",
      "4  34.3   97.0   78    2188   15.8  10.0              1          0\n"
     ]
    }
   ],
   "source": [
    "# Create a dummy variable for origin as this is a categorical variable...\n",
    "# Using drop first as we know that if eurpoe and us are 0, then asia value is 1.\n",
    "auto_origin = pd.get_dummies(auto, drop_first=True)\n",
    "print(auto_origin.head())"
   ]
  },
  {
   "cell_type": "code",
   "execution_count": 224,
   "metadata": {
    "scrolled": true
   },
   "outputs": [
    {
     "data": {
      "image/png": "[encoded data removed]",
      "text/plain": [
       "<Figure size 720x576 with 1 Axes>"
      ]
     },
     "metadata": {
      "needs_background": "light"
     },
     "output_type": "display_data"
    }
   ],
   "source": [
    "# Read gap minder data into a DataFrame: df\n",
    "df = pd.read_csv('./data/gm_2008_region.csv')\n",
    "\n",
    "# Create a boxplot of life expectancy per region\n",
    "df.boxplot('life', 'Region', rot=60)\n",
    "\n",
    "# Show the plot\n",
    "plt.show()"
   ]
  },
  {
   "cell_type": "code",
   "execution_count": 225,
   "metadata": {},
   "outputs": [
    {
     "name": "stdout",
     "output_type": "stream",
     "text": [
      "   population  fertility  HIV        CO2  BMI_male      GDP  BMI_female  life  \\\n",
      "0  34811059.0       2.73  0.1   3.328945  24.59620  12314.0    129.9049  75.3   \n",
      "1  19842251.0       6.43  2.0   1.474353  22.25083   7103.0    130.1247  58.3   \n",
      "2  40381860.0       2.24  0.5   4.785170  27.50170  14646.0    118.8915  75.5   \n",
      "3   2975029.0       1.40  0.1   1.804106  25.35542   7383.0    132.8108  72.5   \n",
      "4  21370348.0       1.96  0.1  18.016313  27.56373  41312.0    117.3755  81.5   \n",
      "\n",
      "   child_mortality  Region_East Asia & Pacific  Region_Europe & Central Asia  \\\n",
      "0             29.5                           0                             0   \n",
      "1            192.0                           0                             0   \n",
      "2             15.4                           0                             0   \n",
      "3             20.0                           0                             1   \n",
      "4              5.2                           1                             0   \n",
      "\n",
      "   Region_Middle East & North Africa  Region_South Asia  \\\n",
      "0                                  1                  0   \n",
      "1                                  0                  0   \n",
      "2                                  0                  0   \n",
      "3                                  0                  0   \n",
      "4                                  0                  0   \n",
      "\n",
      "   Region_Sub-Saharan Africa  \n",
      "0                          0  \n",
      "1                          1  \n",
      "2                          0  \n",
      "3                          0  \n",
      "4                          0  \n"
     ]
    }
   ],
   "source": [
    "# Create dummy variable for regions to convert from categorical variable to numerical\n",
    "df_regions = pd.get_dummies(df, drop_first=True)\n",
    "print(df_regions.head())"
   ]
  },
  {
   "cell_type": "code",
   "execution_count": 226,
   "metadata": {},
   "outputs": [
    {
     "name": "stdout",
     "output_type": "stream",
     "text": [
      "Dimensions of y before reshaping: (139,)\n",
      "Dimensions of X before reshaping: (139, 13)\n"
     ]
    }
   ],
   "source": [
    "# Create arrays for features and target variable\n",
    "region_y = df_regions['life'].values\n",
    "region_X = df_regions.drop('life', axis=1).values\n",
    "\n",
    "\n",
    "# Print the dimensions of X and y before reshaping\n",
    "print(\"Dimensions of y before reshaping: {}\".format(region_y.shape))\n",
    "print(\"Dimensions of X before reshaping: {}\".format(region_X.shape))"
   ]
  },
  {
   "cell_type": "code",
   "execution_count": 227,
   "metadata": {},
   "outputs": [
    {
     "name": "stdout",
     "output_type": "stream",
     "text": [
      "[0.86808336 0.80623545 0.84004203 0.7754344  0.87503712]\n"
     ]
    }
   ],
   "source": [
    "# Import necessary modules\n",
    "from sklearn.linear_model import Ridge\n",
    "from sklearn.model_selection import cross_val_score\n",
    "\n",
    "# Instantiate a ridge regressor: ridge\n",
    "ridge = Ridge(alpha=0.5, normalize=True)\n",
    "\n",
    "# Perform 5-fold cross-validation: ridge_cv\n",
    "ridge_cv = cross_val_score(ridge, region_X, region_y, cv=5)\n",
    "\n",
    "# Print the cross-validated scores\n",
    "print(ridge_cv)\n"
   ]
  },
  {
   "cell_type": "markdown",
   "metadata": {},
   "source": [
    "### Handling missing data\n",
    "Missing data in real world datasets will be a real challenge and will need to address it as pre-processing prior to processing through scikit-learn. This happens when there is no value for a specific cell in a dataset. Note that missing values can be coded in many different ways, such as 'NA', '?', '0', '-1' etc. We will highlight based on a few examples."
   ]
  },
  {
   "cell_type": "code",
   "execution_count": 228,
   "metadata": {},
   "outputs": [
    {
     "name": "stdout",
     "output_type": "stream",
     "text": [
      "   pregnancies  glucose  diastolic  triceps  insulin   bmi    dpf  age  \\\n",
      "0            6      148         72       35        0  33.6  0.627   50   \n",
      "1            1       85         66       29        0  26.6  0.351   31   \n",
      "2            8      183         64        0        0  23.3  0.672   32   \n",
      "3            1       89         66       23       94  28.1  0.167   21   \n",
      "4            0      137         40       35      168  43.1  2.288   33   \n",
      "\n",
      "   diabetes  \n",
      "0         1  \n",
      "1         0  \n",
      "2         1  \n",
      "3         0  \n",
      "4         1  \n",
      "<class 'pandas.core.frame.DataFrame'>\n",
      "RangeIndex: 768 entries, 0 to 767\n",
      "Data columns (total 9 columns):\n",
      "pregnancies    768 non-null int64\n",
      "glucose        768 non-null int64\n",
      "diastolic      768 non-null int64\n",
      "triceps        768 non-null int64\n",
      "insulin        768 non-null int64\n",
      "bmi            768 non-null float64\n",
      "dpf            768 non-null float64\n",
      "age            768 non-null int64\n",
      "diabetes       768 non-null int64\n",
      "dtypes: float64(2), int64(7)\n",
      "memory usage: 54.1 KB\n"
     ]
    }
   ],
   "source": [
    "# Loading PIMA Indians dataset\n",
    "diabetes_df = pd.read_csv('./data/diabetes.csv')\n",
    "print(diabetes_df.head())\n",
    "diabetes_df.info()"
   ]
  },
  {
   "cell_type": "code",
   "execution_count": 229,
   "metadata": {},
   "outputs": [
    {
     "name": "stdout",
     "output_type": "stream",
     "text": [
      "<class 'pandas.core.frame.DataFrame'>\n",
      "RangeIndex: 768 entries, 0 to 767\n",
      "Data columns (total 9 columns):\n",
      "pregnancies    768 non-null int64\n",
      "glucose        768 non-null int64\n",
      "diastolic      768 non-null int64\n",
      "triceps        541 non-null float64\n",
      "insulin        394 non-null float64\n",
      "bmi            757 non-null float64\n",
      "dpf            768 non-null float64\n",
      "age            768 non-null int64\n",
      "diabetes       768 non-null int64\n",
      "dtypes: float64(4), int64(5)\n",
      "memory usage: 54.1 KB\n"
     ]
    }
   ],
   "source": [
    "# We will replace the value 0 in the insulin, bmi and triceps to be NaN as these have been coded incorrectly. \n",
    "# We will then drop these records so as not to bias our analysis...\n",
    "diabetes_df.insulin.replace(0, np.nan, inplace = True)\n",
    "diabetes_df.triceps.replace(0, np.nan, inplace = True)\n",
    "diabetes_df.bmi.replace(0, np.nan, inplace = True)\n",
    "diabetes_df.info()"
   ]
  },
  {
   "cell_type": "code",
   "execution_count": 230,
   "metadata": {},
   "outputs": [
    {
     "data": {
      "text/plain": [
       "(393, 9)"
      ]
     },
     "execution_count": 230,
     "metadata": {},
     "output_type": "execute_result"
    }
   ],
   "source": [
    "# Multiple ways to handle missing data\n",
    "# Option 1: drop observations with missing data\n",
    "diabetes_df_dropped = diabetes_df.dropna()\n",
    "diabetes_df_dropped .shape"
   ]
  },
  {
   "cell_type": "code",
   "execution_count": 231,
   "metadata": {},
   "outputs": [
    {
     "data": {
      "text/plain": [
       "(768, 8)"
      ]
     },
     "execution_count": 231,
     "metadata": {},
     "output_type": "execute_result"
    }
   ],
   "source": [
    "# Option 2: impute (make an educated guess of missing values) missing data\n",
    "# Common options are use mean, min, max etc\n",
    "from sklearn.preprocessing import Imputer\n",
    "imp = Imputer(missing_values='NaN', strategy='mean', axis=0)\n",
    "\n",
    "# Generate the feature and target variables\n",
    "db_y = diabetes['diabetes'].values\n",
    "db_X = diabetes.drop('diabetes', axis=1).values\n",
    "db_X.shape, db_y.shape\n",
    "\n",
    "# Fit and transform\n",
    "imp.fit(db_X)\n",
    "db_X = imp.transform(db_X)\n",
    "db_X.shape"
   ]
  },
  {
   "cell_type": "code",
   "execution_count": 232,
   "metadata": {},
   "outputs": [
    {
     "data": {
      "text/plain": [
       "0.7792207792207793"
      ]
     },
     "execution_count": 232,
     "metadata": {},
     "output_type": "execute_result"
    }
   ],
   "source": [
    "# Option 3: Imputing data within a pipeline...\n",
    "# Note that in a pipeline, each step but the last must be a transformer and\n",
    "# the last step must be an estimator such as a classifier or regressor.\n",
    "\n",
    "from sklearn.pipeline import Pipeline\n",
    "from sklearn.preprocessing import Imputer\n",
    "\n",
    "#Set impute parameters\n",
    "imp = Imputer(missing_values='NaN', strategy='mean', axis=0)\n",
    "\n",
    "# Instantiate Logistic Regression\n",
    "db_logreg = LogisticRegression()\n",
    "\n",
    "#Define steps for the pipeline\n",
    "steps = [('imputation',imp),('logistic_regression', db_logreg)]\n",
    "\n",
    "#Execute Pipeline\n",
    "pipeline = Pipeline(steps)\n",
    "\n",
    "#Split into train and test dataset\n",
    "db_X_train, db_X_test, db_y_train, db_y_test = train_test_split(db_X, db_y, test_size = 0.4, random_state = 42)\n",
    "\n",
    "#Pipeline the fit on train set\n",
    "pipeline.fit(db_X_train, db_y_train)\n",
    "\n",
    "#Predict on the test dataset\n",
    "db_y_pred = pipeline.predict(db_X_test)\n",
    "\n",
    "#Compute Accuracy as the metric to evaluate model performance\n",
    "pipeline.score(db_X_test, db_y_test)"
   ]
  },
  {
   "cell_type": "code",
   "execution_count": 233,
   "metadata": {},
   "outputs": [
    {
     "name": "stdout",
     "output_type": "stream",
     "text": [
      "        party infants water budget physician salvador religious satellite aid  \\\n",
      "0  republican       0     1      0         1        1         1         0   0   \n",
      "1    democrat     NaN     1      1       NaN        1         1         0   0   \n",
      "2    democrat       0     1      1         0      NaN         1         0   0   \n",
      "3    democrat       1     1      1         0        1         1         0   0   \n",
      "4    democrat       0     1      1         0        1         1         0   0   \n",
      "\n",
      "  missile immigration synfuels education superfund crime duty_free_exports  \\\n",
      "0       0           0        0         1         1     1                 0   \n",
      "1       0           0        1         0         1     1                 0   \n",
      "2       0           0        1         0         1     0                 0   \n",
      "3       0           0        1       NaN         1     1                 1   \n",
      "4       0           0        0         0         1     1                 1   \n",
      "\n",
      "  eaa_rsa  \n",
      "0     NaN  \n",
      "1       0  \n",
      "2       1  \n",
      "3       1  \n",
      "4       1  \n",
      "Shape of Original DataFrame: (434, 17)\n",
      "Shape of DataFrame After Dropping All Rows with Missing Values: (232, 17)\n"
     ]
    },
    {
     "data": {
      "text/plain": [
       "((232, 16), (232,))"
      ]
     },
     "execution_count": 233,
     "metadata": {},
     "output_type": "execute_result"
    }
   ],
   "source": [
    "# Let us do this again with another dataset...\n",
    "# we will use the voter registration data\n",
    "v_df = pd.read_csv(\"./data/house-votes-84.csv\")\n",
    "v_df.columns = [\"party\", \"infants\", \"water\", \"budget\", \"physician\", \"salvador\", \n",
    "                 \"religious\", \"satellite\", \"aid\", \"missile\", \"immigration\", \"synfuels\", \n",
    "                 \"education\", \"superfund\", \"crime\", \"duty_free_exports\", \"eaa_rsa\"]\n",
    "\n",
    "# Convert '?' to NaN\n",
    "# Convert Y to 1 and N to 0\n",
    "v_df[v_df == '?'] = np.nan\n",
    "v_df[v_df == 'n'] = 0\n",
    "v_df[v_df == 'y'] = 1\n",
    "\n",
    "# Print the number of NaNs\n",
    "print(v_df.head())\n",
    "\n",
    "# Print shape of original DataFrame\n",
    "print(\"Shape of Original DataFrame: {}\".format(v_df.shape))\n",
    "\n",
    "# Drop missing values and print shape of new DataFrame\n",
    "v_df = v_df.dropna()\n",
    "\n",
    "# Print shape of new DataFrame\n",
    "print(\"Shape of DataFrame After Dropping All Rows with Missing Values: {}\".format(v_df.shape))\n",
    "\n",
    "# Generate the feature and target variables\n",
    "y = v_df['party'].values\n",
    "X = v_df.drop('party', axis=1).values\n",
    "X.shape, y.shape"
   ]
  },
  {
   "cell_type": "code",
   "execution_count": 234,
   "metadata": {},
   "outputs": [],
   "source": [
    "# Import the Imputer module\n",
    "from sklearn.preprocessing import Imputer\n",
    "from sklearn.svm import SVC\n",
    "\n",
    "# Setup the Imputation transformer: imp\n",
    "imp = Imputer(missing_values='NaN', strategy='most_frequent', axis=0)\n",
    "\n",
    "# Instantiate the SVC classifier: clf\n",
    "clf = SVC()\n",
    "\n",
    "# Setup the pipeline with the required steps: steps\n",
    "steps = [('imputation', imp),\n",
    "        ('SVM', clf)]"
   ]
  },
  {
   "cell_type": "code",
   "execution_count": 235,
   "metadata": {},
   "outputs": [
    {
     "name": "stdout",
     "output_type": "stream",
     "text": [
      "              precision    recall  f1-score   support\n",
      "\n",
      "    democrat       0.97      0.97      0.97        36\n",
      "  republican       0.97      0.97      0.97        34\n",
      "\n",
      "   micro avg       0.97      0.97      0.97        70\n",
      "   macro avg       0.97      0.97      0.97        70\n",
      "weighted avg       0.97      0.97      0.97        70\n",
      "\n"
     ]
    }
   ],
   "source": [
    "# Import necessary modules\n",
    "from sklearn.preprocessing import Imputer\n",
    "from sklearn.pipeline import Pipeline\n",
    "from sklearn.svm import SVC\n",
    "\n",
    "# Setup the pipeline steps: steps\n",
    "steps = [('imputation', Imputer(missing_values='NaN', strategy='most_frequent', axis=0)),\n",
    "        ('SVM', SVC())]\n",
    "\n",
    "# Create the pipeline: pipeline\n",
    "pipeline = Pipeline(steps)\n",
    "\n",
    "# Create training and test sets\n",
    "X_train, X_test, y_train, y_test = train_test_split(X, y, test_size = 0.3, random_state = 42)\n",
    "\n",
    "# Fit the pipeline to the train set\n",
    "pipeline.fit(X_train, y_train)\n",
    "\n",
    "# Predict the labels of the test set\n",
    "y_pred = pipeline.predict(X_test)\n",
    "\n",
    "# Compute metrics\n",
    "print(classification_report(y_test, y_pred))\n"
   ]
  },
  {
   "cell_type": "markdown",
   "metadata": {},
   "source": [
    "### Centering & Scaling\n",
    "Centering and scaling is also another very important pre-processing step to be performed for supervised learning. The scale of the features will adversely affect the model performance as the prediction can be biased based on scaled parameters. This is because many models use some form of distance to inform them for classification. Features on large scale can unduly influence the model. For example, K-NN algorith specifically uses distance when making predictions. These are the motivations for us wanting the features to be on a similar scale. We achieve this by normalizing (scaling and centering).\n",
    "\n",
    "There are many ways to normalize data.\n",
    "\n",
    "    - Standardization is subtracting the mean and dividing by the variance. This will make sure that all features are centralized around mean=0 with a variance=1.\n",
    "    - Normalize by subtracting the minimum and dividing by the range. This will make the feature values between 0 and 1.\n",
    "    - Normalize feature data such that it ranges from -1 to +1\n",
    "\n",
    "We will use the white wine quality dataset to help describe the Normalization of data."
   ]
  },
  {
   "cell_type": "code",
   "execution_count": 236,
   "metadata": {},
   "outputs": [
    {
     "name": "stdout",
     "output_type": "stream",
     "text": [
      "       fixed acidity  volatile acidity  citric acid  residual sugar  \\\n",
      "count    4898.000000       4898.000000  4898.000000     4898.000000   \n",
      "mean        6.854788          0.278241     0.334192        6.391415   \n",
      "std         0.843868          0.100795     0.121020        5.072058   \n",
      "min         3.800000          0.080000     0.000000        0.600000   \n",
      "25%         6.300000          0.210000     0.270000        1.700000   \n",
      "50%         6.800000          0.260000     0.320000        5.200000   \n",
      "75%         7.300000          0.320000     0.390000        9.900000   \n",
      "max        14.200000          1.100000     1.660000       65.800000   \n",
      "\n",
      "         chlorides  free sulfur dioxide  total sulfur dioxide      density  \\\n",
      "count  4898.000000          4898.000000           4898.000000  4898.000000   \n",
      "mean      0.045772            35.308085            138.360657     0.994027   \n",
      "std       0.021848            17.007137             42.498065     0.002991   \n",
      "min       0.009000             2.000000              9.000000     0.987110   \n",
      "25%       0.036000            23.000000            108.000000     0.991723   \n",
      "50%       0.043000            34.000000            134.000000     0.993740   \n",
      "75%       0.050000            46.000000            167.000000     0.996100   \n",
      "max       0.346000           289.000000            440.000000     1.038980   \n",
      "\n",
      "                pH    sulphates      alcohol      quality  \n",
      "count  4898.000000  4898.000000  4898.000000  4898.000000  \n",
      "mean      3.188267     0.489847    10.514267     5.877909  \n",
      "std       0.151001     0.114126     1.230621     0.885639  \n",
      "min       2.720000     0.220000     8.000000     3.000000  \n",
      "25%       3.090000     0.410000     9.500000     5.000000  \n",
      "50%       3.180000     0.470000    10.400000     6.000000  \n",
      "75%       3.280000     0.550000    11.400000     6.000000  \n",
      "max       3.820000     1.080000    14.200000     9.000000  \n"
     ]
    },
    {
     "data": {
      "text/plain": [
       "((4898, 12), (4898,))"
      ]
     },
     "execution_count": 236,
     "metadata": {},
     "output_type": "execute_result"
    }
   ],
   "source": [
    "# Read white wine quality data into a DataFrame: wwq\n",
    "wwq = pd.read_csv('./data/white-wine.csv')\n",
    "\n",
    "#Understand the summery statistics\n",
    "print(wwq.describe())\n",
    "\n",
    "# Generate the feature and target variables\n",
    "wwq_y = wwq['quality'].values\n",
    "#wwq_X = wwq.drop('quality', axis=1).values\n",
    "wwq_X = wwq.values\n",
    "wwq_X.shape, wwq_y.shape"
   ]
  },
  {
   "cell_type": "code",
   "execution_count": 237,
   "metadata": {},
   "outputs": [
    {
     "name": "stdout",
     "output_type": "stream",
     "text": [
      "Mean of Unscaled Features: 17.386455595651285\n",
      "Standard Deviation of Unscaled Features: 39.92814468405534\n",
      "Mean of Scaled Features: 2.5066529920351295e-15\n",
      "Standard Deviation of Scaled Features: 1.0\n"
     ]
    }
   ],
   "source": [
    "# This section highlights the standardization of data\n",
    "# Import scale\n",
    "from sklearn.preprocessing import scale\n",
    "\n",
    "# Scale the features: X_scaled\n",
    "wwq_X_scaled = scale(wwq_X)\n",
    "\n",
    "# Print the mean and standard deviation of the unscaled features\n",
    "print(\"Mean of Unscaled Features: {}\".format(np.mean(wwq_X))) \n",
    "print(\"Standard Deviation of Unscaled Features: {}\".format(np.std(wwq_X)))\n",
    "\n",
    "# Print the mean and standard deviation of the scaled features\n",
    "print(\"Mean of Scaled Features: {}\".format(np.mean(wwq_X_scaled))) \n",
    "print(\"Standard Deviation of Scaled Features: {}\".format(np.std(wwq_X_scaled)))"
   ]
  },
  {
   "cell_type": "code",
   "execution_count": 238,
   "metadata": {},
   "outputs": [
    {
     "name": "stdout",
     "output_type": "stream",
     "text": [
      "Accuracy with Scaling: 0.8789115646258503\n",
      "Accuracy without Scaling: 0.5108843537414965\n"
     ]
    }
   ],
   "source": [
    "# Now performing scaling and KNN classification in a pipeline\n",
    "# using the White Wine Quality dataset...\n",
    "\n",
    "# Import the necessary modules\n",
    "from sklearn.preprocessing import StandardScaler\n",
    "from sklearn.pipeline import Pipeline\n",
    "\n",
    "# Setup the pipeline steps: steps\n",
    "steps = [('scaler', StandardScaler()),\n",
    "        ('knn', KNeighborsClassifier())]\n",
    "        \n",
    "# Create the pipeline: pipeline\n",
    "pipeline = Pipeline(steps)\n",
    "\n",
    "# Create train and test sets\n",
    "wwq_X_train, wwq_X_test, wwq_y_train, wwq_y_test = train_test_split(wwq_X, wwq_y, test_size = 0.3, random_state = 42)\n",
    "\n",
    "# Fit the pipeline to the training set: knn_scaled\n",
    "wwq_knn_scaled = pipeline.fit(wwq_X_train, wwq_y_train)\n",
    "\n",
    "# Instantiate and fit a k-NN classifier to the unscaled data\n",
    "wwq_knn_unscaled = KNeighborsClassifier().fit(wwq_X_train, wwq_y_train)\n",
    "\n",
    "# Compute and print metrics\n",
    "print('Accuracy with Scaling: {}'.format(wwq_knn_scaled.score(wwq_X_test, wwq_y_test)))\n",
    "print('Accuracy without Scaling: {}'.format(wwq_knn_unscaled.score(wwq_X_test, wwq_y_test)))\n",
    "\n",
    "\n"
   ]
  },
  {
   "cell_type": "markdown",
   "metadata": {},
   "source": [
    "### Bringing it all together"
   ]
  },
  {
   "cell_type": "markdown",
   "metadata": {},
   "source": [
    "#### Classification"
   ]
  },
  {
   "cell_type": "code",
   "execution_count": 239,
   "metadata": {},
   "outputs": [
    {
     "name": "stdout",
     "output_type": "stream",
     "text": [
      "Accuracy: 1.0\n",
      "              precision    recall  f1-score   support\n",
      "\n",
      "           3       1.00      1.00      1.00         1\n",
      "           4       1.00      1.00      1.00        28\n",
      "           5       1.00      1.00      1.00       289\n",
      "           6       1.00      1.00      1.00       447\n",
      "           7       1.00      1.00      1.00       177\n",
      "           8       1.00      1.00      1.00        38\n",
      "\n",
      "   micro avg       1.00      1.00      1.00       980\n",
      "   macro avg       1.00      1.00      1.00       980\n",
      "weighted avg       1.00      1.00      1.00       980\n",
      "\n",
      "Tuned Model Parameters: {'SVM__C': 100, 'SVM__gamma': 0.01}\n"
     ]
    }
   ],
   "source": [
    "# using the White Wine Quality dataset...\n",
    "\n",
    "# Now performing scaling and SVM classification in a pipeline\n",
    "# Setup the pipeline\n",
    "steps = [('scaler', StandardScaler()),\n",
    "         ('SVM', SVC())]\n",
    "\n",
    "pipeline = Pipeline(steps)\n",
    "\n",
    "# Specify the hyperparameter space\n",
    "parameters = {'SVM__C':[1, 10, 100],\n",
    "              'SVM__gamma':[0.1, 0.01]}\n",
    "\n",
    "# Create train and test sets\n",
    "wwq_X_train, wwq_X_test, wwq_y_train, wwq_y_test = train_test_split(wwq_X, wwq_y, test_size = 0.2, random_state = 21)\n",
    "\n",
    "# Instantiate the GridSearchCV object: cv\n",
    "wwq_cv = GridSearchCV(pipeline, param_grid = parameters)\n",
    "\n",
    "# Fit to the training set\n",
    "wwq_cv.fit(wwq_X_train, wwq_y_train)\n",
    "\n",
    "# Predict the labels of the test set: y_pred\n",
    "wwq_y_pred = wwq_cv.predict(wwq_X_test)\n",
    "\n",
    "# Compute and print metrics\n",
    "print(\"Accuracy: {}\".format(wwq_cv.score(wwq_X_test, wwq_y_test)))\n",
    "print(classification_report(wwq_y_test, wwq_y_pred))\n",
    "print(\"Tuned Model Parameters: {}\".format(wwq_cv.best_params_))\n"
   ]
  },
  {
   "cell_type": "markdown",
   "metadata": {},
   "source": [
    "#### Regression\n",
    "We will use the gap minder dataset for the final regression classification..."
   ]
  },
  {
   "cell_type": "code",
   "execution_count": 240,
   "metadata": {},
   "outputs": [
    {
     "name": "stderr",
     "output_type": "stream",
     "text": [
      "/anaconda3/lib/python3.7/site-packages/sklearn/linear_model/coordinate_descent.py:492: ConvergenceWarning: Objective did not converge. You might want to increase the number of iterations. Fitting data with very small alpha may cause precision problems.\n",
      "  ConvergenceWarning)\n",
      "/anaconda3/lib/python3.7/site-packages/sklearn/linear_model/coordinate_descent.py:492: ConvergenceWarning: Objective did not converge. You might want to increase the number of iterations. Fitting data with very small alpha may cause precision problems.\n",
      "  ConvergenceWarning)\n",
      "/anaconda3/lib/python3.7/site-packages/sklearn/linear_model/coordinate_descent.py:492: ConvergenceWarning: Objective did not converge. You might want to increase the number of iterations. Fitting data with very small alpha may cause precision problems.\n",
      "  ConvergenceWarning)\n"
     ]
    },
    {
     "name": "stdout",
     "output_type": "stream",
     "text": [
      "Tuned ElasticNet Alpha: {'elasticnet__l1_ratio': 1.0}\n",
      "Tuned ElasticNet R squared: 0.8862016570888217\n"
     ]
    }
   ],
   "source": [
    "# Setup the pipeline steps: steps\n",
    "steps = [('imputation', Imputer(missing_values='NaN', strategy='mean', axis=0)),\n",
    "         ('scaler', StandardScaler()),\n",
    "         ('elasticnet', ElasticNet())]\n",
    "\n",
    "# Create the pipeline: pipeline \n",
    "pipeline = Pipeline(steps)\n",
    "\n",
    "# Specify the hyperparameter space\n",
    "parameters = {'elasticnet__l1_ratio':np.linspace(0,1,30)}\n",
    "\n",
    "# Create train and test sets\n",
    "gm_X_train, gm_X_test, gm_y_train, gm_y_test = train_test_split(gm_X, gm_y, test_size = 0.4, random_state = 42)\n",
    "\n",
    "# Create the GridSearchCV object: gm_cv\n",
    "gm_cv = GridSearchCV(pipeline, param_grid=parameters)\n",
    "\n",
    "# Fit to the training set\n",
    "gm_cv.fit(gm_X_train, gm_y_train)\n",
    "\n",
    "# Compute and print the metrics\n",
    "r2 = gm_cv.score(gm_X_test, gm_y_test)\n",
    "print(\"Tuned ElasticNet Alpha: {}\".format(gm_cv.best_params_))\n",
    "print(\"Tuned ElasticNet R squared: {}\".format(r2))"
   ]
  },
  {
   "cell_type": "markdown",
   "metadata": {},
   "source": [
    "# Conclusion\n",
    "In the analysis using python code portfolio we have walked through the process of not just analysing the data, but also the pre-processing and preparation that will be required. We had used multiple datasets to highlight certain specific concepts and the context in which one would apply some of the analysis techniques. The sections here should be a good primer for understanding supervised learning techniques, but in no means exhaustive. These sections are expected to gorw over time as we identify new areas that we would want to highlight in the code portfolio. In that sense, the goal would be for these contents to be part of a living document."
   ]
  },
  {
   "cell_type": "code",
   "execution_count": null,
   "metadata": {},
   "outputs": [],
   "source": []
  }
 ],
 "metadata": {
  "kernelspec": {
   "display_name": "Python 3",
   "language": "python",
   "name": "python3"
  },
  "language_info": {
   "codemirror_mode": {
    "name": "ipython",
    "version": 3
   },
   "file_extension": ".py",
   "mimetype": "text/x-python",
   "name": "python",
   "nbconvert_exporter": "python",
   "pygments_lexer": "ipython3",
   "version": "3.7.1"
  },
  "toc": {
   "base_numbering": 1,
   "nav_menu": {},
   "number_sections": true,
   "sideBar": true,
   "skip_h1_title": false,
   "title_cell": "Table of Contents",
   "title_sidebar": "Contents",
   "toc_cell": true,
   "toc_position": {},
   "toc_section_display": true,
   "toc_window_display": true
  }
 },
 "nbformat": 4,
 "nbformat_minor": 2
}
